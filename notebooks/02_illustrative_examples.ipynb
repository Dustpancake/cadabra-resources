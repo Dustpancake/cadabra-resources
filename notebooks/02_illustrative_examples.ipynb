{
 "cells": [
  {
   "cell_type": "markdown",
   "metadata": {},
   "source": [
    "# Illustrative Examples\n",
    "In this notebook, we will solve some problems and use them as examples to illustrate features of Cadabra."
   ]
  },
  {
   "cell_type": "markdown",
   "metadata": {},
   "source": [
    "## Wildcards and independet indices\n",
    "When defining an operation, such as the covariant derivative, Cadabra does not explicitly know how to handle indices up and indices down, and will sometimes switch between them without properly applying the metric, and/or leading to less desireable equation forms ( a connection with three up indices ). \n",
    "\n",
    "Another behaviour by default in Cadabra, is that the rules we define are explicit unless we use a wildcard operation `?` in our argument; that is to say\n",
    "```\n",
    "A^{a} -> B^{a}\n",
    "```\n",
    "will only transform the tensor symbol $A^a$ into $B^a$, whereas\n",
    "```\n",
    "A?^{a} -> B^{a}\n",
    "```\n",
    "will transform any $\\,^1_0$ tensor into $B^a$. Let us illustrate an example.\n",
    "\n",
    "We define our indices as being `independent`, and through this tell Cadabra that we want strict control over the raising and lowering operations:"
   ]
  },
  {
   "cell_type": "code",
   "execution_count": 1,
   "metadata": {},
   "outputs": [],
   "source": [
    "{a,b,c,d,e,f,g,h,i,j,k,l,m,n,o,p,q,r,s,t,u#}::Indices(position=independent).\n",
    "\n",
    "\\nabla{#}::Derivative.\n",
    "\\partial{#}::PartialDerivative."
   ]
  },
  {
   "cell_type": "markdown",
   "metadata": {},
   "source": [
    "Next, we create a single replacement rule any $\\,^1_0$ or $\\,^0_1$ covariant derivative. We do this using a list, which we can call with `repeat=True` in `substitute`:"
   ]
  },
  {
   "cell_type": "code",
   "execution_count": 2,
   "metadata": {
    "scrolled": true
   },
   "outputs": [
    {
     "data": {
      "text/markdown": [
       "${}\\left[\\nabla_{a}\\left(A?^{b}\\right) \\rightarrow \\partial_{a}\\left(A?^{b}\\right)+\\Gamma^{b}\\,_{c a} A?^{c},~ \\nabla_{a}\\left(A?_{b}\\right) \\rightarrow \\partial_{a}\\left(A?_{b}\\right)-\\Gamma^{c}\\,_{b a} A?_{c}\\right]$"
      ]
     },
     "execution_count": 2,
     "metadata": {},
     "output_type": "execute_result"
    }
   ],
   "source": [
    "deriv1 := \\nabla_{a}{A?^{b}} -> \\partial_{a}{A?^{b}}\n",
    "    + \\Gamma^{b}_{c a} A?^{c}.\n",
    "\n",
    "deriv2 := \\nabla_{a}{A?_{b}} -> \\partial_{a}{A?_{b}}\n",
    "    - \\Gamma^{c}_{b a} A?_{c}.\n",
    "\n",
    "deriv := {@(deriv1), @(deriv2)};"
   ]
  },
  {
   "cell_type": "markdown",
   "metadata": {},
   "source": [
    "Now we define the expression we wish to act on:"
   ]
  },
  {
   "cell_type": "code",
   "execution_count": 3,
   "metadata": {},
   "outputs": [
    {
     "data": {
      "text/markdown": [
       "${}\\nabla_{a}\\left(v_{b} u^{b}\\right)-\\partial_{a}\\left(v_{b} u^{b}\\right)$"
      ]
     },
     "execution_count": 3,
     "metadata": {},
     "output_type": "execute_result"
    }
   ],
   "source": [
    "uv := \\nabla_{a}{v_{b} u^{b}} - \\partial_{a}{v_{b} u^{b}};"
   ]
  },
  {
   "cell_type": "markdown",
   "metadata": {},
   "source": [
    "Because we told Cadabra that $\\nabla$ and $\\partial$ act as derivatives, we can use an algorithm like `product_rule` to expand the expression:"
   ]
  },
  {
   "cell_type": "code",
   "execution_count": 4,
   "metadata": {
    "scrolled": true
   },
   "outputs": [
    {
     "data": {
      "text/markdown": [
       "${}\\nabla_{a}{v_{b}} u^{b}+v_{b} \\nabla_{a}{u^{b}}-\\partial_{a}{v_{b}} u^{b}-v_{b} \\partial_{a}{u^{b}}$"
      ]
     },
     "execution_count": 4,
     "metadata": {},
     "output_type": "execute_result"
    }
   ],
   "source": [
    "product_rule(uv);"
   ]
  },
  {
   "cell_type": "markdown",
   "metadata": {},
   "source": [
    "Then we can apply our regular substitution and distributions:"
   ]
  },
  {
   "cell_type": "code",
   "execution_count": 5,
   "metadata": {
    "scrolled": true
   },
   "outputs": [
    {
     "data": {
      "text/markdown": [
       "${}\\left(\\partial_{a}{v_{b}}-\\Gamma^{c}\\,_{b a} v_{c}\\right) u^{b}+v_{b} \\left(\\partial_{a}{u^{b}}+\\Gamma^{b}\\,_{c a} u^{c}\\right)-\\partial_{a}{v_{b}} u^{b}-v_{b} \\partial_{a}{u^{b}}$"
      ]
     },
     "execution_count": 5,
     "metadata": {},
     "output_type": "execute_result"
    },
    {
     "data": {
      "text/markdown": [
       "${}-\\Gamma^{c}\\,_{b a} v_{c} u^{b}+v_{b} \\Gamma^{b}\\,_{c a} u^{c}$"
      ]
     },
     "execution_count": 5,
     "metadata": {},
     "output_type": "execute_result"
    }
   ],
   "source": [
    "substitute(uv, deriv, repeat=True);\n",
    "distribute(uv);"
   ]
  },
  {
   "cell_type": "markdown",
   "metadata": {},
   "source": [
    "Finally we use `sort_product` to arrange the result in the Cadabra sort hierarchy, and call `rename_dummies` to simplify the expression:"
   ]
  },
  {
   "cell_type": "code",
   "execution_count": 6,
   "metadata": {},
   "outputs": [
    {
     "data": {
      "text/markdown": [
       "${}-\\Gamma^{c}\\,_{b a} u^{b} v_{c}+\\Gamma^{b}\\,_{c a} u^{c} v_{b}$"
      ]
     },
     "execution_count": 6,
     "metadata": {},
     "output_type": "execute_result"
    },
    {
     "data": {
      "text/markdown": [
       "${}0$"
      ]
     },
     "execution_count": 6,
     "metadata": {},
     "output_type": "execute_result"
    }
   ],
   "source": [
    "sort_product(uv);\n",
    "rename_dummies(uv);"
   ]
  },
  {
   "cell_type": "markdown",
   "metadata": {},
   "source": [
    "## Assembling substitution rules\n",
    "Let us now use an example which requires many rules for substitution and expansion; consider we want to show\n",
    "$$\n",
    "\\nabla_{a}{v_{b c}} = \\partial_{a}{v_{b c}} - \\Gamma^{d}_{b a} v_{d c} - \\Gamma^{d}_{c a} v_{b d}.\n",
    "$$\n",
    "\n",
    "To do this, we define the rules:"
   ]
  },
  {
   "cell_type": "code",
   "execution_count": 7,
   "metadata": {},
   "outputs": [
    {
     "data": {
      "text/markdown": [
       "${}\\left[\\nabla_{a}\\left(A?^{b}\\right) \\rightarrow \\partial_{a}\\left(A?^{b}\\right)+\\Gamma^{b}\\,_{c a} A?^{c},~ \\nabla_{a}\\left(A?_{b}\\right) \\rightarrow \\partial_{a}\\left(A?_{b}\\right)-\\Gamma^{c}\\,_{b a} A?_{c}\\right]$"
      ]
     },
     "execution_count": 7,
     "metadata": {},
     "output_type": "execute_result"
    },
    {
     "data": {
      "text/markdown": [
       "${}v_{a b} \\rightarrow A_{a} B_{b}$"
      ]
     },
     "execution_count": 7,
     "metadata": {},
     "output_type": "execute_result"
    },
    {
     "data": {
      "text/markdown": [
       "${}A_{a} B_{b} \\rightarrow v_{a b}$"
      ]
     },
     "execution_count": 7,
     "metadata": {},
     "output_type": "execute_result"
    },
    {
     "data": {
      "text/markdown": [
       "${}\\partial_{a}{A_{b}} B_{c} \\rightarrow \\partial_{a}\\left(A_{b} B_{c}\\right)-A_{b} \\partial_{a}{B_{c}}$"
      ]
     },
     "execution_count": 7,
     "metadata": {},
     "output_type": "execute_result"
    }
   ],
   "source": [
    "derivU := \\nabla_{a}{A?^{b}} -> \n",
    "    \\partial_{a}{A?^{b}} + \\Gamma^{b}_{c a} A?^{c}.\n",
    "derivD := \\nabla_{a}{A?_{b}} -> \n",
    "    \\partial_{a}{A?_{b}} - \\Gamma^{c}_{b a} A?_{c}.\n",
    "\n",
    "deriv := {@(derivU), @(derivD)};\n",
    "\n",
    "vab := v_{a b} -> A_{a} B_{b};\n",
    "iab := A_{a} B_{b} -> v_{a b};\n",
    "\n",
    "pab := \\partial_{a}{A_{b}} B_{c} -> \\partial_{a}{A_{b} B_{c}} - A_{b} \\partial_{a}{B_{c}};"
   ]
  },
  {
   "cell_type": "markdown",
   "metadata": {},
   "source": [
    "Then we create our problem expression:"
   ]
  },
  {
   "cell_type": "code",
   "execution_count": 8,
   "metadata": {},
   "outputs": [
    {
     "data": {
      "text/markdown": [
       "${}\\nabla_{a}{v_{b c}}$"
      ]
     },
     "execution_count": 8,
     "metadata": {},
     "output_type": "execute_result"
    }
   ],
   "source": [
    "Dvab := \\nabla_{a}{v_{b c}};"
   ]
  },
  {
   "cell_type": "markdown",
   "metadata": {},
   "source": [
    "And apply our rules:"
   ]
  },
  {
   "cell_type": "code",
   "execution_count": 9,
   "metadata": {},
   "outputs": [
    {
     "data": {
      "text/markdown": [
       "${}\\nabla_{a}\\left(A_{b} B_{c}\\right)$"
      ]
     },
     "execution_count": 9,
     "metadata": {},
     "output_type": "execute_result"
    },
    {
     "data": {
      "text/markdown": [
       "${}\\nabla_{a}{A_{b}} B_{c}+A_{b} \\nabla_{a}{B_{c}}$"
      ]
     },
     "execution_count": 9,
     "metadata": {},
     "output_type": "execute_result"
    },
    {
     "data": {
      "text/markdown": [
       "${}\\left(\\partial_{a}{A_{b}}-\\Gamma^{d}\\,_{b a} A_{d}\\right) B_{c}+A_{b} \\left(\\partial_{a}{B_{c}}-\\Gamma^{d}\\,_{c a} B_{d}\\right)$"
      ]
     },
     "execution_count": 9,
     "metadata": {},
     "output_type": "execute_result"
    },
    {
     "data": {
      "text/markdown": [
       "${}\\partial_{a}{A_{b}} B_{c}-\\Gamma^{d}\\,_{b a} A_{d} B_{c}+A_{b} \\partial_{a}{B_{c}}-A_{b} \\Gamma^{d}\\,_{c a} B_{d}$"
      ]
     },
     "execution_count": 9,
     "metadata": {},
     "output_type": "execute_result"
    },
    {
     "data": {
      "text/markdown": [
       "${}\\partial_{a}\\left(A_{b} B_{c}\\right)-\\Gamma^{d}\\,_{b a} A_{d} B_{c}-A_{b} \\Gamma^{d}\\,_{c a} B_{d}$"
      ]
     },
     "execution_count": 9,
     "metadata": {},
     "output_type": "execute_result"
    },
    {
     "data": {
      "text/markdown": [
       "${}\\partial_{a}\\left(A_{b} B_{c}\\right)-\\Gamma^{d}\\,_{b a} A_{d} B_{c}-A_{b} \\Gamma^{d}\\,_{c a} B_{d}$"
      ]
     },
     "execution_count": 9,
     "metadata": {},
     "output_type": "execute_result"
    },
    {
     "data": {
      "text/markdown": [
       "${}\\partial_{a}{v_{b c}}-\\Gamma^{d}\\,_{b a} v_{d c}-v_{b d} \\Gamma^{d}\\,_{c a}$"
      ]
     },
     "execution_count": 9,
     "metadata": {},
     "output_type": "execute_result"
    },
    {
     "data": {
      "text/markdown": [
       "${}\\partial_{a}{v_{b c}}-\\Gamma^{d}\\,_{b a} v_{d c}-\\Gamma^{d}\\,_{c a} v_{b d}$"
      ]
     },
     "execution_count": 9,
     "metadata": {},
     "output_type": "execute_result"
    }
   ],
   "source": [
    "substitute(Dvab, vab);\n",
    "product_rule(Dvab);\n",
    "substitute(Dvab, deriv, repeat=True);\n",
    "distribute(Dvab);\n",
    "substitute(Dvab, pab);\n",
    "canonicalise(Dvab);\n",
    "substitute(Dvab, iab);\n",
    "sort_product(Dvab);"
   ]
  },
  {
   "cell_type": "markdown",
   "metadata": {},
   "source": [
    "What if we changed our prescription to:"
   ]
  },
  {
   "cell_type": "code",
   "execution_count": 10,
   "metadata": {},
   "outputs": [
    {
     "data": {
      "text/markdown": [
       "${}\\nabla_{a}{v^{b}\\,_{c}}$"
      ]
     },
     "execution_count": 10,
     "metadata": {},
     "output_type": "execute_result"
    }
   ],
   "source": [
    "Dvab := \\nabla_{a}{v^{b}_{c}};"
   ]
  },
  {
   "cell_type": "markdown",
   "metadata": {},
   "source": [
    "Now we need to add the rules:"
   ]
  },
  {
   "cell_type": "code",
   "execution_count": 11,
   "metadata": {},
   "outputs": [
    {
     "data": {
      "text/markdown": [
       "${}v^{a}\\,_{b} \\rightarrow A^{a} B_{b}$"
      ]
     },
     "execution_count": 11,
     "metadata": {},
     "output_type": "execute_result"
    },
    {
     "data": {
      "text/markdown": [
       "${}A^{a} B_{b} \\rightarrow v^{a}\\,_{b}$"
      ]
     },
     "execution_count": 11,
     "metadata": {},
     "output_type": "execute_result"
    },
    {
     "data": {
      "text/markdown": [
       "${}\\partial_{a}{A^{b}} B_{c} \\rightarrow \\partial_{a}\\left(A^{b} B_{c}\\right)-A^{b} \\partial_{a}{B_{c}}$"
      ]
     },
     "execution_count": 11,
     "metadata": {},
     "output_type": "execute_result"
    }
   ],
   "source": [
    "vab := v^{a}_{b} -> A^{a} B_{b};\n",
    "iab := A^{a} B_{b} -> v^{a}_{b};\n",
    "\n",
    "pab := \\partial_{a}{A^{b}} B_{c} -> \\partial_{a}{A^{b} B_{c}} - A^{b} \\partial_{a}{B_{c}};"
   ]
  },
  {
   "cell_type": "markdown",
   "metadata": {},
   "source": [
    "These are very similar to our previous rules, however for the case where we have an index up. We can still apply the same solving method once we have our new rules in place:"
   ]
  },
  {
   "cell_type": "code",
   "execution_count": 12,
   "metadata": {},
   "outputs": [
    {
     "data": {
      "text/markdown": [
       "${}\\nabla_{a}\\left(A^{b} B_{c}\\right)$"
      ]
     },
     "execution_count": 12,
     "metadata": {},
     "output_type": "execute_result"
    },
    {
     "data": {
      "text/markdown": [
       "${}\\nabla_{a}{A^{b}} B_{c}+A^{b} \\nabla_{a}{B_{c}}$"
      ]
     },
     "execution_count": 12,
     "metadata": {},
     "output_type": "execute_result"
    },
    {
     "data": {
      "text/markdown": [
       "${}\\left(\\partial_{a}{A^{b}}+\\Gamma^{b}\\,_{d a} A^{d}\\right) B_{c}+A^{b} \\left(\\partial_{a}{B_{c}}-\\Gamma^{d}\\,_{c a} B_{d}\\right)$"
      ]
     },
     "execution_count": 12,
     "metadata": {},
     "output_type": "execute_result"
    },
    {
     "data": {
      "text/markdown": [
       "${}\\partial_{a}{A^{b}} B_{c}+\\Gamma^{b}\\,_{d a} A^{d} B_{c}+A^{b} \\partial_{a}{B_{c}}-A^{b} \\Gamma^{d}\\,_{c a} B_{d}$"
      ]
     },
     "execution_count": 12,
     "metadata": {},
     "output_type": "execute_result"
    },
    {
     "data": {
      "text/markdown": [
       "${}\\partial_{a}\\left(A^{b} B_{c}\\right)+\\Gamma^{b}\\,_{d a} A^{d} B_{c}-A^{b} \\Gamma^{d}\\,_{c a} B_{d}$"
      ]
     },
     "execution_count": 12,
     "metadata": {},
     "output_type": "execute_result"
    },
    {
     "data": {
      "text/markdown": [
       "${}\\partial_{a}\\left(A^{b} B_{c}\\right)+\\Gamma^{b}\\,_{d a} A^{d} B_{c}-A^{b} \\Gamma^{d}\\,_{c a} B_{d}$"
      ]
     },
     "execution_count": 12,
     "metadata": {},
     "output_type": "execute_result"
    },
    {
     "data": {
      "text/markdown": [
       "${}\\partial_{a}{v^{b}\\,_{c}}+\\Gamma^{b}\\,_{d a} v^{d}\\,_{c}-v^{b}\\,_{d} \\Gamma^{d}\\,_{c a}$"
      ]
     },
     "execution_count": 12,
     "metadata": {},
     "output_type": "execute_result"
    },
    {
     "data": {
      "text/markdown": [
       "${}\\partial_{a}{v^{b}\\,_{c}}+\\Gamma^{b}\\,_{d a} v^{d}\\,_{c}-\\Gamma^{d}\\,_{c a} v^{b}\\,_{d}$"
      ]
     },
     "execution_count": 12,
     "metadata": {},
     "output_type": "execute_result"
    }
   ],
   "source": [
    "substitute(Dvab, vab);\n",
    "product_rule(Dvab);\n",
    "substitute(Dvab, deriv, repeat=True);\n",
    "distribute(Dvab);\n",
    "substitute(Dvab, pab);\n",
    "canonicalise(Dvab);\n",
    "substitute(Dvab, iab);\n",
    "sort_product(Dvab);"
   ]
  },
  {
   "cell_type": "markdown",
   "metadata": {},
   "source": [
    "## Chaining rules together\n",
    "We can create quite complex and involved rules by calling `substitute` on themselves. Consider the first and second covariant derivative:"
   ]
  },
  {
   "cell_type": "code",
   "execution_count": 13,
   "metadata": {},
   "outputs": [
    {
     "data": {
      "text/markdown": [
       "${}\\nabla_{a}{v^{b}} \\rightarrow \\partial_{a}{v^{b}}+\\Gamma^{b}\\,_{d a} v^{d}$"
      ]
     },
     "execution_count": 13,
     "metadata": {},
     "output_type": "execute_result"
    },
    {
     "data": {
      "text/markdown": [
       "${}\\nabla_{a}\\left(\\nabla_{b}{v^{c}}\\right) \\rightarrow \\partial_{a}\\left(\\nabla_{b}{v^{c}}\\right)+\\Gamma^{c}\\,_{d a} \\nabla_{b}{v^{d}}-\\Gamma^{d}\\,_{b a} \\nabla_{d}{v^{c}}$"
      ]
     },
     "execution_count": 13,
     "metadata": {},
     "output_type": "execute_result"
    }
   ],
   "source": [
    "deriv1 := \\nabla_{a}{v^{b}} -> \\partial_{a}{v^{b}}\n",
    "    + \\Gamma^{b}_{d a} v^{d};\n",
    "\n",
    "deriv2 := \\nabla_{a}{\\nabla_{b}{v^{c}}} -> \n",
    "    \\partial_{a}{\\nabla_{b}{v^{c}}}\n",
    "    + \\Gamma^{c}_{d a} \\nabla_{b}{v^{d}}\n",
    "    - \\Gamma^{d}_{b a} \\nabla_{d}{v^{c}};"
   ]
  },
  {
   "cell_type": "markdown",
   "metadata": {},
   "source": [
    "We can combine them as such:"
   ]
  },
  {
   "cell_type": "code",
   "execution_count": 14,
   "metadata": {},
   "outputs": [
    {
     "data": {
      "text/markdown": [
       "${}\\nabla_{a}\\left(\\partial_{b}{v^{c}}+\\Gamma^{c}\\,_{d b} v^{d}\\right) \\rightarrow \\partial_{a}\\left(\\partial_{b}{v^{c}}+\\Gamma^{c}\\,_{d b} v^{d}\\right)+\\Gamma^{c}\\,_{d a} \\left(\\partial_{b}{v^{d}}+\\Gamma^{d}\\,_{e b} v^{e}\\right)-\\Gamma^{d}\\,_{b a} \\left(\\partial_{d}{v^{c}}+\\Gamma^{c}\\,_{e d} v^{e}\\right)$"
      ]
     },
     "execution_count": 14,
     "metadata": {},
     "output_type": "execute_result"
    }
   ],
   "source": [
    "hold := @(deriv2).\n",
    "substitute(hold,deriv1);"
   ]
  },
  {
   "cell_type": "markdown",
   "metadata": {},
   "source": [
    "But this creates a problem; the call to substitute also replaced the argument of our rule on the LHS. We can avoid this by crafting an intermediary expression to substitute through:"
   ]
  },
  {
   "cell_type": "code",
   "execution_count": 15,
   "metadata": {},
   "outputs": [
    {
     "data": {
      "text/markdown": [
       "${}v^{c}\\,_{b a} \\rightarrow \\nabla_{a}\\left(\\nabla_{b}{v^{c}}\\right)$"
      ]
     },
     "execution_count": 15,
     "metadata": {},
     "output_type": "execute_result"
    }
   ],
   "source": [
    "expr := v^{c}_{b a} -> \\nabla_{a}{\\nabla_{b}{v^{c}}};\n",
    "save := @(expr)."
   ]
  },
  {
   "cell_type": "code",
   "execution_count": 16,
   "metadata": {},
   "outputs": [
    {
     "data": {
      "text/markdown": [
       "${}v^{c}\\,_{b a} \\rightarrow \\partial_{a}\\left(\\nabla_{b}{v^{c}}\\right)+\\Gamma^{c}\\,_{d a} \\nabla_{b}{v^{d}}-\\Gamma^{d}\\,_{b a} \\nabla_{d}{v^{c}}$"
      ]
     },
     "execution_count": 16,
     "metadata": {},
     "output_type": "execute_result"
    },
    {
     "data": {
      "text/markdown": [
       "${}v^{c}\\,_{b a} \\rightarrow \\partial_{a}\\left(\\partial_{b}{v^{c}}+\\Gamma^{c}\\,_{d b} v^{d}\\right)+\\Gamma^{c}\\,_{d a} \\left(\\partial_{b}{v^{d}}+\\Gamma^{d}\\,_{e b} v^{e}\\right)-\\Gamma^{d}\\,_{b a} \\left(\\partial_{d}{v^{c}}+\\Gamma^{c}\\,_{e d} v^{e}\\right)$"
      ]
     },
     "execution_count": 16,
     "metadata": {},
     "output_type": "execute_result"
    },
    {
     "data": {
      "text/markdown": [
       "${}v^{c}\\,_{b a} \\rightarrow \\partial_{a b}{v^{c}}+\\partial_{a}\\left(\\Gamma^{c}\\,_{d b} v^{d}\\right)+\\Gamma^{c}\\,_{d a} \\partial_{b}{v^{d}}+\\Gamma^{c}\\,_{d a} \\Gamma^{d}\\,_{e b} v^{e}-\\Gamma^{d}\\,_{b a} \\partial_{d}{v^{c}}-\\Gamma^{d}\\,_{b a} \\Gamma^{c}\\,_{e d} v^{e}$"
      ]
     },
     "execution_count": 16,
     "metadata": {},
     "output_type": "execute_result"
    },
    {
     "data": {
      "text/markdown": [
       "${}v^{c}\\,_{b a} \\rightarrow \\partial_{a b}{v^{c}}+\\partial_{a}{\\Gamma^{c}\\,_{d b}} v^{d}+\\Gamma^{c}\\,_{d b} \\partial_{a}{v^{d}}+\\Gamma^{c}\\,_{d a} \\partial_{b}{v^{d}}+\\Gamma^{c}\\,_{d a} \\Gamma^{d}\\,_{e b} v^{e}-\\Gamma^{d}\\,_{b a} \\partial_{d}{v^{c}}-\\Gamma^{d}\\,_{b a} \\Gamma^{c}\\,_{e d} v^{e}$"
      ]
     },
     "execution_count": 16,
     "metadata": {},
     "output_type": "execute_result"
    },
    {
     "data": {
      "text/markdown": [
       "${}v^{c}\\,_{b a} \\rightarrow \\partial_{a b}{v^{c}}+\\partial_{a}{\\Gamma^{c}\\,_{d b}} v^{d}+\\Gamma^{c}\\,_{d b} \\partial_{a}{v^{d}}+\\Gamma^{c}\\,_{d a} \\partial_{b}{v^{d}}+\\Gamma^{c}\\,_{d a} \\Gamma^{d}\\,_{e b} v^{e}-\\Gamma^{d}\\,_{b a} \\partial_{d}{v^{c}}-\\Gamma^{c}\\,_{d e} \\Gamma^{e}\\,_{b a} v^{d}$"
      ]
     },
     "execution_count": 16,
     "metadata": {},
     "output_type": "execute_result"
    }
   ],
   "source": [
    "substitute(expr,deriv2);\n",
    "substitute(expr,deriv1);\n",
    "distribute(expr);\n",
    "product_rule(expr);\n",
    "canonicalise(expr);"
   ]
  },
  {
   "cell_type": "markdown",
   "metadata": {},
   "source": [
    "And use our saved expression to replace the LHS without fear:"
   ]
  },
  {
   "cell_type": "code",
   "execution_count": 17,
   "metadata": {},
   "outputs": [
    {
     "data": {
      "text/markdown": [
       "${}\\nabla_{a}\\left(\\nabla_{b}{v^{c}}\\right) \\rightarrow \\partial_{a b}{v^{c}}+\\partial_{a}{\\Gamma^{c}\\,_{d b}} v^{d}+\\Gamma^{c}\\,_{d b} \\partial_{a}{v^{d}}+\\Gamma^{c}\\,_{d a} \\partial_{b}{v^{d}}+\\Gamma^{c}\\,_{d a} \\Gamma^{d}\\,_{e b} v^{e}-\\Gamma^{d}\\,_{b a} \\partial_{d}{v^{c}}-\\Gamma^{c}\\,_{d e} \\Gamma^{e}\\,_{b a} v^{d}$"
      ]
     },
     "execution_count": 17,
     "metadata": {},
     "output_type": "execute_result"
    }
   ],
   "source": [
    "substitute(expr, save);"
   ]
  },
  {
   "cell_type": "markdown",
   "metadata": {},
   "source": [
    "## Curvature across a scalar field\n",
    "We want to show that \n",
    "\n",
    "$$\n",
    "\\left( \\nabla_a \\nabla_b - \\nabla_b \\nabla_a \\right) \\phi = \\left( \\Gamma^{c}_{a b} -\\Gamma^{c}_{b a} \\right) \\partial_{c}\\phi.\n",
    "$$\n",
    "\n",
    "For scalars, we define the covariant derivative:"
   ]
  },
  {
   "cell_type": "code",
   "execution_count": 18,
   "metadata": {},
   "outputs": [
    {
     "data": {
      "text/markdown": [
       "${}\\nabla_{a}{\\phi} \\rightarrow \\partial_{a}{\\phi}$"
      ]
     },
     "execution_count": 18,
     "metadata": {},
     "output_type": "execute_result"
    }
   ],
   "source": [
    "dphi := \\nabla_{a}{\\phi} -> \\partial_{a}{\\phi};"
   ]
  },
  {
   "cell_type": "code",
   "execution_count": 19,
   "metadata": {},
   "outputs": [
    {
     "data": {
      "text/markdown": [
       "${}\\nabla_{a}\\left(A?_{b}\\right) \\rightarrow \\partial_{a}\\left(A?_{b}\\right)-\\Gamma^{c}\\,_{b a} A?_{c}$"
      ]
     },
     "execution_count": 19,
     "metadata": {},
     "output_type": "execute_result"
    }
   ],
   "source": [
    "deriv := \\nabla_{a}{A?_{b}} -> \\partial_{a}{A?_{b}} - \\Gamma^{c}_{b a} A?_{c};"
   ]
  },
  {
   "cell_type": "code",
   "execution_count": 20,
   "metadata": {},
   "outputs": [
    {
     "data": {
      "text/markdown": [
       "${}\\nabla_{a}\\left(\\nabla_{b}{\\phi}\\right)-\\nabla_{b}\\left(\\nabla_{a}{\\phi}\\right)$"
      ]
     },
     "execution_count": 20,
     "metadata": {},
     "output_type": "execute_result"
    }
   ],
   "source": [
    "expr := \\nabla_{a}{\\nabla_{b}{\\phi}}\n",
    "    - \\nabla_{b}{\\nabla_{a}{\\phi}};"
   ]
  },
  {
   "cell_type": "code",
   "execution_count": 21,
   "metadata": {},
   "outputs": [
    {
     "data": {
      "text/markdown": [
       "${}\\nabla_{a}\\left(\\partial_{b}{\\phi}\\right)-\\nabla_{b}\\left(\\partial_{a}{\\phi}\\right)$"
      ]
     },
     "execution_count": 21,
     "metadata": {},
     "output_type": "execute_result"
    }
   ],
   "source": [
    "substitute(expr, dphi);"
   ]
  },
  {
   "cell_type": "markdown",
   "metadata": {},
   "source": [
    "Since we know $\\partial_a \\phi$ is a tensor quantity, we will use anonymous functions to replace and reinsert the quantity, so that we can act with our covariant derivative correctly:"
   ]
  },
  {
   "cell_type": "code",
   "execution_count": 22,
   "metadata": {},
   "outputs": [
    {
     "data": {
      "text/markdown": [
       "${}\\nabla_{a}{w_{b}}-\\nabla_{b}{w_{a}}$"
      ]
     },
     "execution_count": 22,
     "metadata": {},
     "output_type": "execute_result"
    },
    {
     "data": {
      "text/markdown": [
       "${}\\partial_{a}{w_{b}}-\\Gamma^{c}\\,_{b a} w_{c}-\\partial_{b}{w_{a}}+\\Gamma^{c}\\,_{a b} w_{c}$"
      ]
     },
     "execution_count": 22,
     "metadata": {},
     "output_type": "execute_result"
    },
    {
     "data": {
      "text/markdown": [
       "${}\\partial_{a b}{\\phi}-\\Gamma^{c}\\,_{b a} \\partial_{c}{\\phi}-\\partial_{b a}{\\phi}+\\Gamma^{c}\\,_{a b} \\partial_{c}{\\phi}$"
      ]
     },
     "execution_count": 22,
     "metadata": {},
     "output_type": "execute_result"
    }
   ],
   "source": [
    "substitute(expr, $\\partial_{a}{\\phi} -> w_{a}$);\n",
    "substitute(expr, deriv);\n",
    "substitute(expr, $w_{a} -> \\partial_{a}{\\phi}$);"
   ]
  },
  {
   "cell_type": "markdown",
   "metadata": {},
   "source": [
    "Finally, we can canonicalise the result:"
   ]
  },
  {
   "cell_type": "code",
   "execution_count": 23,
   "metadata": {},
   "outputs": [
    {
     "data": {
      "text/markdown": [
       "${}-\\Gamma^{c}\\,_{b a} \\partial_{c}{\\phi}+\\Gamma^{c}\\,_{a b} \\partial_{c}{\\phi}$"
      ]
     },
     "execution_count": 23,
     "metadata": {},
     "output_type": "execute_result"
    }
   ],
   "source": [
    "canonicalise(expr);"
   ]
  },
  {
   "cell_type": "code",
   "execution_count": 24,
   "metadata": {},
   "outputs": [
    {
     "data": {
      "text/markdown": [
       "${}\\Gamma^{a}\\,_{b c} \\rightarrow 0$"
      ]
     },
     "execution_count": 24,
     "metadata": {},
     "output_type": "execute_result"
    },
    {
     "data": {
      "text/markdown": [
       "${}\\Gamma^{a}\\,_{b c}+x^{d} \\partial_{d}{\\Gamma^{a}\\,_{b c}}$"
      ]
     },
     "execution_count": 24,
     "metadata": {},
     "output_type": "execute_result"
    },
    {
     "data": {
      "text/markdown": [
       "${}0$"
      ]
     },
     "execution_count": 24,
     "metadata": {},
     "output_type": "execute_result"
    }
   ],
   "source": [
    "kill := \\Gamma^{a}_{b c} -> 0;\n",
    "\n",
    "Gamma := \\Gamma^{a}_{b c}\n",
    "       + x^{d} \\partial_{d}{\\Gamma^{a}_{b c}};\n",
    "\n",
    "substitute (Gamma,kill);\n"
   ]
  }
 ],
 "metadata": {
  "kernelspec": {
   "display_name": "Cadabra",
   "language": "python",
   "name": "cadabra"
  },
  "language_info": {
   "file_extension": ".cdb",
   "mimetype": "text/cadabra",
   "name": "cadabra",
   "version": "2.0.0"
  }
 },
 "nbformat": 4,
 "nbformat_minor": 4
}
