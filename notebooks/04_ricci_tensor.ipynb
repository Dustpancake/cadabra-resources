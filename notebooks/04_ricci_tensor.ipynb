{
 "cells": [
  {
   "cell_type": "markdown",
   "metadata": {},
   "source": [
    "# Ricci tensor\n",
    "A result from differential geometry is that the Ricci tensor $R_{ab}$ is symmetric for a symmetric connection; i.e., given that\n",
    "\n",
    "$$\n",
    "0 = R^{a}_{\\hphantom{a}bcd} + R^{a}_{\\hphantom{a}dbc} + R^{a}_{\\hphantom{a}cdb},\n",
    "$$\n",
    "\n",
    "$$\n",
    "0 = R_{abcd} + R_{bacd},\n",
    "$$\n",
    "\n",
    "and\n",
    "\n",
    "$$\n",
    "0 = R_{abcd} + R_{abdc},\n",
    "$$\n",
    "\n",
    "then\n",
    "\n",
    "$$\n",
    "R_{ab} = R_{ba} = R^{c}_{\\hphantom{c}acb}\n",
    "$$\n",
    "\n",
    "We will compute this in detail using Cadabra, starting with the usual definitions and rules:"
   ]
  },
  {
   "cell_type": "code",
   "execution_count": 1,
   "metadata": {},
   "outputs": [
    {
     "data": {
      "text/markdown": [
       "${}\\Gamma^{a}\\,_{b c} \\rightarrow \\frac{1}{2}g^{a e} \\left(\\partial_{b}{g_{e c}}+\\partial_{c}{g_{b e}}-\\partial_{e}{g_{b c}}\\right)$"
      ]
     },
     "execution_count": 1,
     "metadata": {},
     "output_type": "execute_result"
    },
    {
     "data": {
      "text/markdown": [
       "${}R^{a}\\,_{b c d} \\rightarrow \\partial_{c}{\\Gamma^{a}\\,_{b d}}+\\Gamma^{a}\\,_{e c} \\Gamma^{e}\\,_{b d}-\\partial_{d}{\\Gamma^{a}\\,_{b c}}-\\Gamma^{a}\\,_{e d} \\Gamma^{e}\\,_{b c}$"
      ]
     },
     "execution_count": 1,
     "metadata": {},
     "output_type": "execute_result"
    },
    {
     "data": {
      "text/markdown": [
       "${}R_{a b} \\rightarrow R^{c}\\,_{a c b}$"
      ]
     },
     "execution_count": 1,
     "metadata": {},
     "output_type": "execute_result"
    }
   ],
   "source": [
    "{a,b,c,d,e,f,g,h,i,j,k,l,m,n,o,p,q,r,s,t,u#}::Indices(position=independent).\n",
    "\\partial{#}::PartialDerivative.\n",
    "\n",
    " # Metric includes needed symmetry rules\n",
    "g_{a b}::Metric.\n",
    "g^{a b}::InverseMetric.\n",
    "\n",
    "\\Gamma^{a}_{b c}::TableauSymmetry(shape={2}, indices={1,2}).\n",
    "\\Gamma_{a b c}::TableauSymmetry(shape={2}, indices={1,2}).\n",
    "\n",
    "Gamma := \\Gamma^{a}_{b c} -> (1/2) g^{a e} (\\partial_{b}{g_{e c}}\n",
    "    + \\partial_{c}{g_{b e}}\n",
    "    - \\partial_{e}{g_{b c}});\n",
    "\n",
    "    \n",
    "Rabcd := R^{a}_{b c d} ->\n",
    "    \\partial_{c}{\\Gamma^{a}_{b d}} + \\Gamma^{a}_{e c} \\Gamma^{e}_{b d}\n",
    "    - \\partial_{d}{\\Gamma^{a}_{b c}} - \\Gamma^{a}_{e d} \\Gamma^{e}_{b c};\n",
    "    \n",
    "Rab := R_{a b} -> R^{c}_{a c b};"
   ]
  },
  {
   "cell_type": "markdown",
   "metadata": {},
   "source": [
    "Defining our expression:"
   ]
  },
  {
   "cell_type": "code",
   "execution_count": 2,
   "metadata": {},
   "outputs": [
    {
     "data": {
      "text/markdown": [
       "${}R_{a b}-R_{b a}$"
      ]
     },
     "execution_count": 2,
     "metadata": {},
     "output_type": "execute_result"
    }
   ],
   "source": [
    "expr := R_{a b} - R_{b a};"
   ]
  },
  {
   "cell_type": "markdown",
   "metadata": {},
   "source": [
    "Interjecting now and again with `meld` and `cleanup` keeps the output brief, and allows for sanity-checking by hand:"
   ]
  },
  {
   "cell_type": "code",
   "execution_count": 3,
   "metadata": {},
   "outputs": [
    {
     "data": {
      "text/markdown": [
       "${}R_{a b}-R_{b a}$"
      ]
     },
     "execution_count": 3,
     "metadata": {},
     "output_type": "execute_result"
    },
    {
     "data": {
      "text/markdown": [
       "${}R^{c}\\,_{a c b}-R^{c}\\,_{b c a}$"
      ]
     },
     "execution_count": 3,
     "metadata": {},
     "output_type": "execute_result"
    },
    {
     "data": {
      "text/markdown": [
       "${}\\partial_{c}{\\Gamma^{c}\\,_{a b}}+\\Gamma^{c}\\,_{e c} \\Gamma^{e}\\,_{a b}-\\partial_{b}{\\Gamma^{c}\\,_{a c}}-\\Gamma^{c}\\,_{e b} \\Gamma^{e}\\,_{a c}-\\partial_{c}{\\Gamma^{c}\\,_{b a}}-\\Gamma^{c}\\,_{e c} \\Gamma^{e}\\,_{b a}+\\partial_{a}{\\Gamma^{c}\\,_{b c}}+\\Gamma^{c}\\,_{e a} \\Gamma^{e}\\,_{b c}$"
      ]
     },
     "execution_count": 3,
     "metadata": {},
     "output_type": "execute_result"
    },
    {
     "data": {
      "text/markdown": [
       "${}\\partial_{c}{\\Gamma^{c}\\,_{a b}}-\\partial_{b}{\\Gamma^{c}\\,_{a c}}-\\partial_{c}{\\Gamma^{c}\\,_{b a}}+\\partial_{a}{\\Gamma^{c}\\,_{b c}}$"
      ]
     },
     "execution_count": 3,
     "metadata": {},
     "output_type": "execute_result"
    },
    {
     "data": {
      "text/markdown": [
       "${}\\frac{1}{2}\\partial_{c}\\left(g^{c e} \\left(\\partial_{a}{g_{e b}}+\\partial_{b}{g_{a e}}-\\partial_{e}{g_{a b}}\\right)\\right) - \\frac{1}{2}\\partial_{b}\\left(g^{c e} \\left(\\partial_{a}{g_{e c}}+\\partial_{c}{g_{a e}}-\\partial_{e}{g_{a c}}\\right)\\right) - \\frac{1}{2}\\partial_{c}\\left(g^{c e} \\left(\\partial_{b}{g_{e a}}+\\partial_{a}{g_{b e}}-\\partial_{e}{g_{b a}}\\right)\\right)+\\frac{1}{2}\\partial_{a}\\left(g^{c e} \\left(\\partial_{b}{g_{e c}}+\\partial_{c}{g_{b e}}-\\partial_{e}{g_{b c}}\\right)\\right)$"
      ]
     },
     "execution_count": 3,
     "metadata": {},
     "output_type": "execute_result"
    },
    {
     "data": {
      "text/markdown": [
       "${}\\frac{1}{2}\\partial_{c}\\left(g^{c e} \\partial_{a}{g_{e b}}\\right)+\\frac{1}{2}\\partial_{c}\\left(g^{c e} \\partial_{b}{g_{a e}}\\right) - \\frac{1}{2}\\partial_{c}\\left(g^{c e} \\partial_{e}{g_{a b}}\\right) - \\frac{1}{2}\\partial_{b}\\left(g^{c e} \\partial_{a}{g_{e c}}\\right) - \\frac{1}{2}\\partial_{b}\\left(g^{c e} \\partial_{c}{g_{a e}}\\right)+\\frac{1}{2}\\partial_{b}\\left(g^{c e} \\partial_{e}{g_{a c}}\\right) - \\frac{1}{2}\\partial_{c}\\left(g^{c e} \\partial_{b}{g_{e a}}\\right) - \\frac{1}{2}\\partial_{c}\\left(g^{c e} \\partial_{a}{g_{b e}}\\right)+\\frac{1}{2}\\partial_{c}\\left(g^{c e} \\partial_{e}{g_{b a}}\\right)+\\frac{1}{2}\\partial_{a}\\left(g^{c e} \\partial_{b}{g_{e c}}\\right)+\\frac{1}{2}\\partial_{a}\\left(g^{c e} \\partial_{c}{g_{b e}}\\right) - \\frac{1}{2}\\partial_{a}\\left(g^{c e} \\partial_{e}{g_{b c}}\\right)$"
      ]
     },
     "execution_count": 3,
     "metadata": {},
     "output_type": "execute_result"
    },
    {
     "data": {
      "text/markdown": [
       "${} - \\frac{1}{2}\\partial_{b}\\left(g^{c e} \\partial_{a}{g_{c e}}\\right)+\\frac{1}{2}\\partial_{a}\\left(g^{c e} \\partial_{b}{g_{c e}}\\right)$"
      ]
     },
     "execution_count": 3,
     "metadata": {},
     "output_type": "execute_result"
    },
    {
     "data": {
      "text/markdown": [
       "${} - \\frac{1}{2}\\partial_{b}{g^{c e}} \\partial_{a}{g_{c e}} - \\frac{1}{2}g^{c e} \\partial_{b a}{g_{c e}}+\\frac{1}{2}\\partial_{a}{g^{c e}} \\partial_{b}{g_{c e}}+\\frac{1}{2}g^{c e} \\partial_{a b}{g_{c e}}$"
      ]
     },
     "execution_count": 3,
     "metadata": {},
     "output_type": "execute_result"
    },
    {
     "data": {
      "text/markdown": [
       "${} - \\frac{1}{2}\\partial_{b}{g^{c e}} \\partial_{a}{g_{c e}}+\\frac{1}{2}\\partial_{a}{g^{c e}} \\partial_{b}{g_{c e}}$"
      ]
     },
     "execution_count": 3,
     "metadata": {},
     "output_type": "execute_result"
    },
    {
     "data": {
      "text/markdown": [
       "${}0$"
      ]
     },
     "execution_count": 3,
     "metadata": {},
     "output_type": "execute_result"
    }
   ],
   "source": [
    "expr := R_{a b} - R_{b a};\n",
    "substitute(expr, Rab);\n",
    "substitute(expr, Rabcd);\n",
    "\n",
    " # cleanup\n",
    "meld(expr);\n",
    "\n",
    "substitute(expr, Gamma);\n",
    "distribute(expr);\n",
    "\n",
    " # cleanup\n",
    "canonicalise(expr);\n",
    "\n",
    "product_rule(expr);\n",
    "canonicalise(expr);\n",
    "meld(expr);"
   ]
  }
 ],
 "metadata": {
  "kernelspec": {
   "display_name": "Cadabra",
   "language": "python",
   "name": "cadabra"
  },
  "language_info": {
   "file_extension": ".cdb",
   "mimetype": "text/cadabra",
   "name": "cadabra",
   "version": "2.0.0"
  }
 },
 "nbformat": 4,
 "nbformat_minor": 4
}
