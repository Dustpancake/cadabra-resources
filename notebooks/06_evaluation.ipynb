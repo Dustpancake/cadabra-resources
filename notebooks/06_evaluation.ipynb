{
 "cells": [
  {
   "cell_type": "markdown",
   "metadata": {},
   "source": [
    "# Evaluation\n",
    "Whenever calculating tensor products, it is useful to relate them to real word coordinate systems again. Cadabra is able to compute the tensor components for us, provided we specify how the indices map to coordinates."
   ]
  },
  {
   "cell_type": "markdown",
   "metadata": {},
   "source": [
    "### Example\n",
    "Let us specify a coordinate sytem $\\{ \\theta, \\varphi \\}$, and map them to our indices:"
   ]
  },
  {
   "cell_type": "code",
   "execution_count": 1,
   "metadata": {},
   "outputs": [],
   "source": [
    "{\\theta, \\varphi}::Coordinate.\n",
    "{a,b,c,d,e,f,g,h#}::Indices(values={\\theta, \\varphi}, position=independent)."
   ]
  },
  {
   "cell_type": "markdown",
   "metadata": {},
   "source": [
    "Say we have some vector defined in this system, and wish to calculate the tensor \n",
    "$$\n",
    "d V_{ab} = \\partial_b V_a - \\partial_a V_b.\n",
    "$$\n",
    "\n",
    "In Cadabra, we could specify this as:"
   ]
  },
  {
   "cell_type": "code",
   "execution_count": 2,
   "metadata": {},
   "outputs": [
    {
     "data": {
      "text/markdown": [
       "${}\\left[V_{\\theta} = \\varphi,~ V_{\\varphi} = \\sin{\\theta}\\right]$"
      ]
     },
     "execution_count": 2,
     "metadata": {},
     "output_type": "execute_result"
    },
    {
     "data": {
      "text/markdown": [
       "${}\\partial_{b}{V_{a}}-\\partial_{a}{V_{b}}$"
      ]
     },
     "execution_count": 2,
     "metadata": {},
     "output_type": "execute_result"
    }
   ],
   "source": [
    "\\partial{#}::PartialDerivative.\n",
    "\n",
    "V := { V_{\\theta} = \\varphi, V_{\\varphi} = \\sin(\\theta) };\n",
    "dV := \\partial_{b}{V_{a}} - \\partial_{a}{V_{b}};"
   ]
  },
  {
   "cell_type": "markdown",
   "metadata": {},
   "source": [
    "Then we evaluate the components with:"
   ]
  },
  {
   "cell_type": "code",
   "execution_count": 3,
   "metadata": {
    "scrolled": true
   },
   "outputs": [
    {
     "data": {
      "text/markdown": [
       "${}\\square{}_{a}{}_{b}\\left\\{\\begin{aligned}\\square{}_{\\varphi}{}_{\\theta}& = \\cos{\\theta}-1\\\\[-.5ex]\n",
       "\\square{}_{\\theta}{}_{\\varphi}& = 1-\\cos{\\theta}\\\\[-.5ex]\n",
       "\\end{aligned}\\right.\n",
       "$"
      ]
     },
     "execution_count": 3,
     "metadata": {},
     "output_type": "execute_result"
    }
   ],
   "source": [
    "evaluate(dV, V);"
   ]
  },
  {
   "cell_type": "markdown",
   "metadata": {},
   "source": [
    "There are a few exceptions to what Cadabra allows as valid syntax when it comes to the evaluation operations, and similarly what exactly the evaluate function does can be a little ambiguous. We consult the manual page [here](https://cadabra.science/manual/evaluate.html), where it states\n",
    "\n",
    "> Evaluate components of a tensor expression.\n",
    "\n",
    "This means expressions without tensors (i.e. scalars) will not be evaluated on a compotent basis, since there are no scalars to evaluate. We instead would use a call to `sympy`, demonstrated later in the notebook, to perform such an operation."
   ]
  },
  {
   "cell_type": "markdown",
   "metadata": {},
   "source": [
    "## Riemann curvature of a 2-sphere\n",
    "A more involved example is computing the Riemann tensor for a 2-sphere. We begin with a metric in polar coordinates for the squared distance\n",
    "$$\n",
    "ds^2 = r^2 \\left( d\\theta^2 + \\sin^2 \\left(\\theta\\right) d\\varphi^2 \\right).\n",
    "$$"
   ]
  },
  {
   "cell_type": "code",
   "execution_count": 4,
   "metadata": {},
   "outputs": [
    {
     "data": {
      "text/markdown": [
       "${}\\left[g_{\\theta \\theta} = {r}^{2},~ g_{\\varphi \\varphi} = {r}^{2} {\\left(\\sin{\\theta}\\right)}^{2}\\right]$"
      ]
     },
     "execution_count": 4,
     "metadata": {},
     "output_type": "execute_result"
    }
   ],
   "source": [
    "gab := { \n",
    "    g_{\\theta \\theta} = r**2,\n",
    "    g_{\\varphi \\varphi} = r**2 \\sin( \\theta ) ** 2 \n",
    "};"
   ]
  },
  {
   "cell_type": "markdown",
   "metadata": {},
   "source": [
    "We only need to define the non-zero components in Cadabra. We can now either write in the inverse by hand, on use the `complete` method in Cadabra:"
   ]
  },
  {
   "cell_type": "code",
   "execution_count": 5,
   "metadata": {},
   "outputs": [
    {
     "data": {
      "text/markdown": [
       "${}\\left[g_{\\theta \\theta} = {r}^{2},~ g_{\\varphi \\varphi} = {r}^{2} {\\left(\\sin{\\theta}\\right)}^{2},~ g^{\\theta \\theta} = {r}^{-2},~ g^{\\varphi \\varphi} = {\\left({r}^{2} {\\left(\\sin{\\theta}\\right)}^{2}\\right)}^{-1}\\right]$"
      ]
     },
     "execution_count": 5,
     "metadata": {},
     "output_type": "execute_result"
    }
   ],
   "source": [
    "g^{a b}::InverseMetric.\n",
    "complete(gab, $g^{a b}$);"
   ]
  },
  {
   "cell_type": "markdown",
   "metadata": {},
   "source": [
    "Then we define our other rules:"
   ]
  },
  {
   "cell_type": "code",
   "execution_count": 6,
   "metadata": {},
   "outputs": [
    {
     "data": {
      "text/markdown": [
       "${}\\Gamma^{a}\\,_{b c} \\rightarrow \\frac{1}{2}g^{a d} \\left(\\partial_{b}{g_{d c}}+\\partial_{c}{g_{b d}}-\\partial_{d}{g_{b c}}\\right)$"
      ]
     },
     "execution_count": 6,
     "metadata": {},
     "output_type": "execute_result"
    },
    {
     "data": {
      "text/markdown": [
       "${}R^{a}\\,_{b c d} \\rightarrow \\partial_{c}{\\Gamma^{a}\\,_{b d}}-\\partial_{d}{\\Gamma^{a}\\,_{b c}}+\\Gamma^{e}\\,_{b d} \\Gamma^{a}\\,_{c e}-\\Gamma^{e}\\,_{b c} \\Gamma^{a}\\,_{d e}$"
      ]
     },
     "execution_count": 6,
     "metadata": {},
     "output_type": "execute_result"
    }
   ],
   "source": [
    "Gamma := \\Gamma^{a}_{b c} -> \n",
    "      1/2 g^{a d} (\\partial_{b}{g_{d c}}\n",
    "    + \\partial_{c}{g_{b d}}\n",
    "    - \\partial_{d}{g_{b c}});\n",
    "    \n",
    "Rabcd := R^{a}_{b c d} ->\n",
    "      \\partial_{c}{\\Gamma^{a}_{b d}}\n",
    "    - \\partial_{d}{\\Gamma^{a}_{b c}}\n",
    "    + \\Gamma^{e}_{b d} \\Gamma^{a}_{c e}\n",
    "    - \\Gamma^{e}_{b c} \\Gamma^{a}_{d e};"
   ]
  },
  {
   "cell_type": "markdown",
   "metadata": {},
   "source": [
    "And substitute the requisite tensors"
   ]
  },
  {
   "cell_type": "code",
   "execution_count": 7,
   "metadata": {},
   "outputs": [
    {
     "data": {
      "text/markdown": [
       "${}R^{a}\\,_{b c d}$"
      ]
     },
     "execution_count": 7,
     "metadata": {},
     "output_type": "execute_result"
    },
    {
     "data": {
      "text/markdown": [
       "${}\\partial_{c}{\\Gamma^{a}\\,_{b d}}-\\partial_{d}{\\Gamma^{a}\\,_{b c}}+\\Gamma^{e}\\,_{b d} \\Gamma^{a}\\,_{c e}-\\Gamma^{e}\\,_{b c} \\Gamma^{a}\\,_{d e}$"
      ]
     },
     "execution_count": 7,
     "metadata": {},
     "output_type": "execute_result"
    },
    {
     "data": {
      "text/markdown": [
       "${}\\frac{1}{2}\\partial_{c}\\left(g^{a e} \\left(\\partial_{b}{g_{e d}}+\\partial_{d}{g_{b e}}-\\partial_{e}{g_{b d}}\\right)\\right) - \\frac{1}{2}\\partial_{d}\\left(g^{a e} \\left(\\partial_{b}{g_{e c}}+\\partial_{c}{g_{b e}}-\\partial_{e}{g_{b c}}\\right)\\right)+\\frac{1}{4}g^{e f} \\left(\\partial_{b}{g_{f d}}+\\partial_{d}{g_{b f}}-\\partial_{f}{g_{b d}}\\right) g^{a g} \\left(\\partial_{c}{g_{g e}}+\\partial_{e}{g_{c g}}-\\partial_{g}{g_{c e}}\\right) - \\frac{1}{4}g^{e f} \\left(\\partial_{b}{g_{f c}}+\\partial_{c}{g_{b f}}-\\partial_{f}{g_{b c}}\\right) g^{a g} \\left(\\partial_{d}{g_{g e}}+\\partial_{e}{g_{d g}}-\\partial_{g}{g_{d e}}\\right)$"
      ]
     },
     "execution_count": 7,
     "metadata": {},
     "output_type": "execute_result"
    },
    {
     "data": {
      "text/markdown": [
       "${}\\square{}_{d}{}_{b}{}^{a}{}_{c}\\left\\{\\begin{aligned}\\square{}_{\\varphi}{}_{\\varphi}{}^{\\theta}{}_{\\theta}& = {\\left(\\sin{\\theta}\\right)}^{2}\\\\[-.5ex]\n",
       "\\square{}_{\\varphi}{}_{\\theta}{}^{\\varphi}{}_{\\theta}& = -1\\\\[-.5ex]\n",
       "\\square{}_{\\theta}{}_{\\varphi}{}^{\\theta}{}_{\\varphi}& = -{\\left(\\sin{\\theta}\\right)}^{2}\\\\[-.5ex]\n",
       "\\square{}_{\\theta}{}_{\\theta}{}^{\\varphi}{}_{\\varphi}& = 1\\\\[-.5ex]\n",
       "\\end{aligned}\\right.\n",
       "$"
      ]
     },
     "execution_count": 7,
     "metadata": {},
     "output_type": "execute_result"
    }
   ],
   "source": [
    "expr := R^{a}_{b c d};\n",
    "substitute(expr, Rabcd);\n",
    "substitute(expr, Gamma);\n",
    "\n",
    "evaluate(expr, gab);"
   ]
  },
  {
   "cell_type": "markdown",
   "metadata": {},
   "source": [
    "Note that despite the indices no longer being in the right order, there is a strict one-to-one correspondance between the input $R^a_{\\hphantom{a}bcd}$ and the output indices, such that the generic mapping\n",
    "$$\n",
    "a \\rightarrow a \\\\\n",
    "b \\rightarrow b \\\\\n",
    "\\cdots\n",
    "$$\n",
    "exists."
   ]
  },
  {
   "cell_type": "markdown",
   "metadata": {},
   "source": [
    "We can easily generalise this approach to calculate, e.g., the Ricci scalar:"
   ]
  },
  {
   "cell_type": "code",
   "execution_count": 8,
   "metadata": {},
   "outputs": [
    {
     "data": {
      "text/markdown": [
       "${}g^{c b} R^{a}\\,_{b a c}$"
      ]
     },
     "execution_count": 8,
     "metadata": {},
     "output_type": "execute_result"
    },
    {
     "data": {
      "text/markdown": [
       "${}g^{c b} \\left(\\partial_{a}{\\Gamma^{a}\\,_{b c}}-\\partial_{c}{\\Gamma^{a}\\,_{b a}}+\\Gamma^{e}\\,_{b c} \\Gamma^{a}\\,_{a e}-\\Gamma^{e}\\,_{b a} \\Gamma^{a}\\,_{c e}\\right)$"
      ]
     },
     "execution_count": 8,
     "metadata": {},
     "output_type": "execute_result"
    },
    {
     "data": {
      "text/markdown": [
       "${}g^{c b} \\left(\\frac{1}{2}\\partial_{a}\\left(g^{a d} \\left(\\partial_{b}{g_{d c}}+\\partial_{c}{g_{b d}}-\\partial_{d}{g_{b c}}\\right)\\right) - \\frac{1}{2}\\partial_{c}\\left(g^{a d} \\left(\\partial_{b}{g_{d a}}+\\partial_{a}{g_{b d}}-\\partial_{d}{g_{b a}}\\right)\\right)+\\frac{1}{4}g^{e d} \\left(\\partial_{b}{g_{d c}}+\\partial_{c}{g_{b d}}-\\partial_{d}{g_{b c}}\\right) g^{a f} \\left(\\partial_{a}{g_{f e}}+\\partial_{e}{g_{a f}}-\\partial_{f}{g_{a e}}\\right) - \\frac{1}{4}g^{e d} \\left(\\partial_{b}{g_{d a}}+\\partial_{a}{g_{b d}}-\\partial_{d}{g_{b a}}\\right) g^{a f} \\left(\\partial_{c}{g_{f e}}+\\partial_{e}{g_{c f}}-\\partial_{f}{g_{c e}}\\right)\\right)$"
      ]
     },
     "execution_count": 8,
     "metadata": {},
     "output_type": "execute_result"
    },
    {
     "data": {
      "text/markdown": [
       "${}2{r}^{-2}$"
      ]
     },
     "execution_count": 8,
     "metadata": {},
     "output_type": "execute_result"
    }
   ],
   "source": [
    "expr := g^{c b} R^{a}_{b a c};\n",
    "substitute(expr, Rabcd);\n",
    "substitute(expr, Gamma);\n",
    "evaluate(expr, gab);"
   ]
  },
  {
   "cell_type": "markdown",
   "metadata": {},
   "source": [
    "### Selecting specific components\n",
    "We can use the `get_compontent` to evaluate a specific component of a tensor. For example, the $R^\\theta_{\\hphantom{\\theta}\\varphi\\theta\\varphi}$ compoentn of the Riemann connection on our 2-sphere is:"
   ]
  },
  {
   "cell_type": "code",
   "execution_count": 9,
   "metadata": {},
   "outputs": [],
   "source": [
    "from cdb.core.component import get_component\n",
    "\n",
    " # same as above\n",
    "expr := R^{a}_{b c d}.\n",
    "substitute(expr, Rabcd)\n",
    "substitute(expr, Gamma)\n",
    "evaluate(expr, gab)\n",
    "\n",
    "RiemCompt = get_component(expr, $\\theta, \\varphi, \\theta, \\varphi$);"
   ]
  },
  {
   "cell_type": "markdown",
   "metadata": {},
   "source": [
    "We could also approach this by projecting the tensor onto a suitable basis and dual basis, using the composition\n",
    "$$\n",
    "R^{a}_{\\hphantom{a}bcd} \\rightarrow R^{a}_{\\hphantom{a}bcd}e^\\theta_a e^b_\\varphi e^c_\\theta e^d_\\varphi,\n",
    "$$\n",
    "where $e_\\theta = \\partial_\\theta$ is the standard basis for coordinates $\\{ \\theta, \\varphi \\}$.\n",
    "\n",
    "We could define a basis as:"
   ]
  },
  {
   "cell_type": "code",
   "execution_count": 10,
   "metadata": {},
   "outputs": [
    {
     "data": {
      "text/markdown": [
       "${}-{\\left(\\sin{\\theta}\\right)}^{2}$"
      ]
     },
     "execution_count": 9,
     "metadata": {},
     "output_type": "execute_result"
    },
    {
     "data": {
      "text/markdown": [
       "${}\\left[\\theta^{\\theta} = 1,~ \\varphi^{\\varphi} = 1\\right]$"
      ]
     },
     "execution_count": 10,
     "metadata": {},
     "output_type": "execute_result"
    },
    {
     "data": {
      "text/markdown": [
       "${}\\left[\\theta_{\\theta} = 1,~ \\varphi_{\\varphi} = 1\\right]$"
      ]
     },
     "execution_count": 10,
     "metadata": {},
     "output_type": "execute_result"
    }
   ],
   "source": [
    "basis := {\\theta^{\\theta} = 1, \\varphi^{\\varphi} = 1};\n",
    "dual  := {\\theta_{\\theta} = 1, \\varphi_{\\varphi} = 1};"
   ]
  },
  {
   "cell_type": "markdown",
   "metadata": {},
   "source": [
    "And then contract the Riemann tensor with the basis:"
   ]
  },
  {
   "cell_type": "code",
   "execution_count": 11,
   "metadata": {},
   "outputs": [
    {
     "data": {
      "text/markdown": [
       "${}R^{a}\\,_{b c d} \\theta_{a} \\varphi^{b} \\theta^{c} \\varphi^{d}$"
      ]
     },
     "execution_count": 11,
     "metadata": {},
     "output_type": "execute_result"
    },
    {
     "data": {
      "text/markdown": [
       "${}\\left(\\partial_{c}{\\Gamma^{a}\\,_{b d}}-\\partial_{d}{\\Gamma^{a}\\,_{b c}}+\\Gamma^{e}\\,_{b d} \\Gamma^{a}\\,_{c e}-\\Gamma^{e}\\,_{b c} \\Gamma^{a}\\,_{d e}\\right) \\theta_{a} \\varphi^{b} \\theta^{c} \\varphi^{d}$"
      ]
     },
     "execution_count": 11,
     "metadata": {},
     "output_type": "execute_result"
    },
    {
     "data": {
      "text/markdown": [
       "${}\\left(\\frac{1}{2}\\partial_{c}\\left(g^{a e} \\left(\\partial_{b}{g_{e d}}+\\partial_{d}{g_{b e}}-\\partial_{e}{g_{b d}}\\right)\\right) - \\frac{1}{2}\\partial_{d}\\left(g^{a e} \\left(\\partial_{b}{g_{e c}}+\\partial_{c}{g_{b e}}-\\partial_{e}{g_{b c}}\\right)\\right)+\\frac{1}{4}g^{e f} \\left(\\partial_{b}{g_{f d}}+\\partial_{d}{g_{b f}}-\\partial_{f}{g_{b d}}\\right) g^{a g} \\left(\\partial_{c}{g_{g e}}+\\partial_{e}{g_{c g}}-\\partial_{g}{g_{c e}}\\right) - \\frac{1}{4}g^{e f} \\left(\\partial_{b}{g_{f c}}+\\partial_{c}{g_{b f}}-\\partial_{f}{g_{b c}}\\right) g^{a g} \\left(\\partial_{d}{g_{g e}}+\\partial_{e}{g_{d g}}-\\partial_{g}{g_{d e}}\\right)\\right) \\theta_{a} \\varphi^{b} \\theta^{c} \\varphi^{d}$"
      ]
     },
     "execution_count": 11,
     "metadata": {},
     "output_type": "execute_result"
    },
    {
     "data": {
      "text/markdown": [
       "${}\\theta_{\\theta} \\theta^{\\theta} {\\varphi^{\\varphi}}^{2} {\\left(\\sin{\\theta}\\right)}^{2}-\\theta_{\\theta} \\theta^{\\varphi} \\varphi^{\\theta} \\varphi^{\\varphi} {\\left(\\sin{\\theta}\\right)}^{2}-\\theta_{\\varphi} \\theta^{\\theta} \\varphi^{\\theta} \\varphi^{\\varphi}+\\theta_{\\varphi} \\theta^{\\varphi} {\\varphi^{\\theta}}^{2}$"
      ]
     },
     "execution_count": 11,
     "metadata": {},
     "output_type": "execute_result"
    }
   ],
   "source": [
    "compt := R^{a}_{b c d} \\theta_{a} \\varphi^{b} \\theta^{c} \\varphi^{d};\n",
    "substitute(compt, Rabcd);\n",
    "substitute(compt, Gamma);\n",
    "evaluate(compt, gab);"
   ]
  },
  {
   "cell_type": "markdown",
   "metadata": {},
   "source": [
    "## Evaluating with `sympy`\n",
    "We can convert a cadabra expression to `sympy` using `._sympy_()` -- essentially the counterpart to `Ex()`. For example:"
   ]
  },
  {
   "cell_type": "code",
   "execution_count": 12,
   "metadata": {
    "scrolled": true
   },
   "outputs": [
    {
     "data": {
      "text/markdown": [
       "${}g_{a b}$"
      ]
     },
     "execution_count": 12,
     "metadata": {},
     "output_type": "execute_result"
    },
    {
     "data": {
      "text/markdown": [
       "${}\\square{}_{a}{}_{b}\\left\\{\\begin{aligned}\\square{}_{\\theta}{}_{\\theta}& = {r}^{2}\\\\[-.5ex]\n",
       "\\square{}_{\\varphi}{}_{\\varphi}& = {r}^{2} {\\left(\\sin{\\theta}\\right)}^{2}\\\\[-.5ex]\n",
       "\\end{aligned}\\right.\n",
       "$"
      ]
     },
     "execution_count": 12,
     "metadata": {},
     "output_type": "execute_result"
    },
    {
     "data": {
      "text/markdown": [
       "${}\\left[\\theta,~ \\theta\\right]$"
      ]
     },
     "execution_count": 12,
     "metadata": {},
     "output_type": "execute_result"
    },
    {
     "data": {
      "text/markdown": [
       "${}{r}^{2}$"
      ]
     },
     "execution_count": 12,
     "metadata": {},
     "output_type": "execute_result"
    },
    {
     "data": {
      "text/markdown": [
       "Evaluating at r=3 -> 9\n"
      ]
     },
     "execution_count": 12,
     "metadata": {},
     "output_type": "execute_result"
    }
   ],
   "source": [
    "r, theta, varphi = symbols(\"r theta varphi\")\n",
    "compt := g_{a b};\n",
    "evaluate(compt, gab);\n",
    "\n",
    "indcs = compt[2][0][0];\n",
    "compt = compt[2][0][1];\n",
    "\n",
    "func = compt._sympy_()\n",
    "\n",
    "print(\"Evaluating at r=3 -> \" + str(func.subs(r, 3)))"
   ]
  },
  {
   "cell_type": "markdown",
   "metadata": {},
   "source": [
    "We can then import a helper function from `sympy`:"
   ]
  },
  {
   "cell_type": "code",
   "execution_count": 13,
   "metadata": {},
   "outputs": [],
   "source": [
    "from sympy import lambdify"
   ]
  },
  {
   "cell_type": "markdown",
   "metadata": {},
   "source": [
    "And with them, transform our component into a numpy-evaluable function:"
   ]
  },
  {
   "cell_type": "code",
   "execution_count": 14,
   "metadata": {},
   "outputs": [
    {
     "data": {
      "text/markdown": [
       "[ 0  1  4  9 16 25 36 49 64 81]\n"
      ]
     },
     "execution_count": 14,
     "metadata": {},
     "output_type": "execute_result"
    }
   ],
   "source": [
    "f = lambdify(r, func, \"numpy\")\n",
    "\n",
    "import numpy as np\n",
    "print(f(np.arange(10)))"
   ]
  }
 ],
 "metadata": {
  "kernelspec": {
   "display_name": "Cadabra",
   "language": "python",
   "name": "cadabra"
  },
  "language_info": {
   "file_extension": ".cdb",
   "mimetype": "text/cadabra",
   "name": "cadabra",
   "version": "2.0.0"
  }
 },
 "nbformat": 4,
 "nbformat_minor": 4
}
