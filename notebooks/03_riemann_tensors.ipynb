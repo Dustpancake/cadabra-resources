{
 "cells": [
  {
   "cell_type": "markdown",
   "metadata": {},
   "source": [
    "# Riemann tensors and index symmetry\n",
    "\n",
    "We want to show a result from differential geometry, relating to the Riemann tensor, namely that\n",
    "$$\n",
    "V^a_{\\hphantom{a};b;c} - V^a_{\\hphantom{a};c;b} = - R^a_{\\hphantom{a}dbc}V^d.\n",
    "$$\n",
    "\n",
    "We may by defining rules for the first and second covariant derivative of $V$, which would aim to combine the expression, one for $V^a_{\\hphantom{a};b}$ and one for $V^a_{\\hphantom{a}b;c}$, with $V^a_{\\hphantom{a}b}$ equal to $V^a_{\\hphantom{a};b}$, implying:"
   ]
  },
  {
   "cell_type": "code",
   "execution_count": 1,
   "metadata": {},
   "outputs": [
    {
     "data": {
      "text/markdown": [
       "${}\\text{Attached property Symbol to~};.$"
      ]
     },
     "execution_count": 1,
     "metadata": {},
     "output_type": "execute_result"
    },
    {
     "data": {
      "text/markdown": [
       "${}V^{a}\\,_{; b} \\rightarrow \\partial_{b}{V^{a}}+\\Gamma^{a}\\,_{c b} V^{c}$"
      ]
     },
     "execution_count": 1,
     "metadata": {},
     "output_type": "execute_result"
    },
    {
     "data": {
      "text/markdown": [
       "${}V^{a}\\,_{; b ; c} \\rightarrow \\partial_{c}{V^{a}\\,_{; b}}+\\Gamma^{a}\\,_{d c} V^{d}\\,_{; b}-\\Gamma^{d}\\,_{b c} V^{a}\\,_{; d}$"
      ]
     },
     "execution_count": 1,
     "metadata": {},
     "output_type": "execute_result"
    }
   ],
   "source": [
    "{a,b,c,d,e,f,g,h,i,j,k,l,m,n,o,p,q,r,s,t,u#}::Indices(position=independent).\n",
    "\\partial{#}::PartialDerivative.\n",
    "\n",
    ";::Symbol;\n",
    "\n",
    "deriv1 := V^{a}_{; b} -> \\partial_{b}{V^{a}}\n",
    "    + \\Gamma^{a}_{c b} V^{c};\n",
    "    \n",
    "deriv2 := V^{a}_{; b ; c} -> \\partial_{c}{V^{a}_{; b}}\n",
    "    + \\Gamma^{a}_{d c} V^{d}_{; b}\n",
    "    - \\Gamma^{d}_{b c} V^{a}_{; d};"
   ]
  },
  {
   "cell_type": "markdown",
   "metadata": {},
   "source": [
    "Cadabra recognizes that $;$ is not an index in the conventional sense, but we can avoid ambiguity with:\n",
    "```\n",
    ";::Symbol;\n",
    "```"
   ]
  },
  {
   "cell_type": "markdown",
   "metadata": {},
   "source": [
    "Now we must deal with the notion of symmetry -- we need to inform Cadabra that $\\Gamma$ has a certain symmetry. Cadabra supports `::Symmetric` and `::AntiSymmetric` directly, but applies them to *all* indices unreservedly. To inform Cadabra of symmetry only in the lower indices we can use `::TableauSymmetry` (explanation follows in later section):"
   ]
  },
  {
   "cell_type": "code",
   "execution_count": 2,
   "metadata": {},
   "outputs": [
    {
     "data": {
      "text/markdown": [
       "${}\\text{Attached property TableauSymmetry to~}\\Gamma^{a}\\,_{b c}.$"
      ]
     },
     "execution_count": 2,
     "metadata": {},
     "output_type": "execute_result"
    }
   ],
   "source": [
    "\\Gamma^{a}_{b c}::TableauSymmetry(shape={2}, indices={1,2});"
   ]
  },
  {
   "cell_type": "markdown",
   "metadata": {},
   "source": [
    "Now we proceed as usual:"
   ]
  },
  {
   "cell_type": "code",
   "execution_count": 3,
   "metadata": {},
   "outputs": [
    {
     "data": {
      "text/markdown": [
       "${}V^{a}\\,_{; b ; c} \\rightarrow \\partial_{c}\\left(\\partial_{b}{V^{a}}+\\Gamma^{a}\\,_{d b} V^{d}\\right)+\\Gamma^{a}\\,_{d c} \\left(\\partial_{b}{V^{d}}+\\Gamma^{d}\\,_{e b} V^{e}\\right)-\\Gamma^{d}\\,_{b c} \\left(\\partial_{d}{V^{a}}+\\Gamma^{a}\\,_{e d} V^{e}\\right)$"
      ]
     },
     "execution_count": 3,
     "metadata": {},
     "output_type": "execute_result"
    }
   ],
   "source": [
    "substitute(deriv2,deriv1);"
   ]
  },
  {
   "cell_type": "markdown",
   "metadata": {},
   "source": [
    "Commute the second covariant derivatives:"
   ]
  },
  {
   "cell_type": "code",
   "execution_count": 6,
   "metadata": {},
   "outputs": [
    {
     "data": {
      "text/markdown": [
       "${}V^{a}\\,_{; b ; c}-V^{a}\\,_{; c ; b}$"
      ]
     },
     "execution_count": 6,
     "metadata": {},
     "output_type": "execute_result"
    }
   ],
   "source": [
    "Vabc := V^{a}_{; b ; c} - V^{a}_{; c ; b};"
   ]
  },
  {
   "cell_type": "markdown",
   "metadata": {},
   "source": [
    "and substitute:"
   ]
  },
  {
   "cell_type": "code",
   "execution_count": 7,
   "metadata": {},
   "outputs": [
    {
     "data": {
      "text/markdown": [
       "${}\\partial_{c}\\left(\\partial_{b}{V^{a}}+\\Gamma^{a}\\,_{d b} V^{d}\\right)+\\Gamma^{a}\\,_{d c} \\left(\\partial_{b}{V^{d}}+\\Gamma^{d}\\,_{e b} V^{e}\\right)-\\Gamma^{d}\\,_{b c} \\left(\\partial_{d}{V^{a}}+\\Gamma^{a}\\,_{e d} V^{e}\\right)-\\partial_{b}\\left(\\partial_{c}{V^{a}}+\\Gamma^{a}\\,_{d c} V^{d}\\right)-\\Gamma^{a}\\,_{d b} \\left(\\partial_{c}{V^{d}}+\\Gamma^{d}\\,_{e c} V^{e}\\right)+\\Gamma^{d}\\,_{c b} \\left(\\partial_{d}{V^{a}}+\\Gamma^{a}\\,_{e d} V^{e}\\right)$"
      ]
     },
     "execution_count": 7,
     "metadata": {},
     "output_type": "execute_result"
    },
    {
     "data": {
      "text/markdown": [
       "${}\\partial_{c b}{V^{a}}+\\partial_{c}\\left(\\Gamma^{a}\\,_{d b} V^{d}\\right)+\\Gamma^{a}\\,_{d c} \\partial_{b}{V^{d}}+\\Gamma^{a}\\,_{d c} \\Gamma^{d}\\,_{e b} V^{e}-\\Gamma^{d}\\,_{b c} \\partial_{d}{V^{a}}-\\Gamma^{d}\\,_{b c} \\Gamma^{a}\\,_{e d} V^{e}-\\partial_{b c}{V^{a}}-\\partial_{b}\\left(\\Gamma^{a}\\,_{d c} V^{d}\\right)-\\Gamma^{a}\\,_{d b} \\partial_{c}{V^{d}}-\\Gamma^{a}\\,_{d b} \\Gamma^{d}\\,_{e c} V^{e}+\\Gamma^{d}\\,_{c b} \\partial_{d}{V^{a}}+\\Gamma^{d}\\,_{c b} \\Gamma^{a}\\,_{e d} V^{e}$"
      ]
     },
     "execution_count": 7,
     "metadata": {},
     "output_type": "execute_result"
    },
    {
     "data": {
      "text/markdown": [
       "${}\\partial_{c b}{V^{a}}+\\partial_{c}{\\Gamma^{a}\\,_{d b}} V^{d}+\\Gamma^{a}\\,_{d c} \\Gamma^{d}\\,_{e b} V^{e}-\\Gamma^{d}\\,_{b c} \\partial_{d}{V^{a}}-\\Gamma^{d}\\,_{b c} \\Gamma^{a}\\,_{e d} V^{e}-\\partial_{b c}{V^{a}}-\\partial_{b}{\\Gamma^{a}\\,_{d c}} V^{d}-\\Gamma^{a}\\,_{d b} \\Gamma^{d}\\,_{e c} V^{e}+\\Gamma^{d}\\,_{c b} \\partial_{d}{V^{a}}+\\Gamma^{d}\\,_{c b} \\Gamma^{a}\\,_{e d} V^{e}$"
      ]
     },
     "execution_count": 7,
     "metadata": {},
     "output_type": "execute_result"
    }
   ],
   "source": [
    "substitute(Vabc,deriv2);\n",
    "distribute(Vabc);\n",
    "product_rule(Vabc);"
   ]
  },
  {
   "cell_type": "markdown",
   "metadata": {},
   "source": [
    "We now aim to tidy up the expression as follows:"
   ]
  },
  {
   "cell_type": "code",
   "execution_count": 8,
   "metadata": {},
   "outputs": [
    {
     "data": {
      "text/markdown": [
       "${}\\partial_{c b}{V^{a}}+V^{d} \\partial_{c}{\\Gamma^{a}\\,_{d b}}+V^{e} \\Gamma^{a}\\,_{d c} \\Gamma^{d}\\,_{e b}-\\Gamma^{d}\\,_{b c} \\partial_{d}{V^{a}}-V^{e} \\Gamma^{a}\\,_{e d} \\Gamma^{d}\\,_{b c}-\\partial_{b c}{V^{a}}-V^{d} \\partial_{b}{\\Gamma^{a}\\,_{d c}}-V^{e} \\Gamma^{a}\\,_{d b} \\Gamma^{d}\\,_{e c}+\\Gamma^{d}\\,_{c b} \\partial_{d}{V^{a}}+V^{e} \\Gamma^{a}\\,_{e d} \\Gamma^{d}\\,_{c b}$"
      ]
     },
     "execution_count": 8,
     "metadata": {},
     "output_type": "execute_result"
    },
    {
     "data": {
      "text/markdown": [
       "${}\\partial_{c b}{V^{a}}+V^{d} \\partial_{c}{\\Gamma^{a}\\,_{d b}}+V^{d} \\Gamma^{a}\\,_{e c} \\Gamma^{e}\\,_{d b}-\\Gamma^{d}\\,_{b c} \\partial_{d}{V^{a}}-V^{d} \\Gamma^{a}\\,_{d e} \\Gamma^{e}\\,_{b c}-\\partial_{b c}{V^{a}}-V^{d} \\partial_{b}{\\Gamma^{a}\\,_{d c}}-V^{d} \\Gamma^{a}\\,_{e b} \\Gamma^{e}\\,_{d c}+\\Gamma^{d}\\,_{c b} \\partial_{d}{V^{a}}+V^{d} \\Gamma^{a}\\,_{d e} \\Gamma^{e}\\,_{c b}$"
      ]
     },
     "execution_count": 8,
     "metadata": {},
     "output_type": "execute_result"
    },
    {
     "data": {
      "text/markdown": [
       "${}V^{d} \\partial_{c}{\\Gamma^{a}\\,_{b d}}+V^{d} \\Gamma^{a}\\,_{c e} \\Gamma^{e}\\,_{b d}-V^{d} \\partial_{b}{\\Gamma^{a}\\,_{c d}}-V^{d} \\Gamma^{a}\\,_{b e} \\Gamma^{e}\\,_{c d}$"
      ]
     },
     "execution_count": 8,
     "metadata": {},
     "output_type": "execute_result"
    },
    {
     "data": {
      "text/markdown": [
       "${}V^{d} \\partial_{c}{\\Gamma^{a}\\,_{b d}}-V^{d} \\partial_{b}{\\Gamma^{a}\\,_{c d}}-V^{d} \\Gamma^{a}\\,_{b e} \\Gamma^{e}\\,_{c d}+V^{d} \\Gamma^{a}\\,_{c e} \\Gamma^{e}\\,_{b d}$"
      ]
     },
     "execution_count": 8,
     "metadata": {},
     "output_type": "execute_result"
    },
    {
     "data": {
      "text/markdown": [
       "${}V^{d} \\left(\\partial_{c}{\\Gamma^{a}\\,_{b d}}-\\partial_{b}{\\Gamma^{a}\\,_{c d}}-\\Gamma^{a}\\,_{b e} \\Gamma^{e}\\,_{c d}+\\Gamma^{a}\\,_{c e} \\Gamma^{e}\\,_{b d}\\right)$"
      ]
     },
     "execution_count": 8,
     "metadata": {},
     "output_type": "execute_result"
    }
   ],
   "source": [
    "sort_product(Vabc);\n",
    "rename_dummies(Vabc);\n",
    "canonicalise(Vabc);\n",
    "sort_sum(Vabc);\n",
    "factor_out(Vabc,$V^{a?}$);"
   ]
  },
  {
   "cell_type": "markdown",
   "metadata": {},
   "source": [
    "## Young diagrams\n",
    "The `::TableauSymmetry` is based on the Littlewood-Richardson algorithm for finding a basis of irreducible representations of totally symmetric groups. The algorithm uses [*Young diagrams*](https://en.wikipedia.org/wiki/Young_tableau). The `shape` property defines the shape of the Young diagram, and the `indices` describes how the tensor's indices are assigned to the cells (starting from left to right starting with 0). Thus, as above, $b$ and $c$ and indexed by $1$ and $2$. More information can be found [in the manual](https://cadabra.science/manual/TableauSymmetry.html).\n",
    "\n",
    "An alternative for when the `::TableauSymmetry` may be too complex it to use a substitution rule, \n",
    "\n",
    "$$\n",
    "\\Gamma^{a}_{\\hphantom{a}bc} \\rightarrow G^aG_{b c},\n",
    "$$\n",
    "\n",
    "such as:"
   ]
  },
  {
   "cell_type": "code",
   "execution_count": 14,
   "metadata": {},
   "outputs": [
    {
     "data": {
      "text/markdown": [
       "${}\\partial_{c b}{V^{a}}+\\partial_{c}{\\Gamma^{a}\\,_{d b}} V^{d}+\\Gamma^{a}\\,_{d c} \\Gamma^{d}\\,_{e b} V^{e}-\\Gamma^{d}\\,_{b c} \\partial_{d}{V^{a}}-\\Gamma^{d}\\,_{b c} \\Gamma^{a}\\,_{e d} V^{e}-\\partial_{b c}{V^{a}}-\\partial_{b}{\\Gamma^{a}\\,_{d c}} V^{d}-\\Gamma^{a}\\,_{d b} \\Gamma^{d}\\,_{e c} V^{e}+\\Gamma^{d}\\,_{c b} \\partial_{d}{V^{a}}+\\Gamma^{d}\\,_{c b} \\Gamma^{a}\\,_{e d} V^{e}$"
      ]
     },
     "execution_count": 14,
     "metadata": {},
     "output_type": "execute_result"
    },
    {
     "data": {
      "text/markdown": [
       "${}\\partial_{c b}{V^{a}}+\\partial_{c}\\left(G^{a} G_{d b}\\right) V^{d}+G^{a} G_{d c} G^{d} G_{e b} V^{e}-G^{d} G_{b c} \\partial_{d}{V^{a}}-G^{d} G_{b c} G^{a} G_{e d} V^{e}-\\partial_{b c}{V^{a}}-\\partial_{b}\\left(G^{a} G_{d c}\\right) V^{d}-G^{a} G_{d b} G^{d} G_{e c} V^{e}+G^{d} G_{c b} \\partial_{d}{V^{a}}+G^{d} G_{c b} G^{a} G_{e d} V^{e}$"
      ]
     },
     "execution_count": 14,
     "metadata": {},
     "output_type": "execute_result"
    },
    {
     "data": {
      "text/markdown": [
       "${}\\partial_{c b}{V^{a}}+V^{d} \\partial_{c}\\left(G^{a} G_{d b}\\right)+G^{a} G^{d} G_{d c} G_{e b} V^{e}-G^{d} G_{b c} \\partial_{d}{V^{a}}-G^{a} G^{d} G_{b c} G_{e d} V^{e}-\\partial_{b c}{V^{a}}-V^{d} \\partial_{b}\\left(G^{a} G_{d c}\\right)-G^{a} G^{d} G_{d b} G_{e c} V^{e}+G^{d} G_{c b} \\partial_{d}{V^{a}}+G^{a} G^{d} G_{c b} G_{e d} V^{e}$"
      ]
     },
     "execution_count": 14,
     "metadata": {},
     "output_type": "execute_result"
    },
    {
     "data": {
      "text/markdown": [
       "${}\\partial_{c b}{V^{a}}+V^{d} \\partial_{c}\\left(G^{a} G_{d b}\\right)+G^{a} G^{d} G_{d c} G_{e b} V^{e}-G^{d} G_{b c} \\partial_{d}{V^{a}}-G^{a} G^{d} G_{b c} G_{e d} V^{e}-\\partial_{b c}{V^{a}}-V^{d} \\partial_{b}\\left(G^{a} G_{d c}\\right)-G^{a} G^{d} G_{d b} G_{e c} V^{e}+G^{d} G_{c b} \\partial_{d}{V^{a}}+G^{a} G^{d} G_{c b} G_{e d} V^{e}$"
      ]
     },
     "execution_count": 14,
     "metadata": {},
     "output_type": "execute_result"
    },
    {
     "data": {
      "text/markdown": [
       "${}V^{d} \\partial_{c}\\left(G^{a} G_{b d}\\right)+G^{a} G^{d} G_{b e} G_{c d} V^{e}-V^{d} \\partial_{b}\\left(G^{a} G_{c d}\\right)-G^{a} G^{d} G_{b d} G_{c e} V^{e}$"
      ]
     },
     "execution_count": 14,
     "metadata": {},
     "output_type": "execute_result"
    },
    {
     "data": {
      "text/markdown": [
       "${}V^{d} \\partial_{c}{\\Gamma^{a}\\,_{b d}}+\\Gamma^{a}\\,_{b e} \\Gamma^{d}\\,_{c d} V^{e}-V^{d} \\partial_{b}{\\Gamma^{a}\\,_{c d}}-\\Gamma^{a}\\,_{b d} \\Gamma^{d}\\,_{c e} V^{e}$"
      ]
     },
     "execution_count": 14,
     "metadata": {},
     "output_type": "execute_result"
    },
    {
     "data": {
      "text/markdown": [
       "${}V^{d} \\partial_{c}{\\Gamma^{a}\\,_{b d}}-V^{d} \\partial_{b}{\\Gamma^{a}\\,_{c d}}-\\Gamma^{a}\\,_{b d} \\Gamma^{d}\\,_{c e} V^{e}+\\Gamma^{a}\\,_{b e} \\Gamma^{d}\\,_{c d} V^{e}$"
      ]
     },
     "execution_count": 14,
     "metadata": {},
     "output_type": "execute_result"
    },
    {
     "data": {
      "text/markdown": [
       "${}V^{d} \\partial_{c}{\\Gamma^{a}\\,_{b d}}-V^{d} \\partial_{b}{\\Gamma^{a}\\,_{c d}}-\\Gamma^{a}\\,_{b e} \\Gamma^{e}\\,_{c d} V^{d}+\\Gamma^{a}\\,_{b d} \\Gamma^{e}\\,_{c e} V^{d}$"
      ]
     },
     "execution_count": 14,
     "metadata": {},
     "output_type": "execute_result"
    },
    {
     "data": {
      "text/markdown": [
       "${}V^{d} \\left(\\partial_{c}{\\Gamma^{a}\\,_{b d}}-\\partial_{b}{\\Gamma^{a}\\,_{c d}}-\\Gamma^{a}\\,_{b e} \\Gamma^{e}\\,_{c d}+\\Gamma^{a}\\,_{b d} \\Gamma^{e}\\,_{c e}\\right)$"
      ]
     },
     "execution_count": 14,
     "metadata": {},
     "output_type": "execute_result"
    }
   ],
   "source": [
    "G_{a b}::Symmetric.\n",
    "\n",
    "# code as above\n",
    "Vabc := V^{a}_{; b ; c} - V^{a}_{; c ; b}.\n",
    "substitute(Vabc, deriv2)\n",
    "distribute(Vabc)\n",
    "product_rule(Vabc);\n",
    "\n",
    "# trick\n",
    "substitute(Vabc, $\\Gamma^{a}_{b c} -> G^{a}G_{b c}$);\n",
    "sort_product(Vabc);\n",
    "rename_dummies(Vabc);\n",
    "canonicalise(Vabc);\n",
    "substitute(Vabc, $G^{a} G_{b c} -> \\Gamma^{a}_{b c}$, repeat=True);\n",
    "\n",
    "# code as above\n",
    "sort_sum(Vabc);\n",
    "rename_dummies(Vabc);\n",
    "factor_out(Vabc,$V^{a?}$);"
   ]
  },
  {
   "cell_type": "markdown",
   "metadata": {},
   "source": [
    "This trick does not always work, for example if $G^a G_{bc}$ we seperated during a product rule, or expressions such as \n",
    "$$\n",
    "\\Gamma^a_{bc}\\Gamma^d_{ef} - \\Gamma^d_{bc}\\Gamma^a_{ef}\n",
    "$$\n",
    "would cause all terms to cancel resulting in 0."
   ]
  },
  {
   "cell_type": "markdown",
   "metadata": {},
   "source": [
    "## Bianchi identities of the Riemann tensor\n",
    "For further example, let us compute the symmetries and Bianchi identities of the Riemann tensor:"
   ]
  },
  {
   "cell_type": "code",
   "execution_count": 15,
   "metadata": {},
   "outputs": [
    {
     "data": {
      "text/markdown": [
       "${}\\text{Attached property Symbol to~};.$"
      ]
     },
     "execution_count": 15,
     "metadata": {},
     "output_type": "execute_result"
    }
   ],
   "source": [
    "{a,b,c,d,e,f,g,h,i,j,k,l,m,n,o,p,q,r,s,t,u,v,w#}::Indices(position=independent).\n",
    ";::Symbol;\n",
    "\\partial{#}::PartialDerivative."
   ]
  },
  {
   "cell_type": "markdown",
   "metadata": {},
   "source": [
    "We start as usual with defining symmetries and rules for the connections and the Riemann tensor:"
   ]
  },
  {
   "cell_type": "code",
   "execution_count": 16,
   "metadata": {},
   "outputs": [
    {
     "data": {
      "text/markdown": [
       "${}R^{a}\\,_{b c d} \\rightarrow \\partial_{c}{\\Gamma^{a}\\,_{b d}}-\\partial_{d}{\\Gamma^{a}\\,_{b c}}+\\Gamma^{e}\\,_{b d} \\Gamma^{a}\\,_{c e}-\\Gamma^{e}\\,_{b c} \\Gamma^{a}\\,_{d e}$"
      ]
     },
     "execution_count": 16,
     "metadata": {},
     "output_type": "execute_result"
    },
    {
     "data": {
      "text/markdown": [
       "${}R^{a}\\,_{b c d ; e} \\rightarrow \\partial_{e}{R^{a}\\,_{b c d}}+\\Gamma^{a}\\,_{f e} R^{f}\\,_{b c d}-\\Gamma^{f}\\,_{b e} R^{a}\\,_{f c d}-\\Gamma^{f}\\,_{c e} R^{a}\\,_{b f d}-\\Gamma^{f}\\,_{d e} R^{a}\\,_{b c f}$"
      ]
     },
     "execution_count": 16,
     "metadata": {},
     "output_type": "execute_result"
    }
   ],
   "source": [
    "\\Gamma^{a}_{b c}::TableauSymmetry(shape={2}, indices={1,2}).\n",
    "\n",
    "Rabcd := R^{a}_{b c d} -> \\partial_{c}{\\Gamma^{a}_{b d}}\n",
    "    - \\partial_{d}{\\Gamma^{a}_{b c}}\n",
    "    + \\Gamma^{e}_{b d} \\Gamma^{a}_{c e}\n",
    "    - \\Gamma^{e}_{b c} \\Gamma^{a}_{d e};\n",
    "\n",
    "dRabcd := R^{a}_{b c d ; e} -> \\partial_{e}{R^{a}_{b c d}}\n",
    "    + \\Gamma^{a}_{f e} R^{f}_{b c d}\n",
    "    - \\Gamma^{f}_{b e} R^{a}_{f c d}\n",
    "    - \\Gamma^{f}_{c e} R^{a}_{b f d}\n",
    "    - \\Gamma^{f}_{d e} R^{a}_{b c f};"
   ]
  },
  {
   "cell_type": "markdown",
   "metadata": {},
   "source": [
    "With the definition and the first covariant derivative rules defined, we create the expression we wish to act on:"
   ]
  },
  {
   "cell_type": "code",
   "execution_count": 17,
   "metadata": {},
   "outputs": [
    {
     "data": {
      "text/markdown": [
       "${}R^{a}\\,_{b c d}+R^{a}\\,_{b d c}$"
      ]
     },
     "execution_count": 17,
     "metadata": {},
     "output_type": "execute_result"
    }
   ],
   "source": [
    "expr := R^{a}_{b c d} + R^{a}_{b d c};"
   ]
  },
  {
   "cell_type": "markdown",
   "metadata": {},
   "source": [
    "and solve it:"
   ]
  },
  {
   "cell_type": "code",
   "execution_count": 18,
   "metadata": {
    "scrolled": true
   },
   "outputs": [
    {
     "data": {
      "text/markdown": [
       "${}0$"
      ]
     },
     "execution_count": 18,
     "metadata": {},
     "output_type": "execute_result"
    }
   ],
   "source": [
    "substitute(expr, Rabcd);"
   ]
  },
  {
   "cell_type": "markdown",
   "metadata": {},
   "source": [
    "And do the same for the first Bianchi identities:"
   ]
  },
  {
   "cell_type": "code",
   "execution_count": 19,
   "metadata": {},
   "outputs": [
    {
     "data": {
      "text/markdown": [
       "${}R^{a}\\,_{b c d}+R^{a}\\,_{d b c}+R^{a}\\,_{c d b}$"
      ]
     },
     "execution_count": 19,
     "metadata": {},
     "output_type": "execute_result"
    },
    {
     "data": {
      "text/markdown": [
       "${}\\partial_{c}{\\Gamma^{a}\\,_{b d}}-\\partial_{d}{\\Gamma^{a}\\,_{b c}}+\\Gamma^{e}\\,_{b d} \\Gamma^{a}\\,_{c e}-\\Gamma^{e}\\,_{b c} \\Gamma^{a}\\,_{d e}+\\partial_{b}{\\Gamma^{a}\\,_{d c}}-\\partial_{c}{\\Gamma^{a}\\,_{d b}}+\\Gamma^{e}\\,_{d c} \\Gamma^{a}\\,_{b e}-\\Gamma^{e}\\,_{d b} \\Gamma^{a}\\,_{c e}+\\partial_{d}{\\Gamma^{a}\\,_{c b}}-\\partial_{b}{\\Gamma^{a}\\,_{c d}}+\\Gamma^{e}\\,_{c b} \\Gamma^{a}\\,_{d e}-\\Gamma^{e}\\,_{c d} \\Gamma^{a}\\,_{b e}$"
      ]
     },
     "execution_count": 19,
     "metadata": {},
     "output_type": "execute_result"
    },
    {
     "data": {
      "text/markdown": [
       "${}0$"
      ]
     },
     "execution_count": 19,
     "metadata": {},
     "output_type": "execute_result"
    }
   ],
   "source": [
    "expr := R^{a}_{b c d} + R^{a}_{d b c} + R^{a}_{c d b};\n",
    "substitute(expr, Rabcd);\n",
    "canonicalise(expr);"
   ]
  },
  {
   "cell_type": "markdown",
   "metadata": {},
   "source": [
    "And the second:"
   ]
  },
  {
   "cell_type": "code",
   "execution_count": 22,
   "metadata": {},
   "outputs": [
    {
     "data": {
      "text/markdown": [
       "${}R^{a}\\,_{b c d ; e}+R^{a}\\,_{b e c ; d}+R^{a}\\,_{b d e ; c}$"
      ]
     },
     "execution_count": 22,
     "metadata": {},
     "output_type": "execute_result"
    },
    {
     "data": {
      "text/markdown": [
       "${}\\partial_{e}{R^{a}\\,_{b c d}}+\\Gamma^{a}\\,_{f e} R^{f}\\,_{b c d}-\\Gamma^{f}\\,_{b e} R^{a}\\,_{f c d}-\\Gamma^{f}\\,_{c e} R^{a}\\,_{b f d}-\\Gamma^{f}\\,_{d e} R^{a}\\,_{b c f}+\\partial_{d}{R^{a}\\,_{b e c}}+\\Gamma^{a}\\,_{f d} R^{f}\\,_{b e c}-\\Gamma^{f}\\,_{b d} R^{a}\\,_{f e c}-\\Gamma^{f}\\,_{e d} R^{a}\\,_{b f c}-\\Gamma^{f}\\,_{c d} R^{a}\\,_{b e f}+\\partial_{c}{R^{a}\\,_{b d e}}+\\Gamma^{a}\\,_{f c} R^{f}\\,_{b d e}-\\Gamma^{f}\\,_{b c} R^{a}\\,_{f d e}-\\Gamma^{f}\\,_{d c} R^{a}\\,_{b f e}-\\Gamma^{f}\\,_{e c} R^{a}\\,_{b d f}$"
      ]
     },
     "execution_count": 22,
     "metadata": {},
     "output_type": "execute_result"
    },
    {
     "data": {
      "text/markdown": [
       "${}\\partial_{e}\\left(\\partial_{c}{\\Gamma^{a}\\,_{b d}}-\\partial_{d}{\\Gamma^{a}\\,_{b c}}+\\Gamma^{f}\\,_{b d} \\Gamma^{a}\\,_{c f}-\\Gamma^{f}\\,_{b c} \\Gamma^{a}\\,_{d f}\\right)+\\Gamma^{a}\\,_{f e} \\left(\\partial_{c}{\\Gamma^{f}\\,_{b d}}-\\partial_{d}{\\Gamma^{f}\\,_{b c}}+\\Gamma^{g}\\,_{b d} \\Gamma^{f}\\,_{c g}-\\Gamma^{g}\\,_{b c} \\Gamma^{f}\\,_{d g}\\right)-\\Gamma^{f}\\,_{b e} \\left(\\partial_{c}{\\Gamma^{a}\\,_{f d}}-\\partial_{d}{\\Gamma^{a}\\,_{f c}}+\\Gamma^{g}\\,_{f d} \\Gamma^{a}\\,_{c g}-\\Gamma^{g}\\,_{f c} \\Gamma^{a}\\,_{d g}\\right)-\\Gamma^{f}\\,_{c e} \\left(\\partial_{f}{\\Gamma^{a}\\,_{b d}}-\\partial_{d}{\\Gamma^{a}\\,_{b f}}+\\Gamma^{g}\\,_{b d} \\Gamma^{a}\\,_{f g}-\\Gamma^{g}\\,_{b f} \\Gamma^{a}\\,_{d g}\\right)-\\Gamma^{f}\\,_{d e} \\left(\\partial_{c}{\\Gamma^{a}\\,_{b f}}-\\partial_{f}{\\Gamma^{a}\\,_{b c}}+\\Gamma^{g}\\,_{b f} \\Gamma^{a}\\,_{c g}-\\Gamma^{g}\\,_{b c} \\Gamma^{a}\\,_{f g}\\right)+\\partial_{d}\\left(\\partial_{e}{\\Gamma^{a}\\,_{b c}}-\\partial_{c}{\\Gamma^{a}\\,_{b e}}+\\Gamma^{f}\\,_{b c} \\Gamma^{a}\\,_{e f}-\\Gamma^{f}\\,_{b e} \\Gamma^{a}\\,_{c f}\\right)+\\Gamma^{a}\\,_{f d} \\left(\\partial_{e}{\\Gamma^{f}\\,_{b c}}-\\partial_{c}{\\Gamma^{f}\\,_{b e}}+\\Gamma^{g}\\,_{b c} \\Gamma^{f}\\,_{e g}-\\Gamma^{g}\\,_{b e} \\Gamma^{f}\\,_{c g}\\right)-\\Gamma^{f}\\,_{b d} \\left(\\partial_{e}{\\Gamma^{a}\\,_{f c}}-\\partial_{c}{\\Gamma^{a}\\,_{f e}}+\\Gamma^{g}\\,_{f c} \\Gamma^{a}\\,_{e g}-\\Gamma^{g}\\,_{f e} \\Gamma^{a}\\,_{c g}\\right)-\\Gamma^{f}\\,_{e d} \\left(\\partial_{f}{\\Gamma^{a}\\,_{b c}}-\\partial_{c}{\\Gamma^{a}\\,_{b f}}+\\Gamma^{g}\\,_{b c} \\Gamma^{a}\\,_{f g}-\\Gamma^{g}\\,_{b f} \\Gamma^{a}\\,_{c g}\\right)-\\Gamma^{f}\\,_{c d} \\left(\\partial_{e}{\\Gamma^{a}\\,_{b f}}-\\partial_{f}{\\Gamma^{a}\\,_{b e}}+\\Gamma^{g}\\,_{b f} \\Gamma^{a}\\,_{e g}-\\Gamma^{g}\\,_{b e} \\Gamma^{a}\\,_{f g}\\right)+\\partial_{c}\\left(\\partial_{d}{\\Gamma^{a}\\,_{b e}}-\\partial_{e}{\\Gamma^{a}\\,_{b d}}+\\Gamma^{f}\\,_{b e} \\Gamma^{a}\\,_{d f}-\\Gamma^{f}\\,_{b d} \\Gamma^{a}\\,_{e f}\\right)+\\Gamma^{a}\\,_{f c} \\left(\\partial_{d}{\\Gamma^{f}\\,_{b e}}-\\partial_{e}{\\Gamma^{f}\\,_{b d}}+\\Gamma^{g}\\,_{b e} \\Gamma^{f}\\,_{d g}-\\Gamma^{g}\\,_{b d} \\Gamma^{f}\\,_{e g}\\right)-\\Gamma^{f}\\,_{b c} \\left(\\partial_{d}{\\Gamma^{a}\\,_{f e}}-\\partial_{e}{\\Gamma^{a}\\,_{f d}}+\\Gamma^{g}\\,_{f e} \\Gamma^{a}\\,_{d g}-\\Gamma^{g}\\,_{f d} \\Gamma^{a}\\,_{e g}\\right)-\\Gamma^{f}\\,_{d c} \\left(\\partial_{f}{\\Gamma^{a}\\,_{b e}}-\\partial_{e}{\\Gamma^{a}\\,_{b f}}+\\Gamma^{g}\\,_{b e} \\Gamma^{a}\\,_{f g}-\\Gamma^{g}\\,_{b f} \\Gamma^{a}\\,_{e g}\\right)-\\Gamma^{f}\\,_{e c} \\left(\\partial_{d}{\\Gamma^{a}\\,_{b f}}-\\partial_{f}{\\Gamma^{a}\\,_{b d}}+\\Gamma^{g}\\,_{b f} \\Gamma^{a}\\,_{d g}-\\Gamma^{g}\\,_{b d} \\Gamma^{a}\\,_{f g}\\right)$"
      ]
     },
     "execution_count": 22,
     "metadata": {},
     "output_type": "execute_result"
    },
    {
     "data": {
      "text/markdown": [
       "${}\\partial_{e c}{\\Gamma^{a}\\,_{b d}}-\\partial_{e d}{\\Gamma^{a}\\,_{b c}}+\\partial_{e}\\left(\\Gamma^{f}\\,_{b d} \\Gamma^{a}\\,_{c f}\\right)-\\partial_{e}\\left(\\Gamma^{f}\\,_{b c} \\Gamma^{a}\\,_{d f}\\right)+\\Gamma^{a}\\,_{f e} \\partial_{c}{\\Gamma^{f}\\,_{b d}}-\\Gamma^{a}\\,_{f e} \\partial_{d}{\\Gamma^{f}\\,_{b c}}+\\Gamma^{a}\\,_{f e} \\Gamma^{g}\\,_{b d} \\Gamma^{f}\\,_{c g}-\\Gamma^{a}\\,_{f e} \\Gamma^{g}\\,_{b c} \\Gamma^{f}\\,_{d g}-\\Gamma^{f}\\,_{b e} \\partial_{c}{\\Gamma^{a}\\,_{f d}}+\\Gamma^{f}\\,_{b e} \\partial_{d}{\\Gamma^{a}\\,_{f c}}-\\Gamma^{f}\\,_{b e} \\Gamma^{g}\\,_{f d} \\Gamma^{a}\\,_{c g}+\\Gamma^{f}\\,_{b e} \\Gamma^{g}\\,_{f c} \\Gamma^{a}\\,_{d g}-\\Gamma^{f}\\,_{c e} \\partial_{f}{\\Gamma^{a}\\,_{b d}}+\\Gamma^{f}\\,_{c e} \\partial_{d}{\\Gamma^{a}\\,_{b f}}-\\Gamma^{f}\\,_{c e} \\Gamma^{g}\\,_{b d} \\Gamma^{a}\\,_{f g}+\\Gamma^{f}\\,_{c e} \\Gamma^{g}\\,_{b f} \\Gamma^{a}\\,_{d g}-\\Gamma^{f}\\,_{d e} \\partial_{c}{\\Gamma^{a}\\,_{b f}}+\\Gamma^{f}\\,_{d e} \\partial_{f}{\\Gamma^{a}\\,_{b c}}-\\Gamma^{f}\\,_{d e} \\Gamma^{g}\\,_{b f} \\Gamma^{a}\\,_{c g}%\n",
       "+\\Gamma^{f}\\,_{d e} \\Gamma^{g}\\,_{b c} \\Gamma^{a}\\,_{f g}+\\partial_{d e}{\\Gamma^{a}\\,_{b c}}-\\partial_{d c}{\\Gamma^{a}\\,_{b e}}+\\partial_{d}\\left(\\Gamma^{f}\\,_{b c} \\Gamma^{a}\\,_{e f}\\right)-\\partial_{d}\\left(\\Gamma^{f}\\,_{b e} \\Gamma^{a}\\,_{c f}\\right)+\\Gamma^{a}\\,_{f d} \\partial_{e}{\\Gamma^{f}\\,_{b c}}-\\Gamma^{a}\\,_{f d} \\partial_{c}{\\Gamma^{f}\\,_{b e}}+\\Gamma^{a}\\,_{f d} \\Gamma^{g}\\,_{b c} \\Gamma^{f}\\,_{e g}-\\Gamma^{a}\\,_{f d} \\Gamma^{g}\\,_{b e} \\Gamma^{f}\\,_{c g}-\\Gamma^{f}\\,_{b d} \\partial_{e}{\\Gamma^{a}\\,_{f c}}+\\Gamma^{f}\\,_{b d} \\partial_{c}{\\Gamma^{a}\\,_{f e}}-\\Gamma^{f}\\,_{b d} \\Gamma^{g}\\,_{f c} \\Gamma^{a}\\,_{e g}+\\Gamma^{f}\\,_{b d} \\Gamma^{g}\\,_{f e} \\Gamma^{a}\\,_{c g}-\\Gamma^{f}\\,_{e d} \\partial_{f}{\\Gamma^{a}\\,_{b c}}+\\Gamma^{f}\\,_{e d} \\partial_{c}{\\Gamma^{a}\\,_{b f}}-\\Gamma^{f}\\,_{e d} \\Gamma^{g}\\,_{b c} \\Gamma^{a}\\,_{f g}+\\Gamma^{f}\\,_{e d} \\Gamma^{g}\\,_{b f} \\Gamma^{a}\\,_{c g}-\\Gamma^{f}\\,_{c d} \\partial_{e}{\\Gamma^{a}\\,_{b f}}+\\Gamma^{f}\\,_{c d} \\partial_{f}{\\Gamma^{a}\\,_{b e}}-\\Gamma^{f}\\,_{c d} \\Gamma^{g}\\,_{b f} \\Gamma^{a}\\,_{e g}%\n",
       "+\\Gamma^{f}\\,_{c d} \\Gamma^{g}\\,_{b e} \\Gamma^{a}\\,_{f g}+\\partial_{c d}{\\Gamma^{a}\\,_{b e}}-\\partial_{c e}{\\Gamma^{a}\\,_{b d}}+\\partial_{c}\\left(\\Gamma^{f}\\,_{b e} \\Gamma^{a}\\,_{d f}\\right)-\\partial_{c}\\left(\\Gamma^{f}\\,_{b d} \\Gamma^{a}\\,_{e f}\\right)+\\Gamma^{a}\\,_{f c} \\partial_{d}{\\Gamma^{f}\\,_{b e}}-\\Gamma^{a}\\,_{f c} \\partial_{e}{\\Gamma^{f}\\,_{b d}}+\\Gamma^{a}\\,_{f c} \\Gamma^{g}\\,_{b e} \\Gamma^{f}\\,_{d g}-\\Gamma^{a}\\,_{f c} \\Gamma^{g}\\,_{b d} \\Gamma^{f}\\,_{e g}-\\Gamma^{f}\\,_{b c} \\partial_{d}{\\Gamma^{a}\\,_{f e}}+\\Gamma^{f}\\,_{b c} \\partial_{e}{\\Gamma^{a}\\,_{f d}}-\\Gamma^{f}\\,_{b c} \\Gamma^{g}\\,_{f e} \\Gamma^{a}\\,_{d g}+\\Gamma^{f}\\,_{b c} \\Gamma^{g}\\,_{f d} \\Gamma^{a}\\,_{e g}-\\Gamma^{f}\\,_{d c} \\partial_{f}{\\Gamma^{a}\\,_{b e}}+\\Gamma^{f}\\,_{d c} \\partial_{e}{\\Gamma^{a}\\,_{b f}}-\\Gamma^{f}\\,_{d c} \\Gamma^{g}\\,_{b e} \\Gamma^{a}\\,_{f g}+\\Gamma^{f}\\,_{d c} \\Gamma^{g}\\,_{b f} \\Gamma^{a}\\,_{e g}-\\Gamma^{f}\\,_{e c} \\partial_{d}{\\Gamma^{a}\\,_{b f}}+\\Gamma^{f}\\,_{e c} \\partial_{f}{\\Gamma^{a}\\,_{b d}}-\\Gamma^{f}\\,_{e c} \\Gamma^{g}\\,_{b f} \\Gamma^{a}\\,_{d g}%\n",
       "+\\Gamma^{f}\\,_{e c} \\Gamma^{g}\\,_{b d} \\Gamma^{a}\\,_{f g}$"
      ]
     },
     "execution_count": 22,
     "metadata": {},
     "output_type": "execute_result"
    },
    {
     "data": {
      "text/markdown": [
       "${}\\partial_{e c}{\\Gamma^{a}\\,_{b d}}-\\partial_{e d}{\\Gamma^{a}\\,_{b c}}+\\Gamma^{a}\\,_{c f} \\partial_{e}{\\Gamma^{f}\\,_{b d}}+\\Gamma^{f}\\,_{b d} \\partial_{e}{\\Gamma^{a}\\,_{c f}}-\\Gamma^{a}\\,_{d f} \\partial_{e}{\\Gamma^{f}\\,_{b c}}-\\Gamma^{f}\\,_{b c} \\partial_{e}{\\Gamma^{a}\\,_{d f}}+\\Gamma^{a}\\,_{f e} \\partial_{c}{\\Gamma^{f}\\,_{b d}}-\\Gamma^{a}\\,_{f e} \\partial_{d}{\\Gamma^{f}\\,_{b c}}+\\Gamma^{a}\\,_{f e} \\Gamma^{f}\\,_{c g} \\Gamma^{g}\\,_{b d}-\\Gamma^{a}\\,_{f e} \\Gamma^{f}\\,_{d g} \\Gamma^{g}\\,_{b c}-\\Gamma^{f}\\,_{b e} \\partial_{c}{\\Gamma^{a}\\,_{f d}}+\\Gamma^{f}\\,_{b e} \\partial_{d}{\\Gamma^{a}\\,_{f c}}-\\Gamma^{a}\\,_{c f} \\Gamma^{g}\\,_{b e} \\Gamma^{f}\\,_{g d}+\\Gamma^{a}\\,_{d f} \\Gamma^{g}\\,_{b e} \\Gamma^{f}\\,_{g c}-\\Gamma^{f}\\,_{c e} \\partial_{f}{\\Gamma^{a}\\,_{b d}}+\\Gamma^{f}\\,_{c e} \\partial_{d}{\\Gamma^{a}\\,_{b f}}-\\Gamma^{a}\\,_{f g} \\Gamma^{f}\\,_{c e} \\Gamma^{g}\\,_{b d}+\\Gamma^{a}\\,_{d f} \\Gamma^{g}\\,_{c e} \\Gamma^{f}\\,_{b g}-\\Gamma^{f}\\,_{d e} \\partial_{c}{\\Gamma^{a}\\,_{b f}}%\n",
       "+\\Gamma^{f}\\,_{d e} \\partial_{f}{\\Gamma^{a}\\,_{b c}}-\\Gamma^{a}\\,_{c f} \\Gamma^{g}\\,_{d e} \\Gamma^{f}\\,_{b g}+\\Gamma^{a}\\,_{f g} \\Gamma^{f}\\,_{d e} \\Gamma^{g}\\,_{b c}+\\partial_{d e}{\\Gamma^{a}\\,_{b c}}-\\partial_{d c}{\\Gamma^{a}\\,_{b e}}+\\Gamma^{a}\\,_{e f} \\partial_{d}{\\Gamma^{f}\\,_{b c}}+\\Gamma^{f}\\,_{b c} \\partial_{d}{\\Gamma^{a}\\,_{e f}}-\\Gamma^{a}\\,_{c f} \\partial_{d}{\\Gamma^{f}\\,_{b e}}-\\Gamma^{f}\\,_{b e} \\partial_{d}{\\Gamma^{a}\\,_{c f}}+\\Gamma^{a}\\,_{f d} \\partial_{e}{\\Gamma^{f}\\,_{b c}}-\\Gamma^{a}\\,_{f d} \\partial_{c}{\\Gamma^{f}\\,_{b e}}+\\Gamma^{a}\\,_{f d} \\Gamma^{f}\\,_{e g} \\Gamma^{g}\\,_{b c}-\\Gamma^{a}\\,_{f d} \\Gamma^{f}\\,_{c g} \\Gamma^{g}\\,_{b e}-\\Gamma^{f}\\,_{b d} \\partial_{e}{\\Gamma^{a}\\,_{f c}}+\\Gamma^{f}\\,_{b d} \\partial_{c}{\\Gamma^{a}\\,_{f e}}-\\Gamma^{a}\\,_{e f} \\Gamma^{g}\\,_{b d} \\Gamma^{f}\\,_{g c}+\\Gamma^{a}\\,_{c f} \\Gamma^{g}\\,_{b d} \\Gamma^{f}\\,_{g e}-\\Gamma^{f}\\,_{e d} \\partial_{f}{\\Gamma^{a}\\,_{b c}}+\\Gamma^{f}\\,_{e d} \\partial_{c}{\\Gamma^{a}\\,_{b f}}-\\Gamma^{a}\\,_{f g} \\Gamma^{f}\\,_{e d} \\Gamma^{g}\\,_{b c}%\n",
       "+\\Gamma^{a}\\,_{c f} \\Gamma^{g}\\,_{e d} \\Gamma^{f}\\,_{b g}-\\Gamma^{f}\\,_{c d} \\partial_{e}{\\Gamma^{a}\\,_{b f}}+\\Gamma^{f}\\,_{c d} \\partial_{f}{\\Gamma^{a}\\,_{b e}}-\\Gamma^{a}\\,_{e f} \\Gamma^{g}\\,_{c d} \\Gamma^{f}\\,_{b g}+\\Gamma^{a}\\,_{f g} \\Gamma^{f}\\,_{c d} \\Gamma^{g}\\,_{b e}+\\partial_{c d}{\\Gamma^{a}\\,_{b e}}-\\partial_{c e}{\\Gamma^{a}\\,_{b d}}+\\Gamma^{a}\\,_{d f} \\partial_{c}{\\Gamma^{f}\\,_{b e}}+\\Gamma^{f}\\,_{b e} \\partial_{c}{\\Gamma^{a}\\,_{d f}}-\\Gamma^{a}\\,_{e f} \\partial_{c}{\\Gamma^{f}\\,_{b d}}-\\Gamma^{f}\\,_{b d} \\partial_{c}{\\Gamma^{a}\\,_{e f}}+\\Gamma^{a}\\,_{f c} \\partial_{d}{\\Gamma^{f}\\,_{b e}}-\\Gamma^{a}\\,_{f c} \\partial_{e}{\\Gamma^{f}\\,_{b d}}+\\Gamma^{a}\\,_{f c} \\Gamma^{f}\\,_{d g} \\Gamma^{g}\\,_{b e}-\\Gamma^{a}\\,_{f c} \\Gamma^{f}\\,_{e g} \\Gamma^{g}\\,_{b d}-\\Gamma^{f}\\,_{b c} \\partial_{d}{\\Gamma^{a}\\,_{f e}}+\\Gamma^{f}\\,_{b c} \\partial_{e}{\\Gamma^{a}\\,_{f d}}-\\Gamma^{a}\\,_{d f} \\Gamma^{g}\\,_{b c} \\Gamma^{f}\\,_{g e}+\\Gamma^{a}\\,_{e f} \\Gamma^{g}\\,_{b c} \\Gamma^{f}\\,_{g d}-\\Gamma^{f}\\,_{d c} \\partial_{f}{\\Gamma^{a}\\,_{b e}}%\n",
       "+\\Gamma^{f}\\,_{d c} \\partial_{e}{\\Gamma^{a}\\,_{b f}}-\\Gamma^{a}\\,_{f g} \\Gamma^{f}\\,_{d c} \\Gamma^{g}\\,_{b e}+\\Gamma^{a}\\,_{e f} \\Gamma^{g}\\,_{d c} \\Gamma^{f}\\,_{b g}-\\Gamma^{f}\\,_{e c} \\partial_{d}{\\Gamma^{a}\\,_{b f}}+\\Gamma^{f}\\,_{e c} \\partial_{f}{\\Gamma^{a}\\,_{b d}}-\\Gamma^{a}\\,_{d f} \\Gamma^{g}\\,_{e c} \\Gamma^{f}\\,_{b g}+\\Gamma^{a}\\,_{f g} \\Gamma^{f}\\,_{e c} \\Gamma^{g}\\,_{b d}$"
      ]
     },
     "execution_count": 22,
     "metadata": {},
     "output_type": "execute_result"
    },
    {
     "data": {
      "text/markdown": [
       "${}0$"
      ]
     },
     "execution_count": 22,
     "metadata": {},
     "output_type": "execute_result"
    }
   ],
   "source": [
    "expr := R^{a}_{b c d ; e} + R^{a}_{b e c ; d} + R^{a}_{b d e ; c};\n",
    "\n",
    "substitute(expr, dRabcd);\n",
    "substitute(expr, Rabcd);\n",
    "distribute(expr);\n",
    "product_rule(expr)\n",
    "sort_product(expr)\n",
    "rename_dummies(expr);\n",
    "canonicalise(expr);"
   ]
  },
  {
   "cell_type": "markdown",
   "metadata": {},
   "source": [
    "## Lowering indices on the Riemann tensor\n",
    "Say we want to express\n",
    "$$\n",
    "R_{abcd} = g_{ae}R^{e}_{\\hphantom{e}bcd}\n",
    "$$\n",
    "in terms of the connections and their derivatives. In Cadabra, we would approach this in the following way; first, we define the symmetry properties of the connections:"
   ]
  },
  {
   "cell_type": "code",
   "execution_count": 23,
   "metadata": {},
   "outputs": [],
   "source": [
    "{a,b,c,d,e,f,g,h,i,j,k,l,m,n,o,p,q,r,s,t,u,v,w#}::Indices(position=independent).\n",
    "\\partial{#}::PartialDerivative.\n",
    "\n",
    "\\Gamma^{a}_{b c}::TableauSymmetry(shape={2}, indices={1,2}).\n",
    "\\Gamma_{a b c}::TableauSymmetry(shape={2}, indices={1,2})."
   ]
  },
  {
   "cell_type": "markdown",
   "metadata": {},
   "source": [
    "Then, we define relevant rules:"
   ]
  },
  {
   "cell_type": "code",
   "execution_count": 28,
   "metadata": {},
   "outputs": [
    {
     "data": {
      "text/markdown": [
       "${}\\partial_{c}{g_{a b}} \\rightarrow \\Gamma^{d}\\,_{a c} g_{d b}+\\Gamma^{d}\\,_{b c} g_{a d}$"
      ]
     },
     "execution_count": 28,
     "metadata": {},
     "output_type": "execute_result"
    },
    {
     "data": {
      "text/markdown": [
       "${}R^{a}\\,_{b c d} \\rightarrow \\partial_{c}{\\Gamma^{a}\\,_{b d}}-\\partial_{d}{\\Gamma^{a}\\,_{b c}}+\\Gamma^{e}\\,_{b d} \\Gamma^{a}\\,_{c e}-\\Gamma^{e}\\,_{b c} \\Gamma^{a}\\,_{d e}$"
      ]
     },
     "execution_count": 28,
     "metadata": {},
     "output_type": "execute_result"
    },
    {
     "data": {
      "text/markdown": [
       "${}\\left[g_{a e} \\Gamma^{e}\\,_{b c} \\rightarrow \\Gamma_{a b c},~ g_{e a} \\Gamma^{e}\\,_{b c} \\rightarrow \\Gamma_{a b c}\\right]$"
      ]
     },
     "execution_count": 28,
     "metadata": {},
     "output_type": "execute_result"
    },
    {
     "data": {
      "text/markdown": [
       "${}R_{a b c d} \\rightarrow g_{a e} R^{e}\\,_{b c d}$"
      ]
     },
     "execution_count": 28,
     "metadata": {},
     "output_type": "execute_result"
    },
    {
     "data": {
      "text/markdown": [
       "${}g_{a e} \\partial_{c}{\\Gamma^{e}\\,_{b d}} \\rightarrow \\partial_{c}\\left(g_{a e} \\Gamma^{e}\\,_{b d}\\right)-\\Gamma^{e}\\,_{b d} \\partial_{c}{g_{a e}}$"
      ]
     },
     "execution_count": 28,
     "metadata": {},
     "output_type": "execute_result"
    }
   ],
   "source": [
    "dgab := \\partial_{c}{g_{a b}} -> \\Gamma^{d}_{a c} g_{d b}\n",
    "    + \\Gamma^{d}_{b c} g_{a d};\n",
    "    \n",
    "RabcdU := R^{a}_{b c d} -> \\partial_{c}{\\Gamma^{a}_{b d}}\n",
    "    - \\partial_{d}{\\Gamma^{a}_{b c}}\n",
    "    + \\Gamma^{e}_{b d} \\Gamma^{a}_{c e}\n",
    "    - \\Gamma^{e}_{b c} \\Gamma^{a}_{d e};\n",
    "    \n",
    "GammaD := {g_{a e} \\Gamma^{e}_{b c} -> \\Gamma_{a b c},\n",
    "    g_{e a} \\Gamma^{e}_{b c} -> \\Gamma_{a b c}};\n",
    "\n",
    "RabcdD := R_{a b c d} -> g_{a e} R^{e}_{b c d};\n",
    "\n",
    " # from product rule\n",
    "gabDGamma := g_{a e} \\partial_{c}{\\Gamma^{e}_{b d}} ->\n",
    "    \\partial_{c}{g_{a e} \\Gamma^{e}_{b d}}\n",
    "    - \\Gamma^{e}_{b d} \\partial_{c}{g_{a e}};"
   ]
  },
  {
   "cell_type": "markdown",
   "metadata": {},
   "source": [
    "And act on our expression:"
   ]
  },
  {
   "cell_type": "code",
   "execution_count": 60,
   "metadata": {},
   "outputs": [
    {
     "data": {
      "text/markdown": [
       "${}R_{a b c d}$"
      ]
     },
     "execution_count": 60,
     "metadata": {},
     "output_type": "execute_result"
    }
   ],
   "source": [
    "expr := R_{a b c d};"
   ]
  },
  {
   "cell_type": "code",
   "execution_count": 61,
   "metadata": {},
   "outputs": [
    {
     "data": {
      "text/markdown": [
       "${}g_{a e} R^{e}\\,_{b c d}$"
      ]
     },
     "execution_count": 61,
     "metadata": {},
     "output_type": "execute_result"
    },
    {
     "data": {
      "text/markdown": [
       "${}g_{a e} \\left(\\partial_{c}{\\Gamma^{e}\\,_{b d}}-\\partial_{d}{\\Gamma^{e}\\,_{b c}}+\\Gamma^{f}\\,_{b d} \\Gamma^{e}\\,_{c f}-\\Gamma^{f}\\,_{b c} \\Gamma^{e}\\,_{d f}\\right)$"
      ]
     },
     "execution_count": 61,
     "metadata": {},
     "output_type": "execute_result"
    },
    {
     "data": {
      "text/markdown": [
       "${}g_{a e} \\partial_{c}{\\Gamma^{e}\\,_{b d}}-g_{a e} \\partial_{d}{\\Gamma^{e}\\,_{b c}}+g_{a e} \\Gamma^{f}\\,_{b d} \\Gamma^{e}\\,_{c f}-g_{a e} \\Gamma^{f}\\,_{b c} \\Gamma^{e}\\,_{d f}$"
      ]
     },
     "execution_count": 61,
     "metadata": {},
     "output_type": "execute_result"
    },
    {
     "data": {
      "text/markdown": [
       "${}\\partial_{c}\\left(g_{a e} \\Gamma^{e}\\,_{b d}\\right)-\\Gamma^{e}\\,_{b d} \\partial_{c}{g_{a e}}-\\partial_{d}\\left(g_{a e} \\Gamma^{e}\\,_{b c}\\right)+\\Gamma^{e}\\,_{b c} \\partial_{d}{g_{a e}}+g_{a e} \\Gamma^{f}\\,_{b d} \\Gamma^{e}\\,_{c f}-g_{a e} \\Gamma^{f}\\,_{b c} \\Gamma^{e}\\,_{d f}$"
      ]
     },
     "execution_count": 61,
     "metadata": {},
     "output_type": "execute_result"
    },
    {
     "data": {
      "text/markdown": [
       "${}\\partial_{c}\\left(g_{a e} \\Gamma^{e}\\,_{b d}\\right)-\\Gamma^{e}\\,_{b d} \\left(\\Gamma^{f}\\,_{a c} g_{f e}+\\Gamma^{f}\\,_{e c} g_{a f}\\right)-\\partial_{d}\\left(g_{a e} \\Gamma^{e}\\,_{b c}\\right)+\\Gamma^{e}\\,_{b c} \\left(\\Gamma^{f}\\,_{a d} g_{f e}+\\Gamma^{f}\\,_{e d} g_{a f}\\right)+g_{a e} \\Gamma^{f}\\,_{b d} \\Gamma^{e}\\,_{c f}-g_{a e} \\Gamma^{f}\\,_{b c} \\Gamma^{e}\\,_{d f}$"
      ]
     },
     "execution_count": 61,
     "metadata": {},
     "output_type": "execute_result"
    }
   ],
   "source": [
    "substitute(expr, RabcdD);\n",
    "substitute(expr, RabcdU);\n",
    "distribute(expr);\n",
    "substitute(expr, gabDGamma);\n",
    "substitute(expr, dgab);"
   ]
  },
  {
   "cell_type": "markdown",
   "metadata": {},
   "source": [
    "We then apply rules for raising and lowering indices:"
   ]
  },
  {
   "cell_type": "code",
   "execution_count": 62,
   "metadata": {
    "scrolled": true
   },
   "outputs": [
    {
     "data": {
      "text/markdown": [
       "${}\\partial_{c}{\\Gamma_{a b d}}-\\Gamma^{e}\\,_{b d} \\left(\\Gamma_{e a c}+\\Gamma_{a e c}\\right)-\\partial_{d}{\\Gamma_{a b c}}+\\Gamma^{e}\\,_{b c} \\left(\\Gamma_{e a d}+\\Gamma_{a e d}\\right)+\\Gamma_{a c f} \\Gamma^{f}\\,_{b d}-\\Gamma_{a d f} \\Gamma^{f}\\,_{b c}$"
      ]
     },
     "execution_count": 62,
     "metadata": {},
     "output_type": "execute_result"
    },
    {
     "data": {
      "text/markdown": [
       "${}\\partial_{c}{\\Gamma_{a b d}}-\\Gamma^{e}\\,_{b d} \\Gamma_{e a c}-\\Gamma^{e}\\,_{b d} \\Gamma_{a e c}-\\partial_{d}{\\Gamma_{a b c}}+\\Gamma^{e}\\,_{b c} \\Gamma_{e a d}+\\Gamma^{e}\\,_{b c} \\Gamma_{a e d}+\\Gamma_{a c f} \\Gamma^{f}\\,_{b d}-\\Gamma_{a d f} \\Gamma^{f}\\,_{b c}$"
      ]
     },
     "execution_count": 62,
     "metadata": {},
     "output_type": "execute_result"
    }
   ],
   "source": [
    "substitute(expr, GammaD);\n",
    "distribute(expr);"
   ]
  },
  {
   "cell_type": "markdown",
   "metadata": {},
   "source": [
    "We apply a temporary substitution for resorting the connections, which have all indices all down, to the left. This helps `canonicalise` find and eliminate terms that cancel under permutation. In general, `canonicalise` will miss terms like\n",
    "\n",
    "$$\n",
    "\\Gamma_{abc}\\Gamma^{c}_{\\hphantom{c}de} - \\Gamma^{c}_{\\hphantom{c}de} \\Gamma_{abc}.\n",
    "$$\n",
    "This is hinted to in the [`canonicalise` man-page](https://cadabra.science/manual/canonicalise.html):\n",
    "> If you have symmetric or anti-symmetric tensors with many indices, it sometimes pays off to sort them to the end of the expression (this may speed up the canonicalisation process considerably). \n",
    "\n",
    "We can force ordering with the substitution:"
   ]
  },
  {
   "cell_type": "code",
   "execution_count": 63,
   "metadata": {},
   "outputs": [
    {
     "data": {
      "text/markdown": [
       "${}\\partial_{c}{A_{a b d}}-\\Gamma^{e}\\,_{b d} A_{e a c}-\\Gamma^{e}\\,_{b d} A_{a e c}-\\partial_{d}{A_{a b c}}+\\Gamma^{e}\\,_{b c} A_{e a d}+\\Gamma^{e}\\,_{b c} A_{a e d}+A_{a c f} \\Gamma^{f}\\,_{b d}-A_{a d f} \\Gamma^{f}\\,_{b c}$"
      ]
     },
     "execution_count": 63,
     "metadata": {},
     "output_type": "execute_result"
    },
    {
     "data": {
      "text/markdown": [
       "${}\\partial_{c}{A_{a b d}}-A_{e a c} \\Gamma^{e}\\,_{b d}-A_{a e c} \\Gamma^{e}\\,_{b d}-\\partial_{d}{A_{a b c}}+A_{e a d} \\Gamma^{e}\\,_{b c}+A_{a e d} \\Gamma^{e}\\,_{b c}+A_{a c f} \\Gamma^{f}\\,_{b d}-A_{a d f} \\Gamma^{f}\\,_{b c}$"
      ]
     },
     "execution_count": 63,
     "metadata": {},
     "output_type": "execute_result"
    }
   ],
   "source": [
    "substitute(expr, $\\Gamma_{a b c} -> A_{a b c}$);\n",
    "sort_product(expr);"
   ]
  },
  {
   "cell_type": "code",
   "execution_count": 64,
   "metadata": {},
   "outputs": [
    {
     "data": {
      "text/markdown": [
       "${}\\partial_{c}{A_{a b d}}-A_{e a c} \\Gamma^{e}\\,_{b d}-A_{a e c} \\Gamma^{e}\\,_{b d}-\\partial_{d}{A_{a b c}}+A_{e a d} \\Gamma^{e}\\,_{b c}+A_{a e d} \\Gamma^{e}\\,_{b c}+A_{a c e} \\Gamma^{e}\\,_{b d}-A_{a d e} \\Gamma^{e}\\,_{b c}$"
      ]
     },
     "execution_count": 64,
     "metadata": {},
     "output_type": "execute_result"
    }
   ],
   "source": [
    "rename_dummies(expr);"
   ]
  },
  {
   "cell_type": "code",
   "execution_count": 65,
   "metadata": {},
   "outputs": [
    {
     "data": {
      "text/markdown": [
       "${}\\partial_{c}{\\Gamma_{a b d}}-\\Gamma_{e a c} \\Gamma^{e}\\,_{b d}-\\Gamma_{a e c} \\Gamma^{e}\\,_{b d}-\\partial_{d}{\\Gamma_{a b c}}+\\Gamma_{e a d} \\Gamma^{e}\\,_{b c}+\\Gamma_{a e d} \\Gamma^{e}\\,_{b c}+\\Gamma_{a c e} \\Gamma^{e}\\,_{b d}-\\Gamma_{a d e} \\Gamma^{e}\\,_{b c}$"
      ]
     },
     "execution_count": 65,
     "metadata": {},
     "output_type": "execute_result"
    }
   ],
   "source": [
    "substitute(expr, $A_{a b c} -> \\Gamma_{a b c}$);"
   ]
  },
  {
   "cell_type": "code",
   "execution_count": 66,
   "metadata": {},
   "outputs": [
    {
     "data": {
      "text/markdown": [
       "${}\\partial_{c}{\\Gamma_{a b d}}-\\Gamma_{e a c} \\Gamma^{e}\\,_{b d}-\\partial_{d}{\\Gamma_{a b c}}+\\Gamma_{e a d} \\Gamma^{e}\\,_{b c}$"
      ]
     },
     "execution_count": 66,
     "metadata": {},
     "output_type": "execute_result"
    }
   ],
   "source": [
    "canonicalise(expr);"
   ]
  },
  {
   "cell_type": "markdown",
   "metadata": {},
   "source": [
    "*Adendum*: I was reading the manual and discovered the [`meld`](https://cadabra.science/manual/meld.html) directive, which\n",
    ">In a sum of terms, combine terms using mono-term and multi-term symmetries such that the expression does not use an overcomplete basis. [...] It can hence be used to prove equivalency of expressions under both mono-term and multi-term symmetries.\n",
    "\n",
    "Followed by\n",
    "> A typical use cases where meld is preferable over e.g. canonicalise is when the expression contains tensors with multi-term symmetries:\n",
    "\n",
    "In other words, it will perform symmetry reshuffling for us, instead of having to rely on novel uses of substitutions and product sorting. Note, however that\n",
    "\n",
    "> [...] meld does not canonicalise, but rather writes the expression such that there remain no linear dependencies between terms.\n",
    "\n",
    "So the above can be restated more elegantly:"
   ]
  },
  {
   "cell_type": "code",
   "execution_count": 74,
   "metadata": {},
   "outputs": [
    {
     "data": {
      "text/markdown": [
       "${}R_{a b c d}$"
      ]
     },
     "execution_count": 74,
     "metadata": {},
     "output_type": "execute_result"
    },
    {
     "data": {
      "text/markdown": [
       "${}\\partial_{c}{\\Gamma_{a b d}}-\\Gamma^{e}\\,_{b d} \\Gamma_{e a c}-\\Gamma^{e}\\,_{b d} \\Gamma_{a e c}-\\partial_{d}{\\Gamma_{a b c}}+\\Gamma^{e}\\,_{b c} \\Gamma_{e a d}+\\Gamma^{e}\\,_{b c} \\Gamma_{a e d}+\\Gamma_{a c f} \\Gamma^{f}\\,_{b d}-\\Gamma_{a d f} \\Gamma^{f}\\,_{b c}$"
      ]
     },
     "execution_count": 74,
     "metadata": {},
     "output_type": "execute_result"
    },
    {
     "data": {
      "text/markdown": [
       "${}\\partial_{c}{\\Gamma_{a b d}}-\\Gamma^{e}\\,_{b d} \\Gamma_{e a c}-\\partial_{d}{\\Gamma_{a b c}}+\\Gamma^{e}\\,_{b c} \\Gamma_{e a d}$"
      ]
     },
     "execution_count": 74,
     "metadata": {},
     "output_type": "execute_result"
    }
   ],
   "source": [
    "expr := R_{a b c d};\n",
    "substitute(expr, RabcdD)\n",
    "substitute(expr, RabcdU)\n",
    "distribute(expr)\n",
    "substitute(expr, gabDGamma)\n",
    "substitute(expr, dgab)\n",
    "substitute(expr, GammaD)\n",
    "distribute(expr);\n",
    "\n",
    "meld(expr);"
   ]
  },
  {
   "cell_type": "markdown",
   "metadata": {},
   "source": [
    "### Symmetries of $R_{abcd}$\n",
    "\n",
    "We can follow the above work and verify some additional results, namely that\n",
    "$$\n",
    "R_{abcd} = - R_{bacd},\n",
    "$$\n",
    "and\n",
    "$$\n",
    "R_{abcd} = R_{cdab}.\n",
    "$$\n",
    "\n",
    "We approach this as follows; first we state the symmetries of our compontents:"
   ]
  },
  {
   "cell_type": "code",
   "execution_count": 75,
   "metadata": {},
   "outputs": [],
   "source": [
    "{a,b,c,d,e,f,g,h,i,j,k,l,m,n,o,p,q,r,s,t,u,v,w#}::Indices(position=independent).\n",
    "\\partial{#}::PartialDerivative.\n",
    "\n",
    " # state symmetries of the metric\n",
    "g_{a b}::Symmetric.\n",
    "g^{a b}::Symmetric.\n",
    "\n",
    " # symmetries of the connections\n",
    "\\Gamma^{a}_{b c}::TableauSymmetry(shape={2}, indices={1,2}).\n",
    "\\Gamma_{a b c}::TableauSymmetry(shape={2}, indices={1,2})."
   ]
  },
  {
   "cell_type": "markdown",
   "metadata": {},
   "source": [
    "Then we define our rules as usual:"
   ]
  },
  {
   "cell_type": "code",
   "execution_count": 76,
   "metadata": {},
   "outputs": [
    {
     "data": {
      "text/markdown": [
       "${}\\Gamma^{a}\\,_{b c} \\rightarrow \\frac{1}{2}g^{a d} \\left(\\partial_{b}{g_{d c}}+\\partial_{c}{g_{b d}}-\\partial_{d}{g_{b c}}\\right)$"
      ]
     },
     "execution_count": 76,
     "metadata": {},
     "output_type": "execute_result"
    },
    {
     "data": {
      "text/markdown": [
       "${}\\Gamma_{a b c} \\rightarrow \\frac{1}{2}\\partial_{b}{g_{a c}}+\\frac{1}{2}\\partial_{c}{g_{b a}} - \\frac{1}{2}\\partial_{a}{g_{b c}}$"
      ]
     },
     "execution_count": 76,
     "metadata": {},
     "output_type": "execute_result"
    },
    {
     "data": {
      "text/markdown": [
       "${}R_{a b c d} \\rightarrow \\partial_{c}{\\Gamma_{a b d}}-\\partial_{d}{\\Gamma_{a b c}}+\\Gamma_{e a d} \\Gamma^{e}\\,_{b c}-\\Gamma_{e a c} \\Gamma^{e}\\,_{b d}$"
      ]
     },
     "execution_count": 76,
     "metadata": {},
     "output_type": "execute_result"
    }
   ],
   "source": [
    "GammaU := \\Gamma^{a}_{b c} -> 1/2 g^{a d} (\\partial_{b}{g_{d c}}\n",
    "    + \\partial_{c}{g_{b d}}\n",
    "    - \\partial_{d}{g_{b c}});\n",
    "\n",
    "\n",
    "GammaD := \\Gamma_{a b c} -> 1/2 (\\partial_{b}{g_{a c}}\n",
    "    + \\partial_{c}{g_{b a}}\n",
    "    - \\partial_{a}{g_{b c}});\n",
    "\n",
    "\n",
    "Rabcd := R_{a b c d} -> \\partial_{c}{\\Gamma_{a b d}}\n",
    "    - \\partial_{d}{\\Gamma_{a b c}}\n",
    "    + \\Gamma_{e a d} \\Gamma^{e}_{b c}\n",
    "    - \\Gamma_{e a c} \\Gamma^{e}_{b d};"
   ]
  },
  {
   "cell_type": "markdown",
   "metadata": {},
   "source": [
    "Now we define our expression, and the usual prescription:"
   ]
  },
  {
   "cell_type": "code",
   "execution_count": 93,
   "metadata": {},
   "outputs": [
    {
     "data": {
      "text/markdown": [
       "${}R_{a b c d}+R_{b a c d}$"
      ]
     },
     "execution_count": 93,
     "metadata": {},
     "output_type": "execute_result"
    },
    {
     "data": {
      "text/markdown": [
       "${}\\partial_{c}{\\Gamma_{a b d}}-\\partial_{d}{\\Gamma_{a b c}}+\\Gamma_{e a d} \\Gamma^{e}\\,_{b c}-\\Gamma_{e a c} \\Gamma^{e}\\,_{b d}+\\partial_{c}{\\Gamma_{b a d}}-\\partial_{d}{\\Gamma_{b a c}}+\\Gamma_{e b d} \\Gamma^{e}\\,_{a c}-\\Gamma_{e b c} \\Gamma^{e}\\,_{a d}$"
      ]
     },
     "execution_count": 93,
     "metadata": {},
     "output_type": "execute_result"
    },
    {
     "data": {
      "text/markdown": [
       "${}\\partial_{c}{\\Gamma_{a b d}}-\\partial_{d}{\\Gamma_{a b c}}+\\partial_{c}{\\Gamma_{b a d}}-\\partial_{d}{\\Gamma_{b a c}}$"
      ]
     },
     "execution_count": 93,
     "metadata": {},
     "output_type": "execute_result"
    },
    {
     "data": {
      "text/markdown": [
       "${}\\partial_{c}\\left(\\frac{1}{2}\\partial_{b}{g_{a d}}+\\frac{1}{2}\\partial_{d}{g_{b a}} - \\frac{1}{2}\\partial_{a}{g_{b d}}\\right)-\\partial_{d}\\left(\\frac{1}{2}\\partial_{b}{g_{a c}}+\\frac{1}{2}\\partial_{c}{g_{b a}} - \\frac{1}{2}\\partial_{a}{g_{b c}}\\right)+\\partial_{c}\\left(\\frac{1}{2}\\partial_{a}{g_{b d}}+\\frac{1}{2}\\partial_{d}{g_{a b}} - \\frac{1}{2}\\partial_{b}{g_{a d}}\\right)-\\partial_{d}\\left(\\frac{1}{2}\\partial_{a}{g_{b c}}+\\frac{1}{2}\\partial_{c}{g_{a b}} - \\frac{1}{2}\\partial_{b}{g_{a c}}\\right)$"
      ]
     },
     "execution_count": 93,
     "metadata": {},
     "output_type": "execute_result"
    },
    {
     "data": {
      "text/markdown": [
       "${}\\frac{1}{2}\\partial_{c d}{g_{b a}} - \\frac{1}{2}\\partial_{d c}{g_{b a}}+\\frac{1}{2}\\partial_{c d}{g_{a b}} - \\frac{1}{2}\\partial_{d c}{g_{a b}}$"
      ]
     },
     "execution_count": 93,
     "metadata": {},
     "output_type": "execute_result"
    },
    {
     "data": {
      "text/markdown": [
       "${}0$"
      ]
     },
     "execution_count": 93,
     "metadata": {},
     "output_type": "execute_result"
    }
   ],
   "source": [
    "expr := R_{a b c d} + R_{b a c d};\n",
    "substitute(expr, Rabcd);\n",
    "\n",
    "# perform early cleanup to simplify\n",
    "meld(expr);\n",
    "substitute(expr, GammaD);\n",
    "distribute(expr);\n",
    "canonicalise(expr);"
   ]
  },
  {
   "cell_type": "markdown",
   "metadata": {},
   "source": [
    "Note that `meld` even shuffles the 'evelvation' of indices to correctly identify\n",
    "\n",
    "$$\n",
    "\\Gamma_{ead} \\Gamma^{e}_{\\hphantom{e}bc} - \\Gamma_{ebc} \\Gamma ^{e}_{\\hphantom{e}ad}\n",
    "$$\n",
    "\n",
    "cancels for our commuting connections with symmetry in the final two indices.\n",
    "\n",
    "The other relation is now trivial also:"
   ]
  },
  {
   "cell_type": "code",
   "execution_count": 96,
   "metadata": {},
   "outputs": [
    {
     "data": {
      "text/markdown": [
       "${}R_{a b c d}-R_{c d a b}$"
      ]
     },
     "execution_count": 96,
     "metadata": {},
     "output_type": "execute_result"
    },
    {
     "data": {
      "text/markdown": [
       "${}\\partial_{c}{\\Gamma_{a b d}}-\\partial_{d}{\\Gamma_{a b c}}+\\Gamma_{e a d} \\Gamma^{e}\\,_{b c}-\\Gamma_{e a c} \\Gamma^{e}\\,_{b d}-\\partial_{a}{\\Gamma_{c d b}}+\\partial_{b}{\\Gamma_{c d a}}-\\Gamma_{e c b} \\Gamma^{e}\\,_{d a}+\\Gamma_{e c a} \\Gamma^{e}\\,_{d b}$"
      ]
     },
     "execution_count": 96,
     "metadata": {},
     "output_type": "execute_result"
    },
    {
     "data": {
      "text/markdown": [
       "${}\\partial_{c}{\\Gamma_{a b d}}-\\partial_{d}{\\Gamma_{a b c}}-\\partial_{a}{\\Gamma_{c d b}}+\\partial_{b}{\\Gamma_{c d a}}$"
      ]
     },
     "execution_count": 96,
     "metadata": {},
     "output_type": "execute_result"
    },
    {
     "data": {
      "text/markdown": [
       "${}\\partial_{c}\\left(\\frac{1}{2}\\partial_{b}{g_{a d}}+\\frac{1}{2}\\partial_{d}{g_{b a}} - \\frac{1}{2}\\partial_{a}{g_{b d}}\\right)-\\partial_{d}\\left(\\frac{1}{2}\\partial_{b}{g_{a c}}+\\frac{1}{2}\\partial_{c}{g_{b a}} - \\frac{1}{2}\\partial_{a}{g_{b c}}\\right)-\\partial_{a}\\left(\\frac{1}{2}\\partial_{d}{g_{c b}}+\\frac{1}{2}\\partial_{b}{g_{d c}} - \\frac{1}{2}\\partial_{c}{g_{d b}}\\right)+\\partial_{b}\\left(\\frac{1}{2}\\partial_{d}{g_{c a}}+\\frac{1}{2}\\partial_{a}{g_{d c}} - \\frac{1}{2}\\partial_{c}{g_{d a}}\\right)$"
      ]
     },
     "execution_count": 96,
     "metadata": {},
     "output_type": "execute_result"
    },
    {
     "data": {
      "text/markdown": [
       "${}\\frac{1}{2}\\partial_{c b}{g_{a d}}+\\frac{1}{2}\\partial_{c d}{g_{b a}} - \\frac{1}{2}\\partial_{c a}{g_{b d}} - \\frac{1}{2}\\partial_{d b}{g_{a c}} - \\frac{1}{2}\\partial_{d c}{g_{b a}}+\\frac{1}{2}\\partial_{d a}{g_{b c}} - \\frac{1}{2}\\partial_{a d}{g_{c b}} - \\frac{1}{2}\\partial_{a b}{g_{d c}}+\\frac{1}{2}\\partial_{a c}{g_{d b}}+\\frac{1}{2}\\partial_{b d}{g_{c a}}+\\frac{1}{2}\\partial_{b a}{g_{d c}} - \\frac{1}{2}\\partial_{b c}{g_{d a}}$"
      ]
     },
     "execution_count": 96,
     "metadata": {},
     "output_type": "execute_result"
    },
    {
     "data": {
      "text/markdown": [
       "${}0$"
      ]
     },
     "execution_count": 96,
     "metadata": {},
     "output_type": "execute_result"
    }
   ],
   "source": [
    "expr := R_{a b c d} - R_{c d a b};\n",
    "substitute(expr, Rabcd);\n",
    "meld(expr);\n",
    "substitute(expr, GammaD);\n",
    "distribute(expr);\n",
    "canonicalise(expr);"
   ]
  }
 ],
 "metadata": {
  "kernelspec": {
   "display_name": "Cadabra",
   "language": "python",
   "name": "cadabra"
  },
  "language_info": {
   "file_extension": ".cdb",
   "mimetype": "text/cadabra",
   "name": "cadabra",
   "version": "2.0.0"
  }
 },
 "nbformat": 4,
 "nbformat_minor": 4
}
