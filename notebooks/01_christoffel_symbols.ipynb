{
 "cells": [
  {
   "cell_type": "markdown",
   "metadata": {},
   "source": [
    "# Christoffel Symbols\n",
    "To illustrate an example of using the Cadabra2 software, let us calculate the covariant derivative for an arbitrary metric. We start by defining some Cadabra properties"
   ]
  },
  {
   "cell_type": "code",
   "execution_count": 1,
   "metadata": {},
   "outputs": [],
   "source": [
    " # define properties\n",
    "{a,b,c,d,e,f,g,h,i,j,k,l,m,n,o,p,q,r,s,t,u#}::Indices.\n",
    "\n",
    "g_{a b}::Metric.\n",
    "g_{a}^{b}::KroneckerDelta.\n",
    "\n",
    "\\nabla{#}::Derivative.\n",
    "\\partial{#}::PartialDerivative."
   ]
  },
  {
   "cell_type": "markdown",
   "metadata": {},
   "source": [
    "The convention `#` is used to denote infinite arguments; e.g. in the `::Indices`, this represents some\n",
    "$$\n",
    "u_1, u_2, u_3, ...\n",
    "$$\n",
    "and as an argument in `\\nabla{#}` tells the interpreter that $\\nabla$ may have any number of indices.\n",
    "\n",
    "We use the `.` at the end of a line to indicate that output from this line should not be returned. Else all statements must end with `;`.\n",
    "\n",
    "Next, we define the covariant derivative for the metric, and the connections:"
   ]
  },
  {
   "cell_type": "code",
   "execution_count": 2,
   "metadata": {
    "scrolled": true
   },
   "outputs": [
    {
     "data": {
      "text/markdown": [
       "${}\\nabla_{c}{g_{a b}} \\rightarrow \\partial_{c}{g_{a b}}-g_{a d} \\Gamma^{d}\\,_{b c}-g_{d b} \\Gamma^{d}\\,_{a c}$"
      ]
     },
     "execution_count": 2,
     "metadata": {},
     "output_type": "execute_result"
    },
    {
     "data": {
      "text/markdown": [
       "${}\\Gamma^{a}\\,_{b c} \\rightarrow \\frac{1}{2}g^{a d} \\left(\\partial_{b}{g_{d c}}+\\partial_{c}{g_{b d}}-\\partial_{d}{g_{b c}}\\right)$"
      ]
     },
     "execution_count": 2,
     "metadata": {},
     "output_type": "execute_result"
    }
   ],
   "source": [
    "nabla := \\nabla_{c}{g_{a b}} -> \\partial_{c}{g_{a b}} - g_{a d}\\Gamma^{d}_{b c} - g_{d b}\\Gamma^{d}_{a c};\n",
    "Gamma := \\Gamma^{a}_{b c} -> (1/2) g^{a d} ( \\partial_{b}{g_{d c}} + \\partial_{c}{g_{b d}} - \\partial_{d}{g_{b c}});"
   ]
  },
  {
   "cell_type": "markdown",
   "metadata": {},
   "source": [
    "Then we define using an expression which we will operate (in-place) on:"
   ]
  },
  {
   "cell_type": "code",
   "execution_count": 3,
   "metadata": {},
   "outputs": [
    {
     "data": {
      "text/markdown": [
       "${}\\nabla_{c}{g_{a b}}$"
      ]
     },
     "execution_count": 3,
     "metadata": {},
     "output_type": "execute_result"
    }
   ],
   "source": [
    "cderiv := \\nabla_{c}{g_{a b}};"
   ]
  },
  {
   "cell_type": "markdown",
   "metadata": {},
   "source": [
    "`substitute` the covariant derivative, and subsequently the connections:"
   ]
  },
  {
   "cell_type": "code",
   "execution_count": 4,
   "metadata": {
    "scrolled": true
   },
   "outputs": [
    {
     "data": {
      "text/markdown": [
       "${}\\partial_{c}{g_{a b}}-g_{a d} \\Gamma^{d}\\,_{b c}-g_{d b} \\Gamma^{d}\\,_{a c}$"
      ]
     },
     "execution_count": 4,
     "metadata": {},
     "output_type": "execute_result"
    },
    {
     "data": {
      "text/markdown": [
       "${}\\partial_{c}{g_{a b}} - \\frac{1}{2}g_{a d} g^{d e} \\left(\\partial_{b}{g_{e c}}+\\partial_{c}{g_{b e}}-\\partial_{e}{g_{b c}}\\right) - \\frac{1}{2}g_{d b} g^{d e} \\left(\\partial_{a}{g_{e c}}+\\partial_{c}{g_{a e}}-\\partial_{e}{g_{a c}}\\right)$"
      ]
     },
     "execution_count": 4,
     "metadata": {},
     "output_type": "execute_result"
    }
   ],
   "source": [
    "substitute(cderiv, nabla);\n",
    "substitute(cderiv, Gamma);"
   ]
  },
  {
   "cell_type": "markdown",
   "metadata": {},
   "source": [
    "Expand the expression using `distribute`:"
   ]
  },
  {
   "cell_type": "code",
   "execution_count": 5,
   "metadata": {
    "scrolled": true
   },
   "outputs": [
    {
     "data": {
      "text/markdown": [
       "${}\\partial_{c}{g_{a b}} - \\frac{1}{2}g_{a d} g^{d e} \\partial_{b}{g_{e c}} - \\frac{1}{2}g_{a d} g^{d e} \\partial_{c}{g_{b e}}+\\frac{1}{2}g_{a d} g^{d e} \\partial_{e}{g_{b c}} - \\frac{1}{2}g_{d b} g^{d e} \\partial_{a}{g_{e c}} - \\frac{1}{2}g_{d b} g^{d e} \\partial_{c}{g_{a e}}+\\frac{1}{2}g_{d b} g^{d e} \\partial_{e}{g_{a c}}$"
      ]
     },
     "execution_count": 5,
     "metadata": {},
     "output_type": "execute_result"
    }
   ],
   "source": [
    "distribute(cderiv);"
   ]
  },
  {
   "cell_type": "markdown",
   "metadata": {},
   "source": [
    "Eliminate the metric wherever possible:"
   ]
  },
  {
   "cell_type": "code",
   "execution_count": 6,
   "metadata": {
    "scrolled": true
   },
   "outputs": [
    {
     "data": {
      "text/markdown": [
       "${}\\partial_{c}{g_{a b}} - \\frac{1}{2}g_{a}\\,^{e} \\partial_{b}{g_{e c}} - \\frac{1}{2}g_{a}\\,^{e} \\partial_{c}{g_{b e}}+\\frac{1}{2}g_{a}\\,^{e} \\partial_{e}{g_{b c}} - \\frac{1}{2}g_{b}\\,^{e} \\partial_{a}{g_{e c}} - \\frac{1}{2}g_{b}\\,^{e} \\partial_{c}{g_{a e}}+\\frac{1}{2}g_{b}\\,^{e} \\partial_{e}{g_{a c}}$"
      ]
     },
     "execution_count": 6,
     "metadata": {},
     "output_type": "execute_result"
    },
    {
     "data": {
      "text/markdown": [
       "${}\\frac{1}{2}\\partial_{c}{g_{a b}} - \\frac{1}{2}\\partial_{c}{g_{b a}}$"
      ]
     },
     "execution_count": 6,
     "metadata": {},
     "output_type": "execute_result"
    }
   ],
   "source": [
    "eliminate_metric(cderiv);\n",
    "eliminate_kronecker(cderiv);"
   ]
  },
  {
   "cell_type": "markdown",
   "metadata": {},
   "source": [
    "And finally simplify where possible:"
   ]
  },
  {
   "cell_type": "code",
   "execution_count": 7,
   "metadata": {},
   "outputs": [
    {
     "data": {
      "text/markdown": [
       "${}0$"
      ]
     },
     "execution_count": 7,
     "metadata": {},
     "output_type": "execute_result"
    }
   ],
   "source": [
    "canonicalise(cderiv);"
   ]
  },
  {
   "cell_type": "markdown",
   "metadata": {},
   "source": [
    "We can also prove another non-trivial result, namely that\n",
    "$$\n",
    "\\Gamma_{a b c} + \\Gamma_{b a c} = \\partial_{c}{g_{a b}}.\n",
    "$$\n",
    "We can approach this by defining\n",
    "$$\n",
    "\\Gamma_{a b c} + \\Gamma_{b a c} - \\partial_{c}{g_{a b}} = 0\n",
    "$$\n",
    "as our expression, and calculating with:"
   ]
  },
  {
   "cell_type": "code",
   "execution_count": 8,
   "metadata": {},
   "outputs": [
    {
     "data": {
      "text/markdown": [
       "${}\\Gamma^{a}\\,_{b c} \\rightarrow \\frac{1}{2}g^{a d} \\left(\\partial_{b}{g_{d c}}+\\partial_{c}{g_{b d}}-\\partial_{d}{g_{b c}}\\right)$"
      ]
     },
     "execution_count": 8,
     "metadata": {},
     "output_type": "execute_result"
    },
    {
     "data": {
      "text/markdown": [
       "${}\\Gamma_{a b c} \\rightarrow g_{a d} \\Gamma^{d}\\,_{b c}$"
      ]
     },
     "execution_count": 8,
     "metadata": {},
     "output_type": "execute_result"
    },
    {
     "data": {
      "text/markdown": [
       "${}g_{a d} \\Gamma^{d}\\,_{b c}+g_{b d} \\Gamma^{d}\\,_{a c}-\\partial_{c}{g_{a b}}$"
      ]
     },
     "execution_count": 8,
     "metadata": {},
     "output_type": "execute_result"
    },
    {
     "data": {
      "text/markdown": [
       "${}\\frac{1}{2}g_{a d} g^{d e} \\left(\\partial_{b}{g_{e c}}+\\partial_{c}{g_{b e}}-\\partial_{e}{g_{b c}}\\right)+\\frac{1}{2}g_{b d} g^{d e} \\left(\\partial_{a}{g_{e c}}+\\partial_{c}{g_{a e}}-\\partial_{e}{g_{a c}}\\right)-\\partial_{c}{g_{a b}}$"
      ]
     },
     "execution_count": 8,
     "metadata": {},
     "output_type": "execute_result"
    },
    {
     "data": {
      "text/markdown": [
       "${}\\frac{1}{2}g_{a d} g^{d e} \\partial_{b}{g_{e c}}+\\frac{1}{2}g_{a d} g^{d e} \\partial_{c}{g_{b e}} - \\frac{1}{2}g_{a d} g^{d e} \\partial_{e}{g_{b c}}+\\frac{1}{2}g_{b d} g^{d e} \\partial_{a}{g_{e c}}+\\frac{1}{2}g_{b d} g^{d e} \\partial_{c}{g_{a e}} - \\frac{1}{2}g_{b d} g^{d e} \\partial_{e}{g_{a c}}-\\partial_{c}{g_{a b}}$"
      ]
     },
     "execution_count": 8,
     "metadata": {},
     "output_type": "execute_result"
    },
    {
     "data": {
      "text/markdown": [
       "${}\\frac{1}{2}g_{a}\\,^{e} \\partial_{b}{g_{e c}}+\\frac{1}{2}g_{a}\\,^{e} \\partial_{c}{g_{b e}} - \\frac{1}{2}g_{a}\\,^{e} \\partial_{e}{g_{b c}}+\\frac{1}{2}g_{b}\\,^{e} \\partial_{a}{g_{e c}}+\\frac{1}{2}g_{b}\\,^{e} \\partial_{c}{g_{a e}} - \\frac{1}{2}g_{b}\\,^{e} \\partial_{e}{g_{a c}}-\\partial_{c}{g_{a b}}$"
      ]
     },
     "execution_count": 8,
     "metadata": {},
     "output_type": "execute_result"
    },
    {
     "data": {
      "text/markdown": [
       "${}\\frac{1}{2}\\partial_{c}{g_{b a}} - \\frac{1}{2}\\partial_{c}{g_{a b}}$"
      ]
     },
     "execution_count": 8,
     "metadata": {},
     "output_type": "execute_result"
    },
    {
     "data": {
      "text/markdown": [
       "${}0$"
      ]
     },
     "execution_count": 8,
     "metadata": {},
     "output_type": "execute_result"
    }
   ],
   "source": [
    "GammaU := \\Gamma^{a}_{b c} -> (1/2) g^{a d} (  \\partial_{b}{g_{d c}}\n",
    "                                             + \\partial_{c}{g_{b d}}\n",
    "                                             - \\partial_{d}{g_{b c}} );\n",
    "GammaD := \\Gamma_{a b c} -> g_{a d} \\Gamma^{d}_{b c};\n",
    "\n",
    "expr := \\Gamma_{a b c} + \\Gamma_{b a c} - \\partial_{c}{g_{a b}}.\n",
    "substitute(expr, GammaD);\n",
    "substitute(expr, GammaU);\n",
    "distribute(expr);\n",
    "eliminate_metric(expr);\n",
    "eliminate_kronecker (expr);\n",
    "canonicalise(expr);"
   ]
  },
  {
   "cell_type": "markdown",
   "metadata": {},
   "source": [
    "## Note on `substitute`\n",
    "Cadabra's `substitute` uses a generic rule to evaluate its algorithm. For example, as named rule (used above), or as a lambda function:"
   ]
  },
  {
   "cell_type": "code",
   "execution_count": 9,
   "metadata": {},
   "outputs": [
    {
     "data": {
      "text/markdown": [
       "${}A^{a b}-2B^{a} C^{b}$"
      ]
     },
     "execution_count": 9,
     "metadata": {},
     "output_type": "execute_result"
    },
    {
     "data": {
      "text/markdown": [
       "${}-B^{a} C^{b}$"
      ]
     },
     "execution_count": 9,
     "metadata": {},
     "output_type": "execute_result"
    }
   ],
   "source": [
    "example := A^{a b} - 2 B^{a} C^{b};\n",
    "substitute(example, $A^{a b} -> B^{a} C^{b}$);"
   ]
  },
  {
   "cell_type": "markdown",
   "metadata": {},
   "source": [
    "Note that the use of `->` and `=` in these expressions is equivalent, however they differ:\n",
    "- `=` must have the same indices LHS and RHS\n",
    "- `->` do not\n",
    "\n",
    "Rules can also be defined in lists:"
   ]
  },
  {
   "cell_type": "code",
   "execution_count": 10,
   "metadata": {},
   "outputs": [
    {
     "data": {
      "text/markdown": [
       "${}\\left[R \\rightarrow R_{a b} g^{a b},~ R_{a b} \\rightarrow R_{a c b d} g^{c d}  \\right]$"
      ]
     },
     "execution_count": 10,
     "metadata": {},
     "output_type": "execute_result"
    }
   ],
   "source": [
    "RFromGamma := { R -> R_{a b} g^{a b},\n",
    "                R_{a b} -> R_{a c b d} g^{c d} };"
   ]
  },
  {
   "cell_type": "markdown",
   "metadata": {},
   "source": [
    "And then applied with iterative calls to `substitute`:"
   ]
  },
  {
   "cell_type": "code",
   "execution_count": 11,
   "metadata": {},
   "outputs": [
    {
     "data": {
      "text/markdown": [
       "${}R$"
      ]
     },
     "execution_count": 11,
     "metadata": {},
     "output_type": "execute_result"
    },
    {
     "data": {
      "text/markdown": [
       "${}R_{a b} g^{a b}$"
      ]
     },
     "execution_count": 11,
     "metadata": {},
     "output_type": "execute_result"
    },
    {
     "data": {
      "text/markdown": [
       "${}R_{a c b d} g^{c d}   g^{a b}$"
      ]
     },
     "execution_count": 11,
     "metadata": {},
     "output_type": "execute_result"
    }
   ],
   "source": [
    "example2 := R;\n",
    "substitute(example2, RFromGamma);\n",
    "substitute(example2, RFromGamma);"
   ]
  },
  {
   "cell_type": "markdown",
   "metadata": {},
   "source": [
    "This can also be done by passing a keyword argument to `substitute`:"
   ]
  },
  {
   "cell_type": "code",
   "execution_count": 12,
   "metadata": {},
   "outputs": [
    {
     "data": {
      "text/markdown": [
       "${}R$"
      ]
     },
     "execution_count": 12,
     "metadata": {},
     "output_type": "execute_result"
    },
    {
     "data": {
      "text/markdown": [
       "${}R_{a c b d} g^{c d}   g^{a b}$"
      ]
     },
     "execution_count": 12,
     "metadata": {},
     "output_type": "execute_result"
    }
   ],
   "source": [
    "example2 := R;\n",
    "substitute(example2, RFromGamma, repeat=True);"
   ]
  },
  {
   "cell_type": "code",
   "execution_count": null,
   "metadata": {},
   "outputs": [],
   "source": []
  }
 ],
 "metadata": {
  "kernelspec": {
   "display_name": "Cadabra",
   "language": "python",
   "name": "cadabra"
  },
  "language_info": {
   "file_extension": ".cdb",
   "mimetype": "text/cadabra",
   "name": "cadabra",
   "version": "2.0.0"
  }
 },
 "nbformat": 4,
 "nbformat_minor": 4
}
