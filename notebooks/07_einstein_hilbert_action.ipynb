{
 "cells": [
  {
   "cell_type": "markdown",
   "metadata": {},
   "source": [
    "# Einstein-Hilbert action\n",
    "Let us derive the Einstein Field Equations, both in the absense and prescence of matter, from modified Einstein-Hilbert action."
   ]
  },
  {
   "cell_type": "markdown",
   "metadata": {},
   "source": [
    "## Definitions\n",
    "We begin with some precusory definitions:"
   ]
  },
  {
   "cell_type": "code",
   "execution_count": 1,
   "metadata": {},
   "outputs": [],
   "source": [
    "{a, b, c, d, e, f, g, h, i, j, k, l, m, n, o, p ,q, r, s, t, u#}::Indices(position=independent).\n",
    "g_{a b}::Metric.\n",
    "g^{a b}::InverseMetric.\n",
    "{g^{a}_{b}, g_{a}^{b}}::KroneckerDelta.\n",
    "\n",
    "\\dg{#}::LaTeXForm(\"\\delta g\")."
   ]
  },
  {
   "cell_type": "markdown",
   "metadata": {},
   "source": [
    "We use `::LaTeXForm` for variation variables, as performing substitutions and collections on a single tensor is easier. Furthermore, were these equations to be evaluated, it is benefitial to not use derivative terms on the LHS, as Cadabra support for such situations is limited.\n",
    "\n",
    "We define the derivative terms and symmetries of the Riemann connections:"
   ]
  },
  {
   "cell_type": "code",
   "execution_count": 2,
   "metadata": {},
   "outputs": [],
   "source": [
    "\\partial{#}::PartialDerivative.\n",
    "{\\nabla{#}, \\delta{#}}::Derivative.\n",
    "\n",
    " # don't use spaces in the indices array\n",
    "\\Gamma^{a}_{b c}::TableauSymmetry(shape={2}, indices={1,2}).\n",
    "\n",
    "\\dGamma{#}::LaTeXForm(\"\\delta \\Gamma\").\n",
    "\\dGamma^{a}_{b c}::TableauSymmetry(shape={2}, indices={1,2})."
   ]
  },
  {
   "cell_type": "markdown",
   "metadata": {},
   "source": [
    "We then define the Riemann and Ricci tensors, and the Ricci scalar:"
   ]
  },
  {
   "cell_type": "code",
   "execution_count": 3,
   "metadata": {},
   "outputs": [
    {
     "data": {
      "text/markdown": [
       "${}R^{a}\\,_{b c d} = \\partial_{c}{\\Gamma^{a}\\,_{b d}}-\\partial_{d}{\\Gamma^{a}\\,_{b c}}+\\Gamma^{e}\\,_{b d} \\Gamma^{a}\\,_{c e}-\\Gamma^{e}\\,_{b c} \\Gamma^{a}\\,_{d e}$"
      ]
     },
     "execution_count": 3,
     "metadata": {},
     "output_type": "execute_result"
    },
    {
     "data": {
      "text/markdown": [
       "${}R_{a b} = R^{f}\\,_{a f b}$"
      ]
     },
     "execution_count": 3,
     "metadata": {},
     "output_type": "execute_result"
    },
    {
     "data": {
      "text/markdown": [
       "${}R = g^{a b} R_{a b}$"
      ]
     },
     "execution_count": 3,
     "metadata": {},
     "output_type": "execute_result"
    }
   ],
   "source": [
    "Rabcd := R^{a}_{b c d} = \\partial_{c}{\\Gamma^{a}_{b d}}\n",
    "    - \\partial_{d}{\\Gamma^{a}_{b c}}\n",
    "    + \\Gamma^{e}_{b d} \\Gamma^{a}_{c e}\n",
    "    - \\Gamma^{e}_{b c} \\Gamma^{a}_{d e};\n",
    "\n",
    "Rab := R_{a b} = R^{f}_{a f b};\n",
    "\n",
    "Rscalar := R = g^{a b}R_{a b};"
   ]
  },
  {
   "cell_type": "markdown",
   "metadata": {},
   "source": [
    "## Varying compontents\n",
    "To compute the overal variation of an action, we need to know how the constituent components change."
   ]
  },
  {
   "cell_type": "markdown",
   "metadata": {},
   "source": [
    "### Variation of the metric:\n",
    "This result follows from [Jacobi's formula](https://en.wikipedia.org/wiki/Jacobi%27s_formula), which, given as a result for the metric, is easier just to hard code than rederive.\n",
    "\n",
    "We also include short hands for the determinant of the metric, and the variation of the determinant."
   ]
  },
  {
   "cell_type": "code",
   "execution_count": 4,
   "metadata": {
    "scrolled": true
   },
   "outputs": [
    {
     "data": {
      "text/markdown": [
       "${}\\delta \\sqrt{\\left| g \\right|} =  - \\frac{1}{2}\\sqrt{\\left| g \\right|} g_{a b} \\delta g^{a b}$"
      ]
     },
     "execution_count": 4,
     "metadata": {},
     "output_type": "execute_result"
    }
   ],
   "source": [
    "\\detm::LaTeXForm(\"\\sqrt{\\left| g \\right|}\").\n",
    "\\ddetm::LaTeXForm(\"\\delta \\sqrt{\\left| g \\right|}\").\n",
    "vmetric := \\ddetm = \\frac{-1}{2} \\detm g_{a b} \\dg^{a b});"
   ]
  },
  {
   "cell_type": "markdown",
   "metadata": {},
   "source": [
    "### Variation of the Ricci Scalar\n",
    "We begin by calculating the variation of the Riemann tensor, with the intention of contracting the result:"
   ]
  },
  {
   "cell_type": "code",
   "execution_count": 5,
   "metadata": {},
   "outputs": [
    {
     "data": {
      "text/markdown": [
       "${}R^{a}\\,_{b c d} = \\partial_{c}{\\Gamma^{a}\\,_{b d}}-\\partial_{d}{\\Gamma^{a}\\,_{b c}}+\\Gamma^{e}\\,_{b d} \\Gamma^{a}\\,_{c e}-\\Gamma^{e}\\,_{b c} \\Gamma^{a}\\,_{d e}$"
      ]
     },
     "execution_count": 5,
     "metadata": {},
     "output_type": "execute_result"
    },
    {
     "data": {
      "text/markdown": [
       "${}\\delta R^{a}\\,_{b c d} = \\partial_{c}{\\delta \\Gamma^{a}\\,_{b d}}-\\partial_{d}{\\delta \\Gamma^{a}\\,_{b c}}+\\delta \\Gamma^{e}\\,_{b d} \\Gamma^{a}\\,_{c e}+\\Gamma^{e}\\,_{b d} \\delta \\Gamma^{a}\\,_{c e}-\\delta \\Gamma^{e}\\,_{b c} \\Gamma^{a}\\,_{d e}-\\Gamma^{e}\\,_{b c} \\delta \\Gamma^{a}\\,_{d e}$"
      ]
     },
     "execution_count": 5,
     "metadata": {},
     "output_type": "execute_result"
    }
   ],
   "source": [
    "expr := @(Rabcd);\n",
    "\n",
    "\\dR{#}::LaTeXForm(\"\\delta R\").\n",
    "\n",
    "variations := {\n",
    "    R^{a}_{b c d} -> \\dR^{a}_{b c d}, \n",
    "    \\Gamma^{a}_{b c} -> \\dGamma^{a}_{b c}\n",
    "}.\n",
    "vary(expr, variations);"
   ]
  },
  {
   "cell_type": "markdown",
   "metadata": {},
   "source": [
    "Next we will calculate the covariant derivative of the connections. We can already begin to see in the variation of the Riemann tensor that terms constructed from the covariant derivative exist, and all we wish to do is substitute where appropriate.\n",
    "\n",
    "With help of the `cdb.core.manip` library, we can manipulate equations in a more conventional sense -- we will use this to balance and multiply by terms."
   ]
  },
  {
   "cell_type": "code",
   "execution_count": 6,
   "metadata": {},
   "outputs": [
    {
     "data": {
      "text/markdown": [
       "${}\\nabla_{d}{\\delta \\Gamma^{a}\\,_{b c}} = \\partial_{d}{\\delta \\Gamma^{a}\\,_{b c}}+\\Gamma^{a}\\,_{d e} \\delta \\Gamma^{e}\\,_{b c}-\\Gamma^{e}\\,_{b d} \\delta \\Gamma^{a}\\,_{e c}-\\Gamma^{e}\\,_{d c} \\delta \\Gamma^{a}\\,_{b e}$"
      ]
     },
     "execution_count": 6,
     "metadata": {},
     "output_type": "execute_result"
    },
    {
     "data": {
      "text/markdown": [
       "${}\\partial_{d}{\\delta \\Gamma^{a}\\,_{b c}} = -\\Gamma^{a}\\,_{d e} \\delta \\Gamma^{e}\\,_{b c}+\\Gamma^{e}\\,_{b d} \\delta \\Gamma^{a}\\,_{e c}+\\Gamma^{e}\\,_{d c} \\delta \\Gamma^{a}\\,_{b e}+\\nabla_{d}{\\delta \\Gamma^{a}\\,_{b c}}$"
      ]
     },
     "execution_count": 6,
     "metadata": {},
     "output_type": "execute_result"
    }
   ],
   "source": [
    "import cdb.core.manip as manip\n",
    "\n",
    "DGamma := \\nabla_{d}(\\dGamma^{a}_{b c}) =\n",
    "    \\partial_{d}{\\dGamma^{a}_{b c}}\n",
    "    + \\Gamma^{a}_{d e}\\dGamma^{e}_{b c}\n",
    "    - \\Gamma^{e}_{b d}\\dGamma^{a}_{e c}\n",
    "    - \\Gamma^{e}_{d c}\\dGamma^{a}_{b e};\n",
    "    \n",
    "DGamma = manip.to_rhs(DGamma, $\\nabla_{d}(A??)$)\n",
    "DGamma = manip.to_lhs(DGamma, $\\partial_{d}(A??)$)\n",
    "DGamma = manip.multiply_through(DGamma, $-1$);"
   ]
  },
  {
   "cell_type": "markdown",
   "metadata": {},
   "source": [
    "We use `sort_product` to ensure that the expression is sorted before we perform any substitutions: if this is omitted, Cadabra may not be able to identify all symmetries in the `meld` expression. \n",
    "\n",
    "A general *rule-of-thumb* is to call `sort_product` before performing a simplfication in general, as it only rearranges the expression and performs no other change."
   ]
  },
  {
   "cell_type": "code",
   "execution_count": 7,
   "metadata": {},
   "outputs": [
    {
     "data": {
      "text/markdown": [
       "${}\\delta R^{a}\\,_{b c d} = \\partial_{c}{\\delta \\Gamma^{a}\\,_{b d}}-\\partial_{d}{\\delta \\Gamma^{a}\\,_{b c}}+\\Gamma^{a}\\,_{c e} \\delta \\Gamma^{e}\\,_{b d}+\\Gamma^{e}\\,_{b d} \\delta \\Gamma^{a}\\,_{c e}-\\Gamma^{a}\\,_{d e} \\delta \\Gamma^{e}\\,_{b c}-\\Gamma^{e}\\,_{b c} \\delta \\Gamma^{a}\\,_{d e}$"
      ]
     },
     "execution_count": 7,
     "metadata": {},
     "output_type": "execute_result"
    },
    {
     "data": {
      "text/markdown": [
       "${}\\delta R^{a}\\,_{b c d} = \\Gamma^{e}\\,_{b c} \\delta \\Gamma^{a}\\,_{e d}+\\Gamma^{e}\\,_{c d} \\delta \\Gamma^{a}\\,_{b e}+\\nabla_{c}{\\delta \\Gamma^{a}\\,_{b d}}-\\Gamma^{e}\\,_{b d} \\delta \\Gamma^{a}\\,_{e c}-\\Gamma^{e}\\,_{d c} \\delta \\Gamma^{a}\\,_{b e}-\\nabla_{d}{\\delta \\Gamma^{a}\\,_{b c}}+\\Gamma^{e}\\,_{b d} \\delta \\Gamma^{a}\\,_{c e}-\\Gamma^{e}\\,_{b c} \\delta \\Gamma^{a}\\,_{d e}$"
      ]
     },
     "execution_count": 7,
     "metadata": {},
     "output_type": "execute_result"
    },
    {
     "data": {
      "text/markdown": [
       "${}\\delta R^{a}\\,_{b c d} = \\nabla_{c}{\\delta \\Gamma^{a}\\,_{b d}}-\\nabla_{d}{\\delta \\Gamma^{a}\\,_{b c}}$"
      ]
     },
     "execution_count": 7,
     "metadata": {},
     "output_type": "execute_result"
    }
   ],
   "source": [
    "sort_product(expr);\n",
    "substitute(expr, DGamma);\n",
    "meld(expr);"
   ]
  },
  {
   "cell_type": "markdown",
   "metadata": {},
   "source": [
    "Now we find the so-called Palatini identity by substituting the expression in the contraction for the Ricci scalar, varied on both sides:"
   ]
  },
  {
   "cell_type": "code",
   "execution_count": 8,
   "metadata": {},
   "outputs": [
    {
     "data": {
      "text/markdown": [
       "${}\\delta R_{c b} = \\delta R^{a}\\,_{c a b}$"
      ]
     },
     "execution_count": 8,
     "metadata": {},
     "output_type": "execute_result"
    },
    {
     "data": {
      "text/markdown": [
       "${}\\delta R_{c b} = \\nabla_{a}{\\delta \\Gamma^{a}\\,_{c b}}-\\nabla_{b}{\\delta \\Gamma^{a}\\,_{c a}}$"
      ]
     },
     "execution_count": 8,
     "metadata": {},
     "output_type": "execute_result"
    }
   ],
   "source": [
    "palatini := \\dR_{c b} = \\dR^{a}_{c a b};\n",
    "substitute(palatini, expr);"
   ]
  },
  {
   "cell_type": "markdown",
   "metadata": {},
   "source": [
    "### Scalar variation\n",
    "We now wish to vary the Ricci scalar, for which we apply much the same prescription:"
   ]
  },
  {
   "cell_type": "code",
   "execution_count": 9,
   "metadata": {},
   "outputs": [
    {
     "data": {
      "text/markdown": [
       "${}\\delta R = \\delta g^{a b} R_{a b}+g^{a b} \\delta R_{a b}$"
      ]
     },
     "execution_count": 9,
     "metadata": {},
     "output_type": "execute_result"
    },
    {
     "data": {
      "text/markdown": [
       "${}\\delta R = \\delta g^{a b} R_{a b}+g^{a b} \\left(\\nabla_{c}{\\delta \\Gamma^{c}\\,_{a b}}-\\nabla_{b}{\\delta \\Gamma^{c}\\,_{a c}}\\right)$"
      ]
     },
     "execution_count": 9,
     "metadata": {},
     "output_type": "execute_result"
    },
    {
     "data": {
      "text/markdown": [
       "${}\\delta R = R_{a b} \\delta g^{a b}+\\nabla_{c}{\\delta \\Gamma^{c}\\,_{a b}} g^{a b}-\\nabla_{b}{\\delta \\Gamma^{c}\\,_{a c}} g^{a b}$"
      ]
     },
     "execution_count": 9,
     "metadata": {},
     "output_type": "execute_result"
    }
   ],
   "source": [
    "scalar := @(Rscalar).\n",
    "variations := {\n",
    "    R -> \\dR,\n",
    "    R_{a b} -> \\dR_{a b},\n",
    "    g^{a b} -> \\dg^{a b}\n",
    "}.\n",
    "vary(scalar, variations);\n",
    "substitute(scalar, palatini);\n",
    "distribute(scalar)\n",
    "sort_product(scalar);"
   ]
  },
  {
   "cell_type": "markdown",
   "metadata": {},
   "source": [
    "We make a substitution, using the general result that $\\nabla_c g^{a b} = 0$:"
   ]
  },
  {
   "cell_type": "code",
   "execution_count": 10,
   "metadata": {},
   "outputs": [
    {
     "data": {
      "text/markdown": [
       "${}\\delta R = R_{a b} \\delta g^{a b}+\\nabla_{c}\\left(g^{a b} \\delta \\Gamma^{c}\\,_{a b}\\right)-\\nabla_{b}\\left(g^{a b} \\delta \\Gamma^{c}\\,_{a c}\\right)$"
      ]
     },
     "execution_count": 10,
     "metadata": {},
     "output_type": "execute_result"
    }
   ],
   "source": [
    "covG := \\nabla_{a}{A??}g^{b c} -> \\nabla_{a}(g^{b c}A??).\n",
    "substitute(scalar, covG);"
   ]
  },
  {
   "cell_type": "markdown",
   "metadata": {},
   "source": [
    "## Vacuum action\n",
    "We use the vacuum Einstein-Hilbert action in the absense of any additional fields or cosmological constant:"
   ]
  },
  {
   "cell_type": "code",
   "execution_count": 11,
   "metadata": {},
   "outputs": [
    {
     "data": {
      "text/markdown": [
       "${}S = \\int \\sqrt{\\left| g \\right|} R\\,\\,{\\rm d}x$"
      ]
     },
     "execution_count": 11,
     "metadata": {},
     "output_type": "execute_result"
    },
    {
     "data": {
      "text/markdown": [
       "${}\\delta S = \\int \\left(\\delta \\sqrt{\\left| g \\right|} R+\\sqrt{\\left| g \\right|} \\delta R\\right)\\,\\,{\\rm d}x$"
      ]
     },
     "execution_count": 11,
     "metadata": {},
     "output_type": "execute_result"
    },
    {
     "data": {
      "text/markdown": [
       "${}\\delta S = \\int \\left( - \\frac{1}{2}\\sqrt{\\left| g \\right|} g_{a b} \\delta g^{a b} R+\\sqrt{\\left| g \\right|} \\delta R\\right)\\,\\,{\\rm d}x$"
      ]
     },
     "execution_count": 11,
     "metadata": {},
     "output_type": "execute_result"
    },
    {
     "data": {
      "text/markdown": [
       "${}\\delta S = \\int \\left( - \\frac{1}{2}\\sqrt{\\left| g \\right|} g_{a b} \\delta g^{a b} R+\\sqrt{\\left| g \\right|} \\left(R_{a b} \\delta g^{a b}+\\nabla_{c}\\left(g^{a b} \\delta \\Gamma^{c}\\,_{a b}\\right)-\\nabla_{b}\\left(g^{a b} \\delta \\Gamma^{c}\\,_{a c}\\right)\\right)\\right)\\,\\,{\\rm d}x$"
      ]
     },
     "execution_count": 11,
     "metadata": {},
     "output_type": "execute_result"
    },
    {
     "data": {
      "text/markdown": [
       "${}\\delta S = \\int \\left(\\sqrt{\\left| g \\right|} \\delta g^{a b} \\left( - \\frac{1}{2}g_{a b} R+R_{a b}\\right)+\\sqrt{\\left| g \\right|} \\left(\\nabla_{a}\\left(g^{b c} \\delta \\Gamma^{a}\\,_{b c}\\right)-\\nabla_{c}\\left(g^{b c} \\delta \\Gamma^{a}\\,_{b a}\\right)\\right)\\right)\\,\\,{\\rm d}x$"
      ]
     },
     "execution_count": 11,
     "metadata": {},
     "output_type": "execute_result"
    }
   ],
   "source": [
    "action := S = \\int{\\detm R}{x};\n",
    "\n",
    "\\dS::LaTeXForm(\"\\delta S\").\n",
    "\n",
    "variations := {\n",
    "    S -> \\dS,\n",
    "    R -> \\dR,\n",
    "    \\detm -> \\ddetm\n",
    "}.\n",
    "vary(action, variations);\n",
    "\n",
    "substitute(action, vmetric);\n",
    "substitute(action, scalar);\n",
    "\n",
    "distribute(action)\n",
    "rename_dummies(action)\n",
    "factor_out(action, $\\dg^{a b}, \\detm$);"
   ]
  },
  {
   "cell_type": "markdown",
   "metadata": {},
   "source": [
    "Terms proportional to $\\delta g^{a b}$ are the Vacuum Einstein Field Equations, the rest is a total derivative.\n",
    "\n",
    "We select the component to rewrite it in the conventional sense:"
   ]
  },
  {
   "cell_type": "code",
   "execution_count": 12,
   "metadata": {},
   "outputs": [
    {
     "data": {
      "text/markdown": [
       "${}0 =  - \\frac{1}{2}g_{a b} R+R_{a b}$"
      ]
     },
     "execution_count": 12,
     "metadata": {},
     "output_type": "execute_result"
    }
   ],
   "source": [
    "vac = action[1][0][0][2]\n",
    "vac := 0 = @(vac);"
   ]
  },
  {
   "cell_type": "markdown",
   "metadata": {},
   "source": [
    "And show that $R=0$ by contraction with the metric:"
   ]
  },
  {
   "cell_type": "code",
   "execution_count": 13,
   "metadata": {},
   "outputs": [
    {
     "data": {
      "text/markdown": [
       "${}0 =  - \\frac{1}{2}g^{a b} g_{a b} R+g^{a b} R_{a b}$"
      ]
     },
     "execution_count": 13,
     "metadata": {},
     "output_type": "execute_result"
    },
    {
     "data": {
      "text/markdown": [
       "${}0 =  - \\frac{1}{2}g^{b}\\,_{b} R+R^{b}\\,_{b}$"
      ]
     },
     "execution_count": 13,
     "metadata": {},
     "output_type": "execute_result"
    },
    {
     "data": {
      "text/markdown": [
       "${}0 = -R$"
      ]
     },
     "execution_count": 13,
     "metadata": {},
     "output_type": "execute_result"
    },
    {
     "data": {
      "text/markdown": [
       "${}R = 0$"
      ]
     },
     "execution_count": 13,
     "metadata": {},
     "output_type": "execute_result"
    }
   ],
   "source": [
    "vac2 := @(vac).\n",
    "manip.multiply_through(vac2, $g^{a b}$)\n",
    "distribute(vac2);\n",
    "eliminate_metric(vac2);\n",
    "substitute(vac2, $R^{a}_{a} -> R, g^{a}_{a} -> 4$);\n",
    "vac2 = manip.swap_sides(vac2)\n",
    "vac2 = manip.multiply_through(vac2, $-1$);"
   ]
  },
  {
   "cell_type": "markdown",
   "metadata": {},
   "source": [
    "We can now state the equations in the canonical form:"
   ]
  },
  {
   "cell_type": "code",
   "execution_count": 14,
   "metadata": {},
   "outputs": [
    {
     "data": {
      "text/markdown": [
       "${}R_{a b} = 0$"
      ]
     },
     "execution_count": 14,
     "metadata": {},
     "output_type": "execute_result"
    }
   ],
   "source": [
    "substitute(vac, vac2)\n",
    "vac = manip.swap_sides(vac);"
   ]
  },
  {
   "cell_type": "markdown",
   "metadata": {},
   "source": [
    "## Adding matter field\n",
    "We modify our action to include a matter field, and the Einstein gravitational constant $\\kappa = 8\\pi G$:"
   ]
  },
  {
   "cell_type": "code",
   "execution_count": 15,
   "metadata": {},
   "outputs": [
    {
     "data": {
      "text/markdown": [
       "${}S = \\int \\sqrt{\\left| g \\right|} \\left(\\frac{1}{2}{\\kappa}^{-1} R+\\mathcal{L}_{\\text{mat}}\\right)\\,\\,{\\rm d}x$"
      ]
     },
     "execution_count": 15,
     "metadata": {},
     "output_type": "execute_result"
    }
   ],
   "source": [
    "\\matter::LaTeXForm(\"\\mathcal{L}_{\\text{mat}}\").\n",
    "\\dmatter::LaTeXForm(\"\\delta \\mathcal{L}_{\\text{mat}}\").\n",
    "action := S = \\int{\\detm ( \\frac{1}{2 \\kappa} R + \\matter ) }{x};"
   ]
  },
  {
   "cell_type": "markdown",
   "metadata": {},
   "source": [
    "### Energy-Momentum tensor\n",
    "This is another result which is easier to hardcode, and the modify for our needs:"
   ]
  },
  {
   "cell_type": "code",
   "execution_count": 16,
   "metadata": {
    "scrolled": true
   },
   "outputs": [
    {
     "data": {
      "text/markdown": [
       "${}\\sqrt{\\left| g \\right|} T_{a b} \\delta g^{a b} = -2\\delta\\left(\\sqrt{\\left| g \\right|} \\mathcal{L}_{\\text{mat}}\\right)$"
      ]
     },
     "execution_count": 16,
     "metadata": {},
     "output_type": "execute_result"
    },
    {
     "data": {
      "text/markdown": [
       "${}\\sqrt{\\left| g \\right|} T_{a b} \\delta g^{a b} = -2\\delta{\\sqrt{\\left| g \\right|}} \\mathcal{L}_{\\text{mat}}-2\\sqrt{\\left| g \\right|} \\delta{\\mathcal{L}_{\\text{mat}}}$"
      ]
     },
     "execution_count": 16,
     "metadata": {},
     "output_type": "execute_result"
    },
    {
     "data": {
      "text/markdown": [
       "${}\\sqrt{\\left| g \\right|} g_{a b} \\delta g^{a b} \\mathcal{L}_{\\text{mat}}-2\\sqrt{\\left| g \\right|} \\delta \\mathcal{L}_{\\text{mat}} = \\sqrt{\\left| g \\right|} T_{a b} \\delta g^{a b}$"
      ]
     },
     "execution_count": 16,
     "metadata": {},
     "output_type": "execute_result"
    }
   ],
   "source": [
    "emTensor := \\detm T_{a b} \\dg^{a b} = -2 \\delta(\\detm \\matter);\n",
    "product_rule(emTensor)\n",
    "distribute(emTensor);\n",
    "\n",
    "rename := {\n",
    "    \\delta(\\detm) -> \\ddetm, \n",
    "    \\delta(\\matter) -> \\dmatter\n",
    "}.\n",
    "substitute(emTensor, rename)\n",
    "substitute(emTensor, vmetric)\n",
    "emTensor = manip.swap_sides(emTensor);"
   ]
  },
  {
   "cell_type": "markdown",
   "metadata": {},
   "source": [
    "Using the identical prescription as in the vacuum case, we now vary the action and substitute terms:"
   ]
  },
  {
   "cell_type": "code",
   "execution_count": 17,
   "metadata": {},
   "outputs": [
    {
     "data": {
      "text/markdown": [
       "${}S = \\int \\sqrt{\\left| g \\right|} \\left(\\frac{1}{2}{\\kappa}^{-1} R+\\mathcal{L}_{\\text{mat}}\\right)\\,\\,{\\rm d}x$"
      ]
     },
     "execution_count": 17,
     "metadata": {},
     "output_type": "execute_result"
    },
    {
     "data": {
      "text/markdown": [
       "${}\\delta S = \\int \\left(\\delta \\sqrt{\\left| g \\right|} \\left(\\frac{1}{2}{\\kappa}^{-1} R+\\mathcal{L}_{\\text{mat}}\\right)+\\sqrt{\\left| g \\right|} \\left(\\frac{1}{2}{\\kappa}^{-1} \\delta R+\\delta \\mathcal{L}_{\\text{mat}}\\right)\\right)\\,\\,{\\rm d}x$"
      ]
     },
     "execution_count": 17,
     "metadata": {},
     "output_type": "execute_result"
    },
    {
     "data": {
      "text/markdown": [
       "${}\\delta S = \\int \\left(\\sqrt{\\left| g \\right|} \\delta g^{a b} \\left( - \\frac{1}{4}g_{a b} {\\kappa}^{-1} R - \\frac{1}{2}T_{a b}+\\frac{1}{2}{\\kappa}^{-1} R_{a b}\\right)+\\sqrt{\\left| g \\right|} \\left(\\frac{1}{2}{\\kappa}^{-1} \\nabla_{a}\\left(g^{b c} \\delta \\Gamma^{a}\\,_{b c}\\right) - \\frac{1}{2}{\\kappa}^{-1} \\nabla_{c}\\left(g^{b c} \\delta \\Gamma^{a}\\,_{b a}\\right)\\right)\\right)\\,\\,{\\rm d}x$"
      ]
     },
     "execution_count": 17,
     "metadata": {},
     "output_type": "execute_result"
    }
   ],
   "source": [
    "action := S = \\int{\\detm ( \\frac{1}{2 \\kappa} R + \\matter ) }{x};\n",
    "\n",
    "variations := {\n",
    "    S -> \\dS,\n",
    "    R -> \\dR,\n",
    "    \\detm -> \\ddetm,\n",
    "    \\matter -> \\dmatter\n",
    "}.\n",
    "vary(action, variations);\n",
    "\n",
    "substitute(action, vmetric)\n",
    "substitute(action, scalar)\n",
    "distribute(action)\n",
    "substitute(action, emTensor)\n",
    "\n",
    "distribute(action)\n",
    "rename_dummies(action)\n",
    "factor_out(action, $\\dg^{a b}, \\detm$);"
   ]
  },
  {
   "cell_type": "markdown",
   "metadata": {},
   "source": [
    "Select the component we are interested in, namely mulitples of $\\delta g^{a b}$, and use the definition \n",
    "$$\n",
    "G_{a b} = R_{a b} - \\frac{1}{2}g_{a b} R.\n",
    "$$"
   ]
  },
  {
   "cell_type": "code",
   "execution_count": 18,
   "metadata": {},
   "outputs": [
    {
     "data": {
      "text/markdown": [
       "${}0 =  - \\frac{1}{2}g_{a b} R-\\kappa T_{a b}+R_{a b}$"
      ]
     },
     "execution_count": 18,
     "metadata": {},
     "output_type": "execute_result"
    },
    {
     "data": {
      "text/markdown": [
       "${}0 = -\\kappa T_{a b}+G_{a b}$"
      ]
     },
     "execution_count": 18,
     "metadata": {},
     "output_type": "execute_result"
    },
    {
     "data": {
      "text/markdown": [
       "${}G_{a b} = \\kappa T_{a b}$"
      ]
     },
     "execution_count": 18,
     "metadata": {},
     "output_type": "execute_result"
    }
   ],
   "source": [
    "efe = action[1][0][0][2]\n",
    "efe := 0 = 2 \\kappa @(efe).\n",
    "distribute(efe)\n",
    "collect_factors(efe);\n",
    "substitute(efe, $R_{a b} - \\frac{1}{2}g_{a b} R -> G_{a b}$);\n",
    "manip.to_lhs(efe, $G_{a b}$)\n",
    "manip.multiply_through(efe, $-1$);"
   ]
  }
 ],
 "metadata": {
  "kernelspec": {
   "display_name": "Cadabra",
   "language": "python",
   "name": "cadabra"
  },
  "language_info": {
   "file_extension": ".cdb",
   "mimetype": "text/cadabra",
   "name": "cadabra",
   "version": "2.0.0"
  }
 },
 "nbformat": 4,
 "nbformat_minor": 4
}
