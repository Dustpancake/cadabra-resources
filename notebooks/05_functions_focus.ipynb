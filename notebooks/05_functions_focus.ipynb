{
 "cells": [
  {
   "cell_type": "markdown",
   "metadata": {},
   "source": [
    "# Functions in Cadabra\n",
    "Cadabra is implemented in C++, however builds on the Python language -- as a result, python syntax is completely supported. \n",
    "\n",
    "We write Cadabra functions just as we would Python functions:"
   ]
  },
  {
   "cell_type": "code",
   "execution_count": 1,
   "metadata": {},
   "outputs": [],
   "source": [
    "def truncate(poly, n):\n",
    "    x^{a}::Weight(label=\\epsilon).\n",
    "    \n",
    "    ans = Ex(\"0\")\n",
    "    \n",
    "    for i in range(0, n+1):\n",
    "        foo := @(poly).\n",
    "        bah = Ex(f\"\\epsilon = {i}\")\n",
    "        keep_weight(foo, bah)\n",
    "    \n",
    "        ans = ans + foo\n",
    "    return ans"
   ]
  },
  {
   "cell_type": "markdown",
   "metadata": {},
   "source": [
    "And similiarly call them just as we would in Python:"
   ]
  },
  {
   "cell_type": "code",
   "execution_count": 2,
   "metadata": {},
   "outputs": [
    {
     "data": {
      "text/markdown": [
       "${}c^{a}+c^{a}\\,_{b} x^{b}+c^{a}\\,_{b c} x^{b} x^{c}+c^{a}\\,_{b c d} x^{b} x^{c} x^{d}+c^{a}\\,_{b c d e} x^{b} x^{c} x^{d} x^{e}$"
      ]
     },
     "execution_count": 2,
     "metadata": {},
     "output_type": "execute_result"
    },
    {
     "data": {
      "text/markdown": [
       "${}c^{a}+c^{a}\\,_{b} x^{b}+c^{a}\\,_{b c} x^{b} x^{c}$"
      ]
     },
     "execution_count": 2,
     "metadata": {},
     "output_type": "execute_result"
    }
   ],
   "source": [
    "quartic := c^{a}\n",
    "    + c^{a}_{b} x^b\n",
    "    + c^{a}_{b c} x^b x^c\n",
    "    + c^{a}_{b c d} x^b x^c x^d\n",
    "    + c^{a}_{b c d e} x^b x^c x^d x^e;\n",
    "\n",
    "truncate(quartic, 2);"
   ]
  },
  {
   "cell_type": "markdown",
   "metadata": {},
   "source": [
    "# Zooming and tags\n",
    "When working on an expression, you may wish to at times apply a substitution or simplficiation only to a given section of the whole. To facilitate this, Cadabra provides the notion of *zooms* and *tags*."
   ]
  },
  {
   "cell_type": "markdown",
   "metadata": {},
   "source": [
    "## `zoom` and `unzoom`\n",
    "Say we wanted to replace the second $v^a$ with a $w^a$ in the expression\n",
    "\n",
    "$$\n",
    "A_{a} v^{a} + B_{a} v^{a} + C_{a} v^{a}.\n",
    "$$\n",
    "\n",
    "To do this, we use `zoom` and `unzoom`:"
   ]
  },
  {
   "cell_type": "code",
   "execution_count": 3,
   "metadata": {},
   "outputs": [
    {
     "data": {
      "text/markdown": [
       "${}A_{a} v^{a}+B_{a} v^{a}+C_{a} v^{a}$"
      ]
     },
     "execution_count": 3,
     "metadata": {},
     "output_type": "execute_result"
    },
    {
     "data": {
      "text/markdown": [
       "${} \\ldots +B_{a} v^{a}+ \\ldots $"
      ]
     },
     "execution_count": 3,
     "metadata": {},
     "output_type": "execute_result"
    },
    {
     "data": {
      "text/markdown": [
       "${} \\ldots +B_{a} w^{a}+ \\ldots $"
      ]
     },
     "execution_count": 3,
     "metadata": {},
     "output_type": "execute_result"
    },
    {
     "data": {
      "text/markdown": [
       "${}A_{a} v^{a}+B_{a} w^{a}+C_{a} v^{a}$"
      ]
     },
     "execution_count": 3,
     "metadata": {},
     "output_type": "execute_result"
    }
   ],
   "source": [
    "expr := A_{a} v^{a} + B_{a} v^{a} + C_{a} v^{a};\n",
    "\n",
    "zoom(expr, $B_{a} Q??$);\n",
    "substitute(expr, $v^{a} -> w^{a}$);\n",
    "unzoom(expr);"
   ]
  },
  {
   "cell_type": "markdown",
   "metadata": {},
   "source": [
    "We use the generic pattern match `Q??`, which will match any arbitrary expression composed of sums and/or products of arbitrary tensors."
   ]
  },
  {
   "cell_type": "markdown",
   "metadata": {},
   "source": [
    "## Tagging \n",
    "As a somewhat contrived example, let us consider an anti-symmetric tensor $V_{ab}$ and work on the expression"
   ]
  },
  {
   "cell_type": "code",
   "execution_count": 4,
   "metadata": {},
   "outputs": [
    {
     "data": {
      "text/markdown": [
       "${}2V_{a b}-3V_{b a}$"
      ]
     },
     "execution_count": 4,
     "metadata": {},
     "output_type": "execute_result"
    }
   ],
   "source": [
    "expr := 2 V_{a b} - 3 V_{b a}; "
   ]
  },
  {
   "cell_type": "markdown",
   "metadata": {},
   "source": [
    "We could assign the `::AntiSymmetric` property to $V_{ab}$ and use `canonicalise`, however for illustrative purposes, let us solve this using the notion of `tag`. We define two functions:"
   ]
  },
  {
   "cell_type": "code",
   "execution_count": 5,
   "metadata": {},
   "outputs": [],
   "source": [
    "def add_tags(obj, tag):\n",
    "    n = 0\n",
    "    ans = Ex(\"0\")\n",
    "    for i in obj.top().terms():\n",
    "        foo = obj[i]\n",
    "        bah = Ex(tag + \"_{\" + str(n) + \"}\")\n",
    "        ans := @(ans) + @(bah)@(foo).\n",
    "        n += 1\n",
    "    return ans\n",
    "    \n",
    "def clear_tags(obj, tag):\n",
    "    ans := @(obj).\n",
    "    foo = Ex(tag + \"_{a?} -> 1\")\n",
    "    substitute(ans, foo)\n",
    "    return ans"
   ]
  },
  {
   "cell_type": "markdown",
   "metadata": {},
   "source": [
    "And use them as such:"
   ]
  },
  {
   "cell_type": "code",
   "execution_count": 6,
   "metadata": {},
   "outputs": [
    {
     "data": {
      "text/markdown": [
       "${}2\\mu_{0} V_{a b}-3\\mu_{1} V_{b a}$"
      ]
     },
     "execution_count": 6,
     "metadata": {},
     "output_type": "execute_result"
    },
    {
     "data": {
      "text/markdown": [
       "${} \\ldots -3\\mu_{1} V_{b a}$"
      ]
     },
     "execution_count": 6,
     "metadata": {},
     "output_type": "execute_result"
    },
    {
     "data": {
      "text/markdown": [
       "${} \\ldots +3\\mu_{1} V_{a b}$"
      ]
     },
     "execution_count": 6,
     "metadata": {},
     "output_type": "execute_result"
    },
    {
     "data": {
      "text/markdown": [
       "${}2\\mu_{0} V_{a b}+3\\mu_{1} V_{a b}$"
      ]
     },
     "execution_count": 6,
     "metadata": {},
     "output_type": "execute_result"
    },
    {
     "data": {
      "text/markdown": [
       "${}5V_{a b}$"
      ]
     },
     "execution_count": 6,
     "metadata": {},
     "output_type": "execute_result"
    }
   ],
   "source": [
    "expr = add_tags(expr, '\\\\mu');\n",
    "\n",
    "zoom(expr, $\\mu_{1} Q??$);\n",
    "substitute(expr, $V_{a b} -> - V_{b a}$);\n",
    "unzoom(expr);\n",
    "\n",
    "expr = clear_tags(expr,'\\\\mu');"
   ]
  }
 ],
 "metadata": {
  "kernelspec": {
   "display_name": "Cadabra",
   "language": "python",
   "name": "cadabra"
  },
  "language_info": {
   "file_extension": ".cdb",
   "mimetype": "text/cadabra",
   "name": "cadabra",
   "version": "2.0.0"
  }
 },
 "nbformat": 4,
 "nbformat_minor": 4
}
